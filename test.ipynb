{
 "cells": [
  {
   "cell_type": "code",
   "execution_count": 1,
   "metadata": {},
   "outputs": [],
   "source": [
    "from itertools import chain"
   ]
  },
  {
   "cell_type": "code",
   "execution_count": 2,
   "metadata": {},
   "outputs": [
    {
     "data": {
      "text/plain": [
       "[1, 2, 3, 4, 5]"
      ]
     },
     "execution_count": 2,
     "metadata": {},
     "output_type": "execute_result"
    }
   ],
   "source": [
    "l1 = [1, 2, 3, 4, 5, 6]\n",
    "l2 = [[1, 2], [3, 4], [5]]\n",
    "\n",
    "list(chain.from_iterable(l2))"
   ]
  },
  {
   "cell_type": "code",
   "execution_count": 23,
   "metadata": {},
   "outputs": [],
   "source": [
    "l0 = list()"
   ]
  },
  {
   "cell_type": "code",
   "execution_count": 35,
   "metadata": {},
   "outputs": [
    {
     "data": {
      "text/plain": [
       "[[1, 2],\n",
       " [3, 4],\n",
       " [5],\n",
       " [1, 2],\n",
       " [3, 4],\n",
       " [5],\n",
       " [1, 2],\n",
       " [3, 4],\n",
       " [5],\n",
       " [1, 2],\n",
       " [3, 4],\n",
       " [5],\n",
       " [1, 2],\n",
       " [3, 4],\n",
       " [5],\n",
       " [1, 2],\n",
       " [3, 4],\n",
       " [5],\n",
       " [1, 2],\n",
       " [3, 4],\n",
       " [5],\n",
       " [1, 2],\n",
       " [3, 4],\n",
       " [5],\n",
       " [1, 2],\n",
       " [3, 4],\n",
       " [5],\n",
       " [1, 2],\n",
       " [3, 4],\n",
       " [5],\n",
       " [1, 2],\n",
       " [3, 4],\n",
       " [5],\n",
       " [1, 2],\n",
       " [3, 4],\n",
       " [5]]"
      ]
     },
     "execution_count": 35,
     "metadata": {},
     "output_type": "execute_result"
    }
   ],
   "source": [
    "l0.extend(l2)\n",
    "l0"
   ]
  }
 ],
 "metadata": {
  "kernelspec": {
   "display_name": "Python 3 (ipykernel)",
   "language": "python",
   "name": "python3"
  },
  "language_info": {
   "codemirror_mode": {
    "name": "ipython",
    "version": 3
   },
   "file_extension": ".py",
   "mimetype": "text/x-python",
   "name": "python",
   "nbconvert_exporter": "python",
   "pygments_lexer": "ipython3",
   "version": "3.11.4"
  }
 },
 "nbformat": 4,
 "nbformat_minor": 4
}
