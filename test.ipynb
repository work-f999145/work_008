{
 "cells": [
  {
   "cell_type": "code",
   "execution_count": 189,
   "metadata": {},
   "outputs": [],
   "source": [
    "import json\n",
    "import requests\n",
    "from requests.exceptions import JSONDecodeError\n",
    "from urllib.parse import urlparse\n",
    "from urllib.parse import parse_qs\n",
    "import pickle\n",
    "from typing import NamedTuple"
   ]
  },
  {
   "cell_type": "code",
   "execution_count": 190,
   "metadata": {},
   "outputs": [],
   "source": [
    "class market_link(NamedTuple):\n",
    "    sity: str\n",
    "    title: str\n",
    "    discounts: int\n",
    "    alcohol: bool\n",
    "    href: str\n",
    "    su1: str\n",
    "    su2: str\n",
    "    su3: str\n",
    "    page_href: str"
   ]
  },
  {
   "cell_type": "code",
   "execution_count": 191,
   "metadata": {},
   "outputs": [
    {
     "data": {
      "text/plain": [
       "market_link(sity='lipetsk', title='Магнит', discounts=32029, alcohol=False, href='https://edadeal.ru/lipeck/retailers/magnit-univer', su1='Продукты', su2='Напитки', su3='Холодный чай', page_href='https://edadeal.ru/lipeck/retailers/magnit-univer?segmentUuid=3b336f02-6311-11e6-849f-52540010b608&segmentUuid2=3b3375a8-6311-11e6-849f-52540010b608')"
      ]
     },
     "execution_count": 191,
     "metadata": {},
     "output_type": "execute_result"
    }
   ],
   "source": [
    "with open('data/market_catalog_links.pickle', 'rb') as file:\n",
    "    market_catalog_links = pickle.load(file)\n",
    "market_catalog_links[400]"
   ]
  },
  {
   "cell_type": "code",
   "execution_count": 198,
   "metadata": {},
   "outputs": [],
   "source": [
    "with open('data/market_catalog_links.pickle', 'wb') as file:\n",
    "    pickle.dump(market_catalog_links, file)"
   ]
  },
  {
   "cell_type": "code",
   "execution_count": 192,
   "metadata": {},
   "outputs": [
    {
     "data": {
      "text/plain": [
       "{'segmentUuid': ['3b336f02-6311-11e6-849f-52540010b608'],\n",
       " 'segmentUuid2': ['3b3375a8-6311-11e6-849f-52540010b608']}"
      ]
     },
     "execution_count": 192,
     "metadata": {},
     "output_type": "execute_result"
    }
   ],
   "source": [
    "parsed_url = urlparse(market_catalog_links[400].page_href)\n",
    "params = parse_qs(parsed_url.query)\n",
    "params"
   ]
  },
  {
   "cell_type": "code",
   "execution_count": 193,
   "metadata": {},
   "outputs": [],
   "source": [
    "headers = {\n",
    "# \"Accept-Encoding\": \"gzip, deflate, br\",\n",
    "# \"Connection\": \"keep-alive\",\n",
    "# \"Content-Type\": \"application/json\",\n",
    "# \"Host\": \"search.edadeal.io\",\n",
    "# \"Origin\": \"https://edadeal.ru\",\n",
    "# \"Referer\": \"https://edadeal.ru/\",\n",
    "# \"Sec-Fetch-Dest\": \"empty\",\n",
    "# \"Sec-Fetch-Mode\": \"cors\",\n",
    "# \"Sec-Fetch-Site\": \"cross-site\",\n",
    "# \"User-Agent\": \"Mozilla/5.0 (Windows NT 10.0; Win64; x64) AppleWebKit/537.36 (KHTML, like Gecko) Chrome/116.0.0.0 Safari/537.36\",\n",
    "# \"accept\": \"application/json\",\n",
    "# \"accept-language\": \"ru\",\n",
    "# \"edadeal-duid\": \"4eef8e3c-2b51-4fb5-90c4-33153842365b\",\n",
    "# \"x-app-id\": \"edadeal\",\n",
    "# \"x-app-version\": \"1.52.0\",\n",
    "\"x-locality-countrygeoid\": \"225\",\n",
    "\"x-locality-geoid\": \"9\",\n",
    "\"x-os-version\": \"1.0.0\",\n",
    "\"x-platform\": \"desktop\",\n",
    "\"x-position-latitude\": \"52.60882\",\n",
    "\"x-position-longitude\": \"39.59922\"\n",
    "          }"
   ]
  },
  {
   "cell_type": "code",
   "execution_count": 201,
   "metadata": {},
   "outputs": [],
   "source": [
    "url = 'https://search.edadeal.io/api/v4/retailer/94d987b8-42c3-11e6-9419-52540010b608/items?addContent=true&checkAdult=true&entities=&excludeSegmentSlug=alcohol&excludeSegmentSlug=pt_alcool&excludeSegmentSlug=en_alcohol&excludeSegmentSlug=es_alcohol&excludeSegmentSlug=tr_alkol&groupBy=sku_or_meta&numdoc=21&page=0&segmentUuid=3b31b30e-6311-11e6-849f-52540010b608'\n",
    "url = 'https://search.edadeal.io/api/v4/retailer/94d987b8-42c3-11e6-9419-52540010b608/items?addContent=true&checkAdult=true&entities=&excludeSegmentSlug=alcohol&excludeSegmentSlug=pt_alcool&excludeSegmentSlug=en_alcohol&excludeSegmentSlug=es_alcohol&excludeSegmentSlug=tr_alkol&groupBy=sku_or_meta&numdoc=21&page=0&segmentUuid=3b31b30e-6311-11e6-849f-52540010b608'\n",
    "# url = 'https://search.edadeal.io/api/v4/retailer/94d987b8-42c3-11e6-9419-52540010b608/items?addContent=true&checkAdult=true&entities=&excludeSegmentSlug=alcohol&excludeSegmentSlug=pt_alcool&excludeSegmentSlug=en_alcohol&excludeSegmentSlug=es_alcohol&excludeSegmentSlug=tr_alkol&groupBy=sku_or_meta&numdoc=21&page=0'"
   ]
  },
  {
   "cell_type": "code",
   "execution_count": 202,
   "metadata": {},
   "outputs": [
    {
     "data": {
      "text/plain": [
       "{'addContent': ['true'],\n",
       " 'checkAdult': ['true'],\n",
       " 'excludeSegmentSlug': ['alcohol',\n",
       "  'pt_alcool',\n",
       "  'en_alcohol',\n",
       "  'es_alcohol',\n",
       "  'tr_alkol'],\n",
       " 'groupBy': ['sku_or_meta'],\n",
       " 'numdoc': ['21'],\n",
       " 'page': ['0'],\n",
       " 'segmentUuid': ['3b31b30e-6311-11e6-849f-52540010b608']}"
      ]
     },
     "execution_count": 202,
     "metadata": {},
     "output_type": "execute_result"
    }
   ],
   "source": [
    "parsed_url = urlparse(url)\n",
    "params = parse_qs(parsed_url.query)\n",
    "params"
   ]
  },
  {
   "cell_type": "code",
   "execution_count": 196,
   "metadata": {},
   "outputs": [
    {
     "name": "stderr",
     "output_type": "stream",
     "text": [
      "C:\\Users\\ЛепехинЕА\\AppData\\Local\\Programs\\Python\\Python311\\Lib\\site-packages\\urllib3\\connectionpool.py:1095: InsecureRequestWarning: Unverified HTTPS request is being made to host 'search.edadeal.io'. Adding certificate verification is strongly advised. See: https://urllib3.readthedocs.io/en/latest/advanced-usage.html#tls-warnings\n",
      "  warnings.warn(\n"
     ]
    },
    {
     "data": {
      "text/plain": [
       "'Заколка-краб 6шт'"
      ]
     },
     "execution_count": 196,
     "metadata": {},
     "output_type": "execute_result"
    }
   ],
   "source": [
    "\n",
    "\n",
    "\n",
    "respons = requests.get('https://search.edadeal.io/api/v4/retailer/94d987b8-42c3-11e6-9419-52540010b608/items', params=params, headers=headers, verify=False)\n",
    "dik = respons.json()\n",
    "dik['items'][0]['title']"
   ]
  },
  {
   "cell_type": "code",
   "execution_count": 20,
   "metadata": {},
   "outputs": [],
   "source": []
  },
  {
   "cell_type": "code",
   "execution_count": 75,
   "metadata": {},
   "outputs": [
    {
     "data": {
      "text/plain": [
       "dict_keys(['features', 'total', 'entities', 'facet', 'items'])"
      ]
     },
     "execution_count": 75,
     "metadata": {},
     "output_type": "execute_result"
    }
   ],
   "source": [
    "dik.keys()"
   ]
  }
 ],
 "metadata": {
  "kernelspec": {
   "display_name": "Python 3 (ipykernel)",
   "language": "python",
   "name": "python3"
  },
  "language_info": {
   "codemirror_mode": {
    "name": "ipython",
    "version": 3
   },
   "file_extension": ".py",
   "mimetype": "text/x-python",
   "name": "python",
   "nbconvert_exporter": "python",
   "pygments_lexer": "ipython3",
   "version": "3.11.4"
  }
 },
 "nbformat": 4,
 "nbformat_minor": 4
}
