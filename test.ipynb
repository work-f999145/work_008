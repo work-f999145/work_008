{
 "cells": [
  {
   "cell_type": "code",
   "execution_count": 8,
   "metadata": {},
   "outputs": [],
   "source": [
    "import pandas as pd\n",
    "import psutil\n",
    "from datetime import datetime as dt\n",
    "from pytz import timezone"
   ]
  },
  {
   "cell_type": "code",
   "execution_count": 10,
   "metadata": {},
   "outputs": [
    {
     "data": {
      "text/plain": [
       "datetime.datetime(2023, 9, 23, 12, 13, 51, 951460, tzinfo=<DstTzInfo 'Europe/Moscow' MSK+3:00:00 STD>)"
      ]
     },
     "execution_count": 10,
     "metadata": {},
     "output_type": "execute_result"
    }
   ],
   "source": [
    "start = dt.now(timezone('Europe/Moscow'))\n",
    "start"
   ]
  },
  {
   "cell_type": "code",
   "execution_count": 11,
   "metadata": {},
   "outputs": [
    {
     "data": {
      "text/plain": [
       "datetime.datetime(2023, 9, 23, 12, 13, 58, 732866, tzinfo=<DstTzInfo 'Europe/Moscow' MSK+3:00:00 STD>)"
      ]
     },
     "execution_count": 11,
     "metadata": {},
     "output_type": "execute_result"
    }
   ],
   "source": [
    "end = dt.now(timezone('Europe/Moscow'))\n",
    "end"
   ]
  },
  {
   "cell_type": "code",
   "execution_count": 18,
   "metadata": {},
   "outputs": [
    {
     "data": {
      "text/plain": [
       "'2023-Sep-23 12:15:38'"
      ]
     },
     "execution_count": 18,
     "metadata": {},
     "output_type": "execute_result"
    }
   ],
   "source": [
    "dt.strftime(dt.now(timezone('Europe/Moscow')), '%Y-%b-%d %H:%M:%S')"
   ]
  },
  {
   "cell_type": "code",
   "execution_count": null,
   "metadata": {},
   "outputs": [],
   "source": [
    "psutil.cpu_percent()"
   ]
  },
  {
   "cell_type": "code",
   "execution_count": 2,
   "metadata": {},
   "outputs": [
    {
     "name": "stderr",
     "output_type": "stream",
     "text": [
      "C:\\Users\\f999145\\AppData\\Local\\Temp\\ipykernel_14792\\3417655190.py:1: DtypeWarning: Columns (10) have mixed types. Specify dtype option on import or set low_memory=False.\n",
      "  df = pd.read_csv('data/result 0000.zip')\n"
     ]
    },
    {
     "name": "stdout",
     "output_type": "stream",
     "text": [
      "<class 'pandas.core.frame.DataFrame'>\n",
      "RangeIndex: 445423 entries, 0 to 445422\n",
      "Data columns (total 17 columns):\n",
      " #   Column           Non-Null Count   Dtype  \n",
      "---  ------           --------------   -----  \n",
      " 0   date             224300 non-null  object \n",
      " 1   sity             224300 non-null  object \n",
      " 2   market           224300 non-null  object \n",
      " 3   discounts        224300 non-null  float64\n",
      " 4   data_uuid        224300 non-null  object \n",
      " 5   href             224300 non-null  object \n",
      " 6   title            224300 non-null  object \n",
      " 7   su               445423 non-null  object \n",
      " 8   sku_id           224300 non-null  object \n",
      " 9   dateStart        222875 non-null  object \n",
      " 10  dateEnd          106475 non-null  object \n",
      " 11  price            16256 non-null   float64\n",
      " 12  price_from       16033 non-null   float64\n",
      " 13  price_to         208031 non-null  float64\n",
      " 14  discountPercent  223864 non-null  float64\n",
      " 15  quantity         158417 non-null  float64\n",
      " 16  quantityUnit     158417 non-null  object \n",
      "dtypes: float64(6), object(11)\n",
      "memory usage: 57.8+ MB\n"
     ]
    }
   ],
   "source": [
    "df = pd.read_csv('data/result 0000.zip')\n",
    "df.info()"
   ]
  },
  {
   "cell_type": "code",
   "execution_count": 4,
   "metadata": {},
   "outputs": [
    {
     "data": {
      "text/html": [
       "<div>\n",
       "<style scoped>\n",
       "    .dataframe tbody tr th:only-of-type {\n",
       "        vertical-align: middle;\n",
       "    }\n",
       "\n",
       "    .dataframe tbody tr th {\n",
       "        vertical-align: top;\n",
       "    }\n",
       "\n",
       "    .dataframe thead th {\n",
       "        text-align: right;\n",
       "    }\n",
       "</style>\n",
       "<table border=\"1\" class=\"dataframe\">\n",
       "  <thead>\n",
       "    <tr style=\"text-align: right;\">\n",
       "      <th></th>\n",
       "      <th>date</th>\n",
       "      <th>sity</th>\n",
       "      <th>market</th>\n",
       "      <th>discounts</th>\n",
       "      <th>data_uuid</th>\n",
       "      <th>href</th>\n",
       "      <th>title</th>\n",
       "      <th>su</th>\n",
       "      <th>sku_id</th>\n",
       "      <th>dateStart</th>\n",
       "      <th>dateEnd</th>\n",
       "      <th>price</th>\n",
       "      <th>price_from</th>\n",
       "      <th>price_to</th>\n",
       "      <th>discountPercent</th>\n",
       "      <th>quantity</th>\n",
       "      <th>quantityUnit</th>\n",
       "    </tr>\n",
       "  </thead>\n",
       "  <tbody>\n",
       "    <tr>\n",
       "      <th>0</th>\n",
       "      <td>2023-09-19 16:58:14.709033</td>\n",
       "      <td>sankt-peterburg</td>\n",
       "      <td>Перекрёсток</td>\n",
       "      <td>1869.0</td>\n",
       "      <td>94d98417-42c3-11e6-9419-52540010b608</td>\n",
       "      <td>https://edadeal.ru/sankt-peterburg/retailers/p...</td>\n",
       "      <td>Шпроты ВКУСНЫЕ КОНСЕРВЫ в масле, 240 г</td>\n",
       "      <td>3b336871-6311-11e6-849f-52540010b608</td>\n",
       "      <td>1a3560fa-7718-534b-abdb-3e38fd086be2</td>\n",
       "      <td>2023-09-19</td>\n",
       "      <td>2023-09-25</td>\n",
       "      <td>NaN</td>\n",
       "      <td>NaN</td>\n",
       "      <td>12999.0</td>\n",
       "      <td>44.0</td>\n",
       "      <td>240.0</td>\n",
       "      <td>г</td>\n",
       "    </tr>\n",
       "    <tr>\n",
       "      <th>1</th>\n",
       "      <td>2023-09-19 16:58:14.709033</td>\n",
       "      <td>sankt-peterburg</td>\n",
       "      <td>Перекрёсток</td>\n",
       "      <td>1869.0</td>\n",
       "      <td>94d98417-42c3-11e6-9419-52540010b608</td>\n",
       "      <td>https://edadeal.ru/sankt-peterburg/retailers/p...</td>\n",
       "      <td>Уха ARARAT из форели, 530 г</td>\n",
       "      <td>3b336871-6311-11e6-849f-52540010b608</td>\n",
       "      <td>48e9ed57-c1df-59e0-a0b8-96c935ad01e2</td>\n",
       "      <td>2023-08-31</td>\n",
       "      <td>2023-09-27</td>\n",
       "      <td>NaN</td>\n",
       "      <td>NaN</td>\n",
       "      <td>19999.0</td>\n",
       "      <td>29.0</td>\n",
       "      <td>530.0</td>\n",
       "      <td>г</td>\n",
       "    </tr>\n",
       "    <tr>\n",
       "      <th>2</th>\n",
       "      <td>2023-09-19 16:58:14.709033</td>\n",
       "      <td>sankt-peterburg</td>\n",
       "      <td>Перекрёсток</td>\n",
       "      <td>1869.0</td>\n",
       "      <td>94d98417-42c3-11e6-9419-52540010b608</td>\n",
       "      <td>https://edadeal.ru/sankt-peterburg/retailers/p...</td>\n",
       "      <td>Сайра ДОБРОФЛОТ Тихоокеанская натуральная, 245 г</td>\n",
       "      <td>3b336871-6311-11e6-849f-52540010b608</td>\n",
       "      <td>afc52cb0-1edd-557f-b1a7-a34d708d7249</td>\n",
       "      <td>2023-08-31</td>\n",
       "      <td>2023-09-27</td>\n",
       "      <td>NaN</td>\n",
       "      <td>NaN</td>\n",
       "      <td>19999.0</td>\n",
       "      <td>21.0</td>\n",
       "      <td>245.0</td>\n",
       "      <td>г</td>\n",
       "    </tr>\n",
       "    <tr>\n",
       "      <th>3</th>\n",
       "      <td>2023-09-19 16:58:14.709033</td>\n",
       "      <td>sankt-peterburg</td>\n",
       "      <td>Перекрёсток</td>\n",
       "      <td>1869.0</td>\n",
       "      <td>94d98417-42c3-11e6-9419-52540010b608</td>\n",
       "      <td>https://edadeal.ru/sankt-peterburg/retailers/p...</td>\n",
       "      <td>Шпроты БАРС из балтийской кильки в масле, 160 г</td>\n",
       "      <td>3b336871-6311-11e6-849f-52540010b608</td>\n",
       "      <td>4868330f-361f-5f79-9072-573f05b75d96</td>\n",
       "      <td>2023-08-31</td>\n",
       "      <td>2023-09-27</td>\n",
       "      <td>NaN</td>\n",
       "      <td>NaN</td>\n",
       "      <td>9999.0</td>\n",
       "      <td>29.0</td>\n",
       "      <td>160.0</td>\n",
       "      <td>г</td>\n",
       "    </tr>\n",
       "    <tr>\n",
       "      <th>4</th>\n",
       "      <td>2023-09-19 16:58:14.709033</td>\n",
       "      <td>sankt-peterburg</td>\n",
       "      <td>Перекрёсток</td>\n",
       "      <td>1869.0</td>\n",
       "      <td>94d98417-42c3-11e6-9419-52540010b608</td>\n",
       "      <td>https://edadeal.ru/sankt-peterburg/retailers/p...</td>\n",
       "      <td>Паштет ВЛАДКОН из лосося; из тунца желтопёрого...</td>\n",
       "      <td>3b336871-6311-11e6-849f-52540010b608</td>\n",
       "      <td>73efe170-2b72-5617-8986-41c4fb66f6a6</td>\n",
       "      <td>2023-08-31</td>\n",
       "      <td>2023-09-27</td>\n",
       "      <td>NaN</td>\n",
       "      <td>NaN</td>\n",
       "      <td>10999.0</td>\n",
       "      <td>27.0</td>\n",
       "      <td>NaN</td>\n",
       "      <td>NaN</td>\n",
       "    </tr>\n",
       "  </tbody>\n",
       "</table>\n",
       "</div>"
      ],
      "text/plain": [
       "                         date             sity       market  discounts  \\\n",
       "0  2023-09-19 16:58:14.709033  sankt-peterburg  Перекрёсток     1869.0   \n",
       "1  2023-09-19 16:58:14.709033  sankt-peterburg  Перекрёсток     1869.0   \n",
       "2  2023-09-19 16:58:14.709033  sankt-peterburg  Перекрёсток     1869.0   \n",
       "3  2023-09-19 16:58:14.709033  sankt-peterburg  Перекрёсток     1869.0   \n",
       "4  2023-09-19 16:58:14.709033  sankt-peterburg  Перекрёсток     1869.0   \n",
       "\n",
       "                              data_uuid  \\\n",
       "0  94d98417-42c3-11e6-9419-52540010b608   \n",
       "1  94d98417-42c3-11e6-9419-52540010b608   \n",
       "2  94d98417-42c3-11e6-9419-52540010b608   \n",
       "3  94d98417-42c3-11e6-9419-52540010b608   \n",
       "4  94d98417-42c3-11e6-9419-52540010b608   \n",
       "\n",
       "                                                href  \\\n",
       "0  https://edadeal.ru/sankt-peterburg/retailers/p...   \n",
       "1  https://edadeal.ru/sankt-peterburg/retailers/p...   \n",
       "2  https://edadeal.ru/sankt-peterburg/retailers/p...   \n",
       "3  https://edadeal.ru/sankt-peterburg/retailers/p...   \n",
       "4  https://edadeal.ru/sankt-peterburg/retailers/p...   \n",
       "\n",
       "                                               title  \\\n",
       "0             Шпроты ВКУСНЫЕ КОНСЕРВЫ в масле, 240 г   \n",
       "1                        Уха ARARAT из форели, 530 г   \n",
       "2   Сайра ДОБРОФЛОТ Тихоокеанская натуральная, 245 г   \n",
       "3    Шпроты БАРС из балтийской кильки в масле, 160 г   \n",
       "4  Паштет ВЛАДКОН из лосося; из тунца желтопёрого...   \n",
       "\n",
       "                                     su                                sku_id  \\\n",
       "0  3b336871-6311-11e6-849f-52540010b608  1a3560fa-7718-534b-abdb-3e38fd086be2   \n",
       "1  3b336871-6311-11e6-849f-52540010b608  48e9ed57-c1df-59e0-a0b8-96c935ad01e2   \n",
       "2  3b336871-6311-11e6-849f-52540010b608  afc52cb0-1edd-557f-b1a7-a34d708d7249   \n",
       "3  3b336871-6311-11e6-849f-52540010b608  4868330f-361f-5f79-9072-573f05b75d96   \n",
       "4  3b336871-6311-11e6-849f-52540010b608  73efe170-2b72-5617-8986-41c4fb66f6a6   \n",
       "\n",
       "    dateStart     dateEnd  price  price_from  price_to  discountPercent  \\\n",
       "0  2023-09-19  2023-09-25    NaN         NaN   12999.0             44.0   \n",
       "1  2023-08-31  2023-09-27    NaN         NaN   19999.0             29.0   \n",
       "2  2023-08-31  2023-09-27    NaN         NaN   19999.0             21.0   \n",
       "3  2023-08-31  2023-09-27    NaN         NaN    9999.0             29.0   \n",
       "4  2023-08-31  2023-09-27    NaN         NaN   10999.0             27.0   \n",
       "\n",
       "   quantity quantityUnit  \n",
       "0     240.0            г  \n",
       "1     530.0            г  \n",
       "2     245.0            г  \n",
       "3     160.0            г  \n",
       "4       NaN          NaN  "
      ]
     },
     "metadata": {},
     "output_type": "display_data"
    }
   ],
   "source": [
    "display(df.head())"
   ]
  }
 ],
 "metadata": {
  "kernelspec": {
   "display_name": "Python 3 (ipykernel)",
   "language": "python",
   "name": "python3"
  },
  "language_info": {
   "codemirror_mode": {
    "name": "ipython",
    "version": 3
   },
   "file_extension": ".py",
   "mimetype": "text/x-python",
   "name": "python",
   "nbconvert_exporter": "python",
   "pygments_lexer": "ipython3",
   "version": "3.11.4"
  }
 },
 "nbformat": 4,
 "nbformat_minor": 4
}
