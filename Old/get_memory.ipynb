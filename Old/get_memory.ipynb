{
 "cells": [
  {
   "cell_type": "code",
   "execution_count": 18,
   "id": "d43d463c-2170-4bc4-97fe-41531bd476d3",
   "metadata": {},
   "outputs": [],
   "source": [
    "import psutil\n",
    "from selenium import webdriver"
   ]
  },
  {
   "cell_type": "code",
   "execution_count": 19,
   "id": "472d8342-a17c-4aee-9092-0af96d5eab28",
   "metadata": {},
   "outputs": [],
   "source": [
    "driver = webdriver.Chrome()"
   ]
  },
  {
   "cell_type": "code",
   "execution_count": 20,
   "id": "830cbb02-3b81-437b-bb63-20aba6b469a6",
   "metadata": {},
   "outputs": [],
   "source": [
    "driver.get('https://edadeal.ru/')"
   ]
  },
  {
   "cell_type": "code",
   "execution_count": 55,
   "id": "bf394fa6-a2a3-4b22-9822-399c16984a2a",
   "metadata": {},
   "outputs": [
    {
     "data": {
      "text/plain": [
       "0.0"
      ]
     },
     "execution_count": 55,
     "metadata": {},
     "output_type": "execute_result"
    }
   ],
   "source": [
    "pids = [p.pid for p in psutil.process_iter(attrs=['name']) if 'chrome.exe' in p.info['name'].lower()]\n",
    "\n",
    "\n",
    "sum_memoty = sum([psutil.Process(pid).memory_info().rss for pid in pids])/(1024**2)\n",
    "sum_memoty\n",
    "# for pid in pids:\n",
    "#     process = psutil.Process(pid)\n",
    "#     print(process.name(), end=': ')\n",
    "#     print(process.memory_info().rss/(1024**2))"
   ]
  }
 ],
 "metadata": {
  "kernelspec": {
   "display_name": "Python 3 (ipykernel)",
   "language": "python",
   "name": "python3"
  },
  "language_info": {
   "codemirror_mode": {
    "name": "ipython",
    "version": 3
   },
   "file_extension": ".py",
   "mimetype": "text/x-python",
   "name": "python",
   "nbconvert_exporter": "python",
   "pygments_lexer": "ipython3",
   "version": "3.11.4"
  }
 },
 "nbformat": 4,
 "nbformat_minor": 5
}
