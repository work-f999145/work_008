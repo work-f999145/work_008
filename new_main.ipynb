{
 "cells": [
  {
   "cell_type": "markdown",
   "id": "d55cdee6-0655-4e94-8d14-09dc067d2f2a",
   "metadata": {},
   "source": [
    "Новая структура парсера.\n",
    "\n",
    "1. Получаем ссылки на города.\n",
    "    1. Можно получить информацию с помощью гет запроса. (менее 1 мни/город)\n",
    "    2. Требуется куки браузера что бы пройти авторизацию (получается при заходе на страницу через браузер)\n",
    "2. Получаем информацию о магазинах\n",
    "    1. get \"location_info\" выдает информацию об id ключах магазинов. (менее 1 мни/город)\n",
    "    2. Так же требуется куки браузера\n",
    "3. Получаем информацию об категориях и субкатегориях\n",
    "    1. Пока единственный способ - это использовать Selenium. (1-2 час/город)\n",
    "    2. Необходимо узнать как еще можно получить эту информацию из запросов.\n",
    "4. Получаем информацию о товарах и скидке через Get запросы.\n",
    "    1. get \"item\" выдает информацию об скидках и товарах (15-30 мин/город).\n",
    "    2. Максимальное количество товара в запросе 600 единиц,\n",
    "    3. Так же 600 единиц это максимальное количество товара, которое можно ВООБЩЕ получить.\n",
    "    4. Что бы обойти это ограничение и требуется максимальная детализация в категориях/субкатегория\n",
    "5. Получение Полной информации о товаре.\n",
    "    1. в очереди"
   ]
  },
  {
   "cell_type": "code",
   "execution_count": 15,
   "id": "744ddbd6-1408-430f-944d-4e36fa1d0681",
   "metadata": {},
   "outputs": [],
   "source": [
    "import pickle\n",
    "from typing import NamedTuple\n",
    "import pandas as pd\n",
    "from urllib.parse import urlparse\n",
    "from urllib.parse import parse_qs\n",
    "import numpy as np\n",
    "import requests\n",
    "from requests.exceptions import ConnectTimeout\n",
    "from tqdm import tqdm\n",
    "import sys\n",
    "from multiprocessing.dummy import Pool as ThreadPool\n",
    "from time import sleep as time_sleep\n",
    "tqdm.pandas()\n",
    "requests.packages.urllib3.disable_warnings()"
   ]
  },
  {
   "cell_type": "code",
   "execution_count": 16,
   "id": "f28a0b31-c96b-48f1-9385-6d6e51b7d527",
   "metadata": {},
   "outputs": [],
   "source": [
    "class market_link(NamedTuple):\n",
    "    sity: str\n",
    "    title: str\n",
    "    discounts: int\n",
    "    alcohol: bool\n",
    "    href: str\n",
    "    su1: str\n",
    "    su2: str\n",
    "    su3: str\n",
    "    page_href: str"
   ]
  },
  {
   "cell_type": "code",
   "execution_count": 17,
   "id": "dc1cca19-9be9-4eb3-b13f-6f4e9429e330",
   "metadata": {},
   "outputs": [],
   "source": [
    "with open('data/market_catalog_links.pickle', 'rb') as file:\n",
    "    market_catalog_links = pickle.load(file)"
   ]
  },
  {
   "cell_type": "code",
   "execution_count": 18,
   "id": "46c83861-23bf-48a6-b681-3cb9c244f6b5",
   "metadata": {},
   "outputs": [],
   "source": [
    "df = pd.DataFrame(market_catalog_links)"
   ]
  },
  {
   "cell_type": "code",
   "execution_count": 22,
   "id": "e0a6d77d-a4fe-4c42-9453-e1cc206a9d8e",
   "metadata": {},
   "outputs": [
    {
     "data": {
      "text/plain": [
       "sity                                                   lipetsk\n",
       "title                                              Перекрёсток\n",
       "discounts                                                 1682\n",
       "alcohol                                                  False\n",
       "href           https://edadeal.ru/lipeck/retailers/perekrestok\n",
       "su1                                                   Продукты\n",
       "su2                                          Молочные продукты\n",
       "su3                                                        Сыр\n",
       "page_href    https://edadeal.ru/lipeck/retailers/perekresto...\n",
       "Name: 0, dtype: object"
      ]
     },
     "execution_count": 22,
     "metadata": {},
     "output_type": "execute_result"
    }
   ],
   "source": [
    "df.iloc[0]"
   ]
  },
  {
   "cell_type": "code",
   "execution_count": 5,
   "id": "e51d9c23-ec40-43ae-a100-58332cb777e6",
   "metadata": {},
   "outputs": [
    {
     "name": "stdout",
     "output_type": "stream",
     "text": [
      "<class 'pandas.core.frame.DataFrame'>\n",
      "RangeIndex: 3653 entries, 0 to 3652\n",
      "Data columns (total 10 columns):\n",
      " #   Column     Non-Null Count  Dtype \n",
      "---  ------     --------------  ----- \n",
      " 0   sity       3653 non-null   object\n",
      " 1   title      3653 non-null   object\n",
      " 2   discounts  3653 non-null   int64 \n",
      " 3   alcohol    3653 non-null   bool  \n",
      " 4   href       3653 non-null   object\n",
      " 5   su1        3653 non-null   object\n",
      " 6   su2        3653 non-null   object\n",
      " 7   su3        3002 non-null   object\n",
      " 8   page_href  3653 non-null   object\n",
      " 9   su_id      3653 non-null   object\n",
      "dtypes: bool(1), int64(1), object(8)\n",
      "memory usage: 260.5+ KB\n"
     ]
    }
   ],
   "source": [
    "def get_params(ceil):\n",
    "    \n",
    "    parsed_url = urlparse(ceil)\n",
    "    params = parse_qs(parsed_url.query)\n",
    "    key = list(params.keys())\n",
    "    try:\n",
    "        return params.get(key[1], np.nan)[0]\n",
    "    except IndexError:\n",
    "        try:\n",
    "            return params.get(key[0], np.nan)[0]\n",
    "        except IndexError:\n",
    "            return np.nan\n",
    "\n",
    "df['su_id'] = df['page_href'].apply(get_params)\n",
    "df.info()"
   ]
  },
  {
   "cell_type": "markdown",
   "id": "49b52bb3-1096-4c50-abb9-1fd769677879",
   "metadata": {},
   "source": [
    "## Запрос"
   ]
  },
  {
   "cell_type": "code",
   "execution_count": 6,
   "id": "3f73540c-ec65-41ea-87df-6e7cd53dc483",
   "metadata": {},
   "outputs": [],
   "source": [
    "headers = {\n",
    "# \"Accept-Encoding\": \"gzip, deflate, br\",\n",
    "# \"Connection\": \"keep-alive\",\n",
    "# \"Content-Type\": \"application/json\",\n",
    "# \"Host\": \"search.edadeal.io\",\n",
    "# \"Origin\": \"https://edadeal.ru\",\n",
    "# \"Referer\": \"https://edadeal.ru/\",\n",
    "# \"Sec-Fetch-Dest\": \"empty\",\n",
    "# \"Sec-Fetch-Mode\": \"cors\",\n",
    "# \"Sec-Fetch-Site\": \"cross-site\",\n",
    "# \"User-Agent\": \"Mozilla/5.0 (Windows NT 10.0; Win64; x64) AppleWebKit/537.36 (KHTML, like Gecko) Chrome/116.0.0.0 Safari/537.36\",\n",
    "# \"accept\": \"application/json\",\n",
    "# \"accept-language\": \"ru\",\n",
    "# \"edadeal-duid\": \"4eef8e3c-2b51-4fb5-90c4-33153842365b\",\n",
    "# \"x-app-id\": \"edadeal\",\n",
    "# \"x-app-version\": \"1.52.0\",\n",
    "\"x-locality-countrygeoid\": \"225\",\n",
    "\"x-locality-geoid\": \"9\",\n",
    "\"x-os-version\": \"1.0.0\",\n",
    "\"x-platform\": \"desktop\",\n",
    "\"x-position-latitude\": \"52.60882\",\n",
    "\"x-position-longitude\": \"39.59922\"\n",
    "          }"
   ]
  },
  {
   "cell_type": "code",
   "execution_count": 55,
   "id": "7e6b51e0-f41d-476f-a0e6-e74fd9b68e7c",
   "metadata": {},
   "outputs": [],
   "source": [
    "params = {  'addContent': ['true'],\n",
    "            'checkAdult': ['true'],\n",
    "            'excludeSegmentSlug': ['alcohol', 'pt_alcool', 'en_alcohol', 'es_alcohol', 'tr_alkol'],\n",
    "            'groupBy': ['sku_or_meta'],\n",
    "            'numdoc': ['599'],\n",
    "            'page': ['0'],\n",
    "            'segmentUuid': ['3b31b30e-6311-11e6-849f-52540010b608']}"
   ]
  },
  {
   "cell_type": "code",
   "execution_count": 105,
   "id": "da917037-c109-4de3-ab78-cdb66c491591",
   "metadata": {},
   "outputs": [],
   "source": [
    "def get_price(ceil):\n",
    "    if pd.isnull(ceil):\n",
    "        return np.nan\n",
    "        \n",
    "    params = {  'addContent': ['true'],\n",
    "            'checkAdult': ['true'],\n",
    "            'excludeSegmentSlug': ['alcohol', 'pt_alcool', 'en_alcohol', 'es_alcohol', 'tr_alkol'],\n",
    "            'groupBy': ['sku_or_meta'],\n",
    "            'numdoc': ['599'],\n",
    "            'page': ['0'],\n",
    "            'segmentUuid': ['3b31b30e-6311-11e6-849f-52540010b608']}\n",
    "    params['segmentUuid'] = [ceil]\n",
    "    try:\n",
    "        respons = requests.get('https://search.edadeal.io/api/v4/retailer/94d987b8-42c3-11e6-9419-52540010b608/items', params=params, headers=headers, verify=False)\n",
    "    except Exception:\n",
    "        exc_type, exc_obj, exc_tb = sys.exc_info()\n",
    "        print(exc_type.__name__)\n",
    "        return np.nan\n",
    "    return respons.json()"
   ]
  },
  {
   "cell_type": "code",
   "execution_count": 106,
   "id": "09e8dddf-a0ac-4fd8-a4f6-193c7855a488",
   "metadata": {},
   "outputs": [
    {
     "name": "stderr",
     "output_type": "stream",
     "text": [
      " 84%|███████████████████████████████████████████████████████████████▉            | 3075/3653 [14:57<1:05:24,  6.79s/it]"
     ]
    },
    {
     "name": "stdout",
     "output_type": "stream",
     "text": [
      "ConnectTimeout\n"
     ]
    },
    {
     "name": "stderr",
     "output_type": "stream",
     "text": [
      "100%|██████████████████████████████████████████████████████████████████████████████| 3653/3653 [17:12<00:00,  3.54it/s]\n"
     ]
    }
   ],
   "source": [
    "df['data'] = (df['su_id']).progress_apply(get_price)"
   ]
  },
  {
   "cell_type": "code",
   "execution_count": 9,
   "id": "ac1e654c-9101-4cbc-b66d-416fce49b72a",
   "metadata": {},
   "outputs": [],
   "source": [
    "def get_price_pool(pool_input: tuple[str, tqdm]):\n",
    "    ceil, pbar = pool_input\n",
    "    if pd.isnull(ceil):\n",
    "        pbar.update(1)\n",
    "        return (ceil, np.nan)\n",
    "        \n",
    "    params = {  'addContent': ['true'],\n",
    "            'checkAdult': ['true'],\n",
    "            'excludeSegmentSlug': ['alcohol', 'pt_alcool', 'en_alcohol', 'es_alcohol', 'tr_alkol'],\n",
    "            'groupBy': ['sku_or_meta'],\n",
    "            'numdoc': ['599'],\n",
    "            'page': ['0'],\n",
    "            'segmentUuid': ['3b31b30e-6311-11e6-849f-52540010b608']}\n",
    "    params['segmentUuid'] = [ceil]\n",
    "    for _ in range(10):\n",
    "        try:\n",
    "            respons = requests.get('https://search.edadeal.io/api/v4/retailer/94d987b8-42c3-11e6-9419-52540010b608/items', params=params, headers=headers, verify=False)\n",
    "        except ConnectTimeout:\n",
    "            time_sleep(1)\n",
    "            continue\n",
    "        except ChunkedEncodingError:\n",
    "            time_sleep(1)\n",
    "            continue\n",
    "        except Exception:\n",
    "            exc_type, exc_obj, exc_tb = sys.exc_info()\n",
    "            print(exc_type.__name__)\n",
    "            pbar.update(1)\n",
    "            return (ceil, np.nan)\n",
    "        pbar.update(1)\n",
    "        return (ceil, respons.json())\n",
    "    else:\n",
    "        (ceil, 'timeout')\n",
    "\n",
    "def run_get_price(list_input):\n",
    "    with tqdm(total=len(list_input) ) as pbar:\n",
    "        list_to_pool = list(zip(list_input, ([pbar]*len(list_input))))\n",
    "        with ThreadPool(3) as pool:\n",
    "            work_return = pool.map(get_price_pool, list_to_pool)\n",
    "    return work_return"
   ]
  },
  {
   "cell_type": "code",
   "execution_count": 8,
   "id": "6f1a90f7-4247-47da-8a2d-8758d8f9e243",
   "metadata": {},
   "outputs": [
    {
     "name": "stderr",
     "output_type": "stream",
     "text": [
      " 99%|█████████████████████████████████████████████████████████████████████████████▎| 3623/3653 [06:00<00:02, 11.44it/s]"
     ]
    },
    {
     "name": "stdout",
     "output_type": "stream",
     "text": [
      "ChunkedEncodingError\n"
     ]
    },
    {
     "name": "stderr",
     "output_type": "stream",
     "text": [
      "100%|██████████████████████████████████████████████████████████████████████████████| 3653/3653 [06:07<00:00,  9.95it/s]\n"
     ]
    }
   ],
   "source": [
    "result = run_get_price(df['su_id'].tolist())"
   ]
  },
  {
   "cell_type": "code",
   "execution_count": null,
   "id": "64499199-8d39-44e2-8949-28a4882737ce",
   "metadata": {},
   "outputs": [],
   "source": [
    "tmp = pd.DataFrame(result, columns=[0,'data'])\n",
    "test = df.merge(right=tmp,\n",
    "                how='left',\n",
    "                left_on='su_id',\n",
    "                right_on=0,\n",
    "                )#.drop(columns=[0])"
   ]
  },
  {
   "cell_type": "code",
   "execution_count": 14,
   "id": "30a25b21-6da4-45ae-82d2-53caff837fc8",
   "metadata": {},
   "outputs": [
    {
     "data": {
      "text/plain": [
       "0         https://edadeal.ru/lipeck/retailers/perekrestok\n",
       "1         https://edadeal.ru/lipeck/retailers/perekrestok\n",
       "2         https://edadeal.ru/lipeck/retailers/perekrestok\n",
       "3         https://edadeal.ru/lipeck/retailers/perekrestok\n",
       "4         https://edadeal.ru/lipeck/retailers/perekrestok\n",
       "                              ...                        \n",
       "3648    https://edadeal.ru/lipeck/retailers/gulliver-m...\n",
       "3649    https://edadeal.ru/lipeck/retailers/gulliver-m...\n",
       "3650    https://edadeal.ru/lipeck/retailers/gulliver-m...\n",
       "3651    https://edadeal.ru/lipeck/retailers/gulliver-m...\n",
       "3652    https://edadeal.ru/lipeck/retailers/gulliver-m...\n",
       "Name: href, Length: 3653, dtype: object"
      ]
     },
     "execution_count": 14,
     "metadata": {},
     "output_type": "execute_result"
    }
   ],
   "source": [
    "df.href"
   ]
  },
  {
   "cell_type": "code",
   "execution_count": 11,
   "id": "b0ac75ae-57cd-4785-957c-46844b5ddeb9",
   "metadata": {
    "scrolled": true
   },
   "outputs": [],
   "source": [
    "df = df.drop(df[df['data'].isnull()].index).reset_index()\n",
    "tmp = df['data'].apply(lambda x: x.get('items', np.nan))\n",
    "df['data'] = pd.Series(np.where(tmp, tmp, np.nan))"
   ]
  },
  {
   "cell_type": "code",
   "execution_count": 13,
   "id": "b8db5991-363e-48a5-9630-82ec558be622",
   "metadata": {},
   "outputs": [
    {
     "name": "stdout",
     "output_type": "stream",
     "text": [
      "<class 'pandas.core.frame.DataFrame'>\n",
      "RangeIndex: 1077621 entries, 0 to 1077620\n",
      "Data columns (total 12 columns):\n",
      " #   Column     Non-Null Count    Dtype \n",
      "---  ------     --------------    ----- \n",
      " 0   index      1077621 non-null  int64 \n",
      " 1   sity       1077621 non-null  object\n",
      " 2   title      1077621 non-null  object\n",
      " 3   discounts  1077621 non-null  int64 \n",
      " 4   alcohol    1077621 non-null  bool  \n",
      " 5   href       1077621 non-null  object\n",
      " 6   su1        1077621 non-null  object\n",
      " 7   su2        1077621 non-null  object\n",
      " 8   su3        818839 non-null   object\n",
      " 9   page_href  1077621 non-null  object\n",
      " 10  su_id      1077621 non-null  object\n",
      " 11  data       1073032 non-null  object\n",
      "dtypes: bool(1), int64(2), object(9)\n",
      "memory usage: 91.5+ MB\n"
     ]
    }
   ],
   "source": [
    "df = df.explode('data', ignore_index=True)\n",
    "df.info()"
   ]
  },
  {
   "cell_type": "code",
   "execution_count": 127,
   "id": "4decb88a-d1bf-407d-9c4d-259b5745326a",
   "metadata": {},
   "outputs": [
    {
     "name": "stderr",
     "output_type": "stream",
     "text": [
      "100%|██████████████████████████████████████████████████████████████████████████| 91775/91775 [00:35<00:00, 2560.67it/s]"
     ]
    },
    {
     "name": "stdout",
     "output_type": "stream",
     "text": [
      "<class 'pandas.core.frame.DataFrame'>\n",
      "RangeIndex: 91775 entries, 0 to 91774\n",
      "Data columns (total 23 columns):\n",
      " #   Column           Non-Null Count  Dtype         \n",
      "---  ------           --------------  -----         \n",
      " 0   level_0          91775 non-null  int64         \n",
      " 1   index            91775 non-null  int64         \n",
      " 2   sity             91775 non-null  object        \n",
      " 3   title            91775 non-null  object        \n",
      " 4   discounts        91775 non-null  int64         \n",
      " 5   alcohol          91775 non-null  bool          \n",
      " 6   href             91775 non-null  object        \n",
      " 7   su1              91775 non-null  object        \n",
      " 8   su2              91775 non-null  object        \n",
      " 9   su3              60425 non-null  object        \n",
      " 10  page_href        91775 non-null  object        \n",
      " 11  su_id            91775 non-null  object        \n",
      " 12  data             90641 non-null  object        \n",
      " 13  title_unit       90641 non-null  object        \n",
      " 14  sku_id           90641 non-null  object        \n",
      " 15  dateEnd          90592 non-null  datetime64[ns]\n",
      " 16  price            26822 non-null  float64       \n",
      " 17  price_from       26822 non-null  float64       \n",
      " 18  price_to         63819 non-null  float64       \n",
      " 19  discountPercent  90641 non-null  float64       \n",
      " 20  quantity         76071 non-null  float64       \n",
      " 21  quantityUnit     76071 non-null  object        \n",
      " 22  dateStart        90592 non-null  datetime64[ns]\n",
      "dtypes: bool(1), datetime64[ns](2), float64(5), int64(3), object(12)\n",
      "memory usage: 15.5+ MB\n"
     ]
    },
    {
     "name": "stderr",
     "output_type": "stream",
     "text": [
      "\n"
     ]
    }
   ],
   "source": [
    "def process_column(x):\n",
    "    if isinstance(x, dict):\n",
    "        title = x['title']\n",
    "        sku_id = x.get('uuid', np.nan)\n",
    "        dateStart = pd.to_datetime(x.get('dateStart', np.nan), unit='ms')\n",
    "        dateEnd = pd.to_datetime(x.get('dateEnd', np.nan), unit='ms')\n",
    "        price = x['priceData'].get('new', {}).get('from', np.nan)\n",
    "        price_from = x['priceData'].get('new', {}).get('to', np.nan)\n",
    "        price_to = x['priceData'].get('new', {}).get('value', np.nan)\n",
    "        discountPercent = x['discountPercent']\n",
    "        quantity = x.get('quantity', np.nan)\n",
    "        quantityUnit = x.get('quantityUnit', np.nan)\n",
    "        \n",
    "        return pd.Series([title, sku_id, dateStart, dateEnd, price, price_from, price_to, discountPercent, quantity, quantityUnit])\n",
    "    return pd.Series([np.nan, np.nan, np.nan, np.nan, np.nan, np.nan, np.nan])\n",
    "\n",
    "now_columns = df['data'].progress_apply(process_column)\n",
    "df[['title_unit', 'sku_id', 'dateStart', 'dateEnd', 'price', 'price_from', 'price_to', 'discountPercent', 'quantity', 'quantityUnit']] = now_columns\n",
    "df.info()"
   ]
  },
  {
   "cell_type": "code",
   "execution_count": 41,
   "id": "29645680-69be-4e01-8643-6349d7499e3c",
   "metadata": {},
   "outputs": [
    {
     "data": {
      "text/html": [
       "<div>\n",
       "<style scoped>\n",
       "    .dataframe tbody tr th:only-of-type {\n",
       "        vertical-align: middle;\n",
       "    }\n",
       "\n",
       "    .dataframe tbody tr th {\n",
       "        vertical-align: top;\n",
       "    }\n",
       "\n",
       "    .dataframe thead th {\n",
       "        text-align: right;\n",
       "    }\n",
       "</style>\n",
       "<table border=\"1\" class=\"dataframe\">\n",
       "  <thead>\n",
       "    <tr style=\"text-align: right;\">\n",
       "      <th></th>\n",
       "      <th>data</th>\n",
       "      <th>name</th>\n",
       "    </tr>\n",
       "  </thead>\n",
       "  <tbody>\n",
       "    <tr>\n",
       "      <th>0</th>\n",
       "      <td>{'type': 'meta_offer', 'itemType': 'meta_offer...</td>\n",
       "      <td>Лопатка свиная Курский МП в маринаде 1.3 кг</td>\n",
       "    </tr>\n",
       "    <tr>\n",
       "      <th>1</th>\n",
       "      <td>{'type': 'meta_offer', 'itemType': 'meta_offer...</td>\n",
       "      <td>Купаты Магнит Свежесть cвиные охлажденные 400г</td>\n",
       "    </tr>\n",
       "    <tr>\n",
       "      <th>2</th>\n",
       "      <td>{'type': 'meta_offer', 'itemType': 'meta_offer...</td>\n",
       "      <td>Колбаски Мираторг Немецкие 400г</td>\n",
       "    </tr>\n",
       "    <tr>\n",
       "      <th>3</th>\n",
       "      <td>{'type': 'meta_offer', 'itemType': 'meta_offer...</td>\n",
       "      <td>Купаты Агроэко Экстра с томатами 400г</td>\n",
       "    </tr>\n",
       "    <tr>\n",
       "      <th>4</th>\n",
       "      <td>{'type': 'meta_offer', 'itemType': 'meta_offer...</td>\n",
       "      <td>Фарш Агро-Белогорье из свинины полуфабрикат 700г</td>\n",
       "    </tr>\n",
       "    <tr>\n",
       "      <th>...</th>\n",
       "      <td>...</td>\n",
       "      <td>...</td>\n",
       "    </tr>\n",
       "    <tr>\n",
       "      <th>17259</th>\n",
       "      <td>{'type': 'meta_offer', 'itemType': 'meta_offer...</td>\n",
       "      <td>Влажный корм для кошек Perfect Fit Иммунитет с...</td>\n",
       "    </tr>\n",
       "    <tr>\n",
       "      <th>17260</th>\n",
       "      <td>{'type': 'meta_offer', 'itemType': 'meta_offer...</td>\n",
       "      <td>Влажный корм для кошек Sheba Craft Collection ...</td>\n",
       "    </tr>\n",
       "    <tr>\n",
       "      <th>17261</th>\n",
       "      <td>{'type': 'offer', 'itemType': 'offer', 'view':...</td>\n",
       "      <td>Влажный корм для кошек Whiskas полнорационный ...</td>\n",
       "    </tr>\n",
       "    <tr>\n",
       "      <th>17262</th>\n",
       "      <td>{'type': 'offer', 'itemType': 'offer', 'view':...</td>\n",
       "      <td>Влажный корм для кошек Perfect Fit для стерили...</td>\n",
       "    </tr>\n",
       "    <tr>\n",
       "      <th>17263</th>\n",
       "      <td>{'type': 'meta_offer', 'itemType': 'meta_offer...</td>\n",
       "      <td>Наполнитель для кошачьего туалета Cat Step Blu...</td>\n",
       "    </tr>\n",
       "  </tbody>\n",
       "</table>\n",
       "<p>17264 rows × 2 columns</p>\n",
       "</div>"
      ],
      "text/plain": [
       "                                                    data  \\\n",
       "0      {'type': 'meta_offer', 'itemType': 'meta_offer...   \n",
       "1      {'type': 'meta_offer', 'itemType': 'meta_offer...   \n",
       "2      {'type': 'meta_offer', 'itemType': 'meta_offer...   \n",
       "3      {'type': 'meta_offer', 'itemType': 'meta_offer...   \n",
       "4      {'type': 'meta_offer', 'itemType': 'meta_offer...   \n",
       "...                                                  ...   \n",
       "17259  {'type': 'meta_offer', 'itemType': 'meta_offer...   \n",
       "17260  {'type': 'meta_offer', 'itemType': 'meta_offer...   \n",
       "17261  {'type': 'offer', 'itemType': 'offer', 'view':...   \n",
       "17262  {'type': 'offer', 'itemType': 'offer', 'view':...   \n",
       "17263  {'type': 'meta_offer', 'itemType': 'meta_offer...   \n",
       "\n",
       "                                                    name  \n",
       "0            Лопатка свиная Курский МП в маринаде 1.3 кг  \n",
       "1         Купаты Магнит Свежесть cвиные охлажденные 400г  \n",
       "2                        Колбаски Мираторг Немецкие 400г  \n",
       "3                  Купаты Агроэко Экстра с томатами 400г  \n",
       "4       Фарш Агро-Белогорье из свинины полуфабрикат 700г  \n",
       "...                                                  ...  \n",
       "17259  Влажный корм для кошек Perfect Fit Иммунитет с...  \n",
       "17260  Влажный корм для кошек Sheba Craft Collection ...  \n",
       "17261  Влажный корм для кошек Whiskas полнорационный ...  \n",
       "17262  Влажный корм для кошек Perfect Fit для стерили...  \n",
       "17263  Наполнитель для кошачьего туалета Cat Step Blu...  \n",
       "\n",
       "[17264 rows x 2 columns]"
      ]
     },
     "execution_count": 41,
     "metadata": {},
     "output_type": "execute_result"
    }
   ],
   "source": [
    "test = (df[df['title'] == 'Пятёрочка']['data']).copy().reset_index(drop=True).to_frame()\n",
    "test['name'] = test['data'].apply(lambda x: x.get('title', np.nan))\n",
    "test"
   ]
  },
  {
   "cell_type": "code",
   "execution_count": 48,
   "id": "5813d24f-5514-483a-a83f-ecc4e648728e",
   "metadata": {},
   "outputs": [
    {
     "data": {
      "text/plain": [
       "666"
      ]
     },
     "execution_count": 48,
     "metadata": {},
     "output_type": "execute_result"
    }
   ],
   "source": [
    "test['name'].str.contains(r'Влажный корм для').sum()"
   ]
  }
 ],
 "metadata": {
  "kernelspec": {
   "display_name": "Python 3 (ipykernel)",
   "language": "python",
   "name": "python3"
  },
  "language_info": {
   "codemirror_mode": {
    "name": "ipython",
    "version": 3
   },
   "file_extension": ".py",
   "mimetype": "text/x-python",
   "name": "python",
   "nbconvert_exporter": "python",
   "pygments_lexer": "ipython3",
   "version": "3.11.4"
  }
 },
 "nbformat": 4,
 "nbformat_minor": 5
}
