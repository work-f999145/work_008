{
 "cells": [
  {
   "cell_type": "markdown",
   "id": "fbc97626",
   "metadata": {},
   "source": [
    "- Здесь на основе собранных данных собираем базу данных сегментов/категорий.\n",
    "- После этого происходит обновление/дополнение предыдущей версии сегментов/категорий.\n",
    "- Тут можно запускать сразу весь ноутбук."
   ]
  },
  {
   "cell_type": "code",
   "execution_count": 1,
   "id": "3942d0bf-69f2-45a0-add0-2f64f19f682c",
   "metadata": {},
   "outputs": [],
   "source": [
    "from datetime import datetime\n",
    "from tqdm.notebook import tqdm\n",
    "import pandas as pd\n",
    "import numpy as np\n",
    "from pathlib import Path\n",
    "import requests\n",
    "from requests.exceptions import ConnectTimeout\n",
    "from datetime import datetime\n",
    "from pytz import timezone\n",
    "tqdm.pandas()\n",
    "requests.packages.urllib3.disable_warnings()"
   ]
  },
  {
   "cell_type": "code",
   "execution_count": 2,
   "id": "3fa23f39",
   "metadata": {},
   "outputs": [],
   "source": [
    "start = datetime.strftime(datetime.now(timezone('Europe/Moscow')), '%Y-%b-%d %H:%M:%S')"
   ]
  },
  {
   "cell_type": "code",
   "execution_count": 3,
   "id": "25ee289b-f7b0-4324-a065-986a9978247f",
   "metadata": {},
   "outputs": [],
   "source": [
    "def _save_df_to_zip(df_: pd.DataFrame, archive_name: str = 'archive', folder: str='data', replace: bool=False) -> None:\n",
    "    # Путь к файлу\n",
    "    file_path = Path(folder).joinpath(archive_name + '.zip')\n",
    "    Path(folder).mkdir(exist_ok=True)\n",
    "    # Проверяем, существует ли файл\n",
    "    if file_path.exists() and not replace:\n",
    "        # Получаем время создания файла\n",
    "        time = datetime.fromtimestamp(file_path.lstat().st_atime).strftime('%Y-%m-%d %H-%M')\n",
    "\n",
    "        # Создаем новое имя файла с добавлением времени Unix\n",
    "        new_file_name = file_path.stem + \" \" + str(time) + file_path.suffix\n",
    "\n",
    "        # Создаем новый путь для переименованного файла\n",
    "        new_file_path = file_path.with_name(new_file_name)\n",
    "        # Переименовываем файл\n",
    "        file_path.rename(new_file_path)\n",
    "\n",
    "# to csv\n",
    "    compression_opts = dict(method='zip', archive_name=f'{archive_name}.csv')\n",
    "    df_.to_csv(f'{folder}/{archive_name}.zip', index=False, compression=compression_opts, encoding='utf-8')"
   ]
  },
  {
   "cell_type": "code",
   "execution_count": 4,
   "id": "e9056940-6da7-489d-8ab2-d0cced63ea13",
   "metadata": {},
   "outputs": [],
   "source": [
    "loc_df = pd.read_csv('data/located_list.zip')\n",
    "ret_df = pd.read_csv('data/retailers.zip')"
   ]
  },
  {
   "cell_type": "code",
   "execution_count": 5,
   "id": "e23d8aff-3458-4b51-bc41-818e0692d3b6",
   "metadata": {},
   "outputs": [
    {
     "data": {
      "application/vnd.jupyter.widget-view+json": {
       "model_id": "4248dd6769ad40209fc57d4768cbad9c",
       "version_major": 2,
       "version_minor": 0
      },
      "text/plain": [
       "Зашрузка::   0%|          | 0/5354 [00:00<?, ?it/s]"
      ]
     },
     "metadata": {},
     "output_type": "display_data"
    }
   ],
   "source": [
    "segments_list = list()\n",
    "url = 'https://search.edadeal.io/api/v4/search'\n",
    "with tqdm(total=ret_df.shape[0], desc='Зашрузка:') as pbar:\n",
    "    for index, item in ret_df.iterrows():\n",
    "        \n",
    "        res = loc_df[loc_df['slug'] == item.sity].min()\n",
    "    \n",
    "        headers = {\n",
    "        'x-locality-geoid': str(res.geoId),\n",
    "        'x-position-latitude': f'{res.lat:.5f}',\n",
    "        'x-position-longitude': f'{res.lng:.5f}'\n",
    "        }\n",
    "        \n",
    "        params = {\n",
    "            'groupBy': ['meta'],\n",
    "             'noContent': ['true'],\n",
    "             'page': ['0'],\n",
    "             'retailerUuid': [item.data_uuid]\n",
    "        }\n",
    "        \n",
    "        for _ in range(10):\n",
    "            try:\n",
    "                respons = requests.get(url, headers=headers, params=params, verify=False).json()\n",
    "            except ConnectTimeout:\n",
    "                continue\n",
    "            else:\n",
    "                break\n",
    "            \n",
    "        segments_list.append((item.sity, item.data_uuid, respons))\n",
    "        pbar.update(1)\n"
   ]
  },
  {
   "cell_type": "code",
   "execution_count": 6,
   "id": "30be4ce1",
   "metadata": {},
   "outputs": [
    {
     "name": "stdout",
     "output_type": "stream",
     "text": [
      "<class 'pandas.core.frame.DataFrame'>\n",
      "RangeIndex: 1049 entries, 0 to 1048\n",
      "Data columns (total 5 columns):\n",
      " #   Column      Non-Null Count  Dtype \n",
      "---  ------      --------------  ----- \n",
      " 0   uuid        1049 non-null   object\n",
      " 1   slug        1049 non-null   object\n",
      " 2   level       1049 non-null   int64 \n",
      " 3   name        1049 non-null   object\n",
      " 4   parentUuid  1028 non-null   object\n",
      "dtypes: int64(1), object(4)\n",
      "memory usage: 41.1+ KB\n",
      "CPU times: total: 1min 13s\n",
      "Wall time: 1min 13s\n"
     ]
    }
   ],
   "source": [
    "%%time\n",
    "df = pd.DataFrame(segments_list, columns=['sity', 'market', 'tmp'])\n",
    "df = (df['tmp']\n",
    "      .apply(lambda x: x.get('entities').get('segments'))\n",
    "      .explode()\n",
    "      .dropna()\n",
    "      .apply(lambda x: pd.Series(x))\n",
    "      .drop('count',axis=1)\n",
    "      .drop_duplicates(ignore_index=True)\n",
    "      )\n",
    "df.info()"
   ]
  },
  {
   "cell_type": "code",
   "execution_count": 7,
   "id": "e847856e",
   "metadata": {},
   "outputs": [
    {
     "name": "stdout",
     "output_type": "stream",
     "text": [
      "Старая таблица: (1067, 5)\n"
     ]
    }
   ],
   "source": [
    "segment_old = pd.read_csv('data/segments_id.zip')\n",
    "print('Старая таблица:', segment_old.shape)\n",
    "df = pd.concat((segment_old, df), axis=0, ignore_index=True).drop_duplicates(keep='last', ignore_index=True)\n",
    "_save_df_to_zip(df, 'segments_id')"
   ]
  },
  {
   "cell_type": "code",
   "execution_count": 8,
   "id": "848e0330-3d8f-4792-9d0f-1b490a89a64d",
   "metadata": {},
   "outputs": [
    {
     "data": {
      "text/plain": [
       "(1082, 5)"
      ]
     },
     "execution_count": 8,
     "metadata": {},
     "output_type": "execute_result"
    }
   ],
   "source": [
    "lev_00 = df.copy()\n",
    "lev_00.shape"
   ]
  },
  {
   "cell_type": "code",
   "execution_count": 9,
   "id": "c4ee6fef-82d5-4fc9-b939-dce628c5ae04",
   "metadata": {},
   "outputs": [],
   "source": [
    "lev_03 = lev_00[lev_00['level'] == 3].reset_index(drop=True).copy().drop('level', axis=1)\n",
    "lev_02 = lev_00[lev_00['level'] == 2].reset_index(drop=True).copy().drop('level', axis=1)\n",
    "lev_01 = lev_00[lev_00['level'] == 1].reset_index(drop=True).copy().drop('level', axis=1)"
   ]
  },
  {
   "cell_type": "code",
   "execution_count": 10,
   "id": "7adc1c88-9a13-4e39-8726-ac69084f48a6",
   "metadata": {},
   "outputs": [],
   "source": [
    "lev_1 = lev_03.merge(\n",
    "                        right=lev_02,\n",
    "                        how='left',\n",
    "                        left_on='parentUuid',\n",
    "                        right_on='uuid',\n",
    "                        suffixes=(' level 03', ' level 02')\n",
    "                    )\n",
    "lev_2 = lev_1.merge(\n",
    "                        right=lev_01,\n",
    "                        how='left',\n",
    "                        left_on='parentUuid level 02',\n",
    "                        right_on='uuid'\n",
    "                    ).drop(['parentUuid level 03', 'parentUuid level 02', 'parentUuid'], axis=1)\n",
    "lev_df = lev_2[[\n",
    "                    'slug',\n",
    "                    'name',\n",
    "                    'uuid',\n",
    "                    'slug level 02',\n",
    "                    'name level 02',\n",
    "                    'uuid level 02',\n",
    "                    'slug level 03',\n",
    "                    'name level 03',\n",
    "                    'uuid level 03',\n",
    "                ]]"
   ]
  },
  {
   "cell_type": "code",
   "execution_count": 11,
   "id": "023e58a1-a738-4a8e-bcbc-ea003f4116b1",
   "metadata": {},
   "outputs": [],
   "source": [
    "_save_df_to_zip(lev_df, 'segments')\n",
    "# lev_df.to_excel('data/segments.xlsx', index=False)"
   ]
  },
  {
   "cell_type": "code",
   "execution_count": 12,
   "id": "c1c1ce24",
   "metadata": {},
   "outputs": [
    {
     "name": "stdout",
     "output_type": "stream",
     "text": [
      "Начало: 2023-Oct-03 10:11:21\n",
      "Конец: 2023-Oct-03 10:23:04\n"
     ]
    }
   ],
   "source": [
    "end = datetime.strftime(datetime.now(timezone('Europe/Moscow')), '%Y-%b-%d %H:%M:%S')\n",
    "print(f'Начало: {start}')\n",
    "print(f'Конец: {end}')"
   ]
  }
 ],
 "metadata": {
  "kernelspec": {
   "display_name": "Python 3 (ipykernel)",
   "language": "python",
   "name": "python3"
  },
  "language_info": {
   "codemirror_mode": {
    "name": "ipython",
    "version": 3
   },
   "file_extension": ".py",
   "mimetype": "text/x-python",
   "name": "python",
   "nbconvert_exporter": "python",
   "pygments_lexer": "ipython3",
   "version": "3.11.4"
  }
 },
 "nbformat": 4,
 "nbformat_minor": 5
}
