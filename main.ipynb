{
 "cells": [
  {
   "cell_type": "markdown",
   "id": "9c8da6bf-a545-48e4-94ba-5d378b9baf37",
   "metadata": {},
   "source": [
    "# 0. Import/Classes/Logger"
   ]
  },
  {
   "cell_type": "code",
   "execution_count": 51,
   "id": "d603f43e-035a-4919-a03f-b9480178d7f5",
   "metadata": {},
   "outputs": [],
   "source": [
    "from bs4 import BeautifulSoup as BS\n",
    "import undetected_chromedriver as uc\n",
    "import json\n",
    "from selenium.webdriver.common.by import By \n",
    "from selenium.webdriver.support.wait import WebDriverWait\n",
    "from selenium.webdriver.common.keys import Keys\n",
    "from selenium.common.exceptions import TimeoutException, ElementNotVisibleException, ElementNotSelectableException, NoSuchElementException, ElementNotInteractableException, StaleElementReferenceException, ElementClickInterceptedException, InvalidSelectorException\n",
    "\n",
    "import re\n",
    "from time import sleep as time_sleep, time\n",
    "from queue import Queue\n",
    "import math\n",
    "from typing import NamedTuple\n",
    "from datetime import datetime\n",
    "from zipfile import ZipFile, ZIP_DEFLATED\n",
    "from selenium import webdriver\n",
    "import requests\n",
    "from webdriver_manager.chrome import ChromeDriverManager\n",
    "import lxml\n",
    "from itertools import chain\n",
    "from typing import NamedTuple\n",
    "import pickle\n",
    "from collections import deque\n",
    "from tqdm import tqdm\n",
    "import pandas as pd\n",
    "import numpy as np\n",
    "import logging\n",
    "from pathlib import Path"
   ]
  },
  {
   "cell_type": "code",
   "execution_count": 2,
   "id": "97d166f3-f659-4d0f-8a95-03d53721908f",
   "metadata": {},
   "outputs": [],
   "source": [
    "# получение пользовательского логгера и установка уровня логирования\n",
    "short_logger = logging.getLogger('short_logger')\n",
    "short_logger.setLevel(logging.INFO)\n",
    "\n",
    "# настройка обработчика и форматировщика в соответствии с нашими нуждами\n",
    "short_handler = logging.FileHandler(\"data/short_logger.log\", encoding='utf-8', mode='a')\n",
    "short_formatter = logging.Formatter(\"%(asctime)s %(levelname)s %(funcName)s %(message)s\")\n",
    "\n",
    "# добавление форматировщика к обработчику \n",
    "short_handler.setFormatter(short_formatter)\n",
    "# добавление обработчика к логгеру\n",
    "short_logger.addHandler(short_handler)\n",
    "\n",
    "# получение пользовательского логгера и установка уровня логирования\n",
    "long_logger = logging.getLogger('long_logger')\n",
    "long_logger.setLevel(logging.INFO)\n",
    "\n",
    "# настройка обработчика и форматировщика в соответствии с нашими нуждами\n",
    "long_handler = logging.FileHandler(\"data/long_logger.log\", encoding='utf-8', mode='w')\n",
    "long_formatter = logging.Formatter(\"%(asctime)s %(levelname)s %(funcName)s %(message)s\")\n",
    "\n",
    "# добавление форматировщика к обработчику \n",
    "long_handler.setFormatter(long_formatter)\n",
    "# добавление обработчика к логгеру\n",
    "long_logger.addHandler(long_handler)"
   ]
  },
  {
   "cell_type": "code",
   "execution_count": 3,
   "id": "4674fa94",
   "metadata": {},
   "outputs": [],
   "source": [
    "def _save_df_to_zip(df_: pd.DataFrame, archive_name: str = 'archive', folder: str='data', replace: bool=False) -> None:\n",
    "    # Путь к файлу\n",
    "    file_path = Path(folder).joinpath(archive_name + '.zip')\n",
    "    Path(folder).mkdir(exist_ok=True)\n",
    "    # Проверяем, существует ли файл\n",
    "    if file_path.exists() and not replace:\n",
    "        # Получаем время создания файла\n",
    "        time = datetime.fromtimestamp(file_path.lstat().st_atime).strftime('%Y-%m-%d %H:%M')\n",
    "\n",
    "        # Создаем новое имя файла с добавлением времени Unix\n",
    "        new_file_name = file_path.stem + \"_\" + str(time) + file_path.suffix\n",
    "\n",
    "        # Создаем новый путь для переименованного файла\n",
    "        new_file_path = file_path.with_name(new_file_name)\n",
    "        # Переименовываем файл\n",
    "        file_path.rename(new_file_path)\n",
    "\n",
    "# to csv\n",
    "    compression_opts = dict(method='zip', archive_name=f'{archive_name}.csv')\n",
    "    df_.to_csv(f'{folder}/{archive_name}.zip', index=False, compression=compression_opts, encoding='utf-8')"
   ]
  },
  {
   "cell_type": "code",
   "execution_count": 4,
   "id": "db584197-4cd9-4e0e-8243-df0327a6bbe1",
   "metadata": {},
   "outputs": [],
   "source": [
    "class market_link(NamedTuple):\n",
    "    sity: str\n",
    "    title: str\n",
    "    discounts: int\n",
    "    alcohol: bool\n",
    "    href: str\n",
    "    su1: str\n",
    "    su2: str\n",
    "    page_href: str\n",
    "\n",
    "class MyTimeoutErrore(Exception):\n",
    "    def __init__(self, text: str='timeout'):\n",
    "        self.txt = text"
   ]
  },
  {
   "cell_type": "code",
   "execution_count": 5,
   "id": "149a3400-553b-408c-beb9-5ddf4f930e57",
   "metadata": {},
   "outputs": [],
   "source": [
    "driver = webdriver.Chrome()"
   ]
  },
  {
   "cell_type": "markdown",
   "id": "d1475db7-5be7-4c82-b4c2-b5bfb65d735b",
   "metadata": {
    "jp-MarkdownHeadingCollapsed": true
   },
   "source": [
    "# 1. Получение адресов городов"
   ]
  },
  {
   "cell_type": "code",
   "execution_count": null,
   "id": "d285b512-d584-428f-8c65-62f96c27263d",
   "metadata": {},
   "outputs": [],
   "source": []
  },
  {
   "cell_type": "markdown",
   "id": "2c056051-eba4-412d-8286-fd73f99b1962",
   "metadata": {},
   "source": [
    "# 2. Получение ссылок на Магазины"
   ]
  },
  {
   "cell_type": "markdown",
   "id": "69ec1502-f847-419c-aa9e-3f4c8e1673e0",
   "metadata": {},
   "source": [
    "## 2.1. Получение ссылки на старицы каталогов с магазинами"
   ]
  },
  {
   "cell_type": "markdown",
   "id": "8bafcb32-ee29-4096-a248-b4cce98760f7",
   "metadata": {},
   "source": [
    "### 2.1.1. Функции"
   ]
  },
  {
   "cell_type": "code",
   "execution_count": 36,
   "id": "c93dba6a-d597-41d9-989e-d58a7a94d450",
   "metadata": {},
   "outputs": [],
   "source": [
    "def _get_page_count(driver: webdriver.Chrome, url: str, pagin_sufix: str, timeout: int=30) -> list[str]:\n",
    "    \"\"\"\n",
    "        Возвращает лист с доступными ссылками\n",
    "    \"\"\"\n",
    "    # Класс задержки, который будет ожидать когда догрузится элемент\n",
    "    wait = WebDriverWait(\n",
    "        driver,\n",
    "        timeout=timeout + 10,\n",
    "        poll_frequency=1,\n",
    "        # ignored_exceptions=[ElementNotVisibleException, ElementNotSelectableException, NoSuchElementException]\n",
    "        )\n",
    "    # Вызов страницы\n",
    "    driver.get(url)\n",
    "    time_start = int(time())\n",
    "    while (int(time()) - time_start) < timeout:\n",
    "        # Задержка действий до загрузки отслеживаемых елементов.\n",
    "        # wait.until(lambda d: d.find_element(by=By.XPATH, value=\"//nav[@aria-label='Постраничная навигация']\"))\n",
    "        wait.until(lambda d: d.find_element(by=By.XPATH, value=\"//nav[@data-test-ref='paginator']\"))\n",
    "        # Парсинг\n",
    "        page = BS(driver.page_source, 'lxml')\n",
    "        \n",
    "        try:\n",
    "            f1 = page.find('nav', {'data-test-ref':\"paginator\"})\n",
    "        except Exception as ex:\n",
    "            print(ex)\n",
    "            continue\n",
    "            \n",
    "        try:    \n",
    "            pagination = int(f1.find_all('a')[-2].text)\n",
    "        except Exception as ex:\n",
    "            print(ex)\n",
    "            continue\n",
    "        \n",
    "        out_list = [f'{url}{pagin_sufix}{x}' for x in range(1, pagination+1)]\n",
    "        \n",
    "        break\n",
    "    else:\n",
    "        raise Exception(\"timeout\")\n",
    "    \n",
    "    return out_list"
   ]
  },
  {
   "cell_type": "markdown",
   "id": "8099490d-37c6-4e63-85dc-c186f10e2de3",
   "metadata": {},
   "source": [
    "### 2.1.2. Выполнение"
   ]
  },
  {
   "cell_type": "code",
   "execution_count": 34,
   "id": "c885442c-b78c-41a4-b487-7bb62d0324fd",
   "metadata": {},
   "outputs": [],
   "source": [
    "# driver.get('https://edadeal.ru/lipeck/retailers')\n",
    "url = 'https://edadeal.ru/lipeck/retailers'"
   ]
  },
  {
   "cell_type": "code",
   "execution_count": 37,
   "id": "52ca4ce0-b664-4692-acdb-4733c07e697e",
   "metadata": {},
   "outputs": [
    {
     "name": "stdout",
     "output_type": "stream",
     "text": [
      "list index out of range\n"
     ]
    },
    {
     "data": {
      "text/plain": [
       "['https://edadeal.ru/lipeck/retailers?page=1',\n",
       " 'https://edadeal.ru/lipeck/retailers?page=2',\n",
       " 'https://edadeal.ru/lipeck/retailers?page=3',\n",
       " 'https://edadeal.ru/lipeck/retailers?page=4',\n",
       " 'https://edadeal.ru/lipeck/retailers?page=5']"
      ]
     },
     "execution_count": 37,
     "metadata": {},
     "output_type": "execute_result"
    }
   ],
   "source": [
    "temp_url_list = _get_page_count(driver, url, '?page=')\n",
    "temp_url_list"
   ]
  },
  {
   "cell_type": "markdown",
   "id": "caf85ea2-0608-40dd-8762-9db3b45e032a",
   "metadata": {},
   "source": [
    "## 2.2. Получение непосредственно все ссылки на Магазины"
   ]
  },
  {
   "cell_type": "markdown",
   "id": "b0c5e560-31a9-420b-8ee8-b72fd29bdb6f",
   "metadata": {},
   "source": [
    "### 2.2.1. Функции"
   ]
  },
  {
   "cell_type": "code",
   "execution_count": 38,
   "id": "0cc3fac3-86b1-4fe9-93be-9f821b281464",
   "metadata": {},
   "outputs": [],
   "source": [
    "def get_retailers_links(driver: webdriver.Chrome, url: str, sity: str, timeout: int=30) -> list[market_link]:\n",
    "    \"\"\"\n",
    "        Возвращает лист с магазинами и ссылками.\n",
    "    \"\"\"\n",
    "    \n",
    "    host = '/'.join(url.split('/')[:-1])\n",
    "    out_list = list()\n",
    "    # Класс задержки, который будет ожидать когда догрузится элемент\n",
    "    wait = WebDriverWait(\n",
    "        driver,\n",
    "        timeout=timeout + 10,\n",
    "        poll_frequency=1\n",
    "        )\n",
    "\n",
    "    \n",
    "    # Вызов страницы\n",
    "    driver.get(url)\n",
    "    time_start = int(time())\n",
    "    \n",
    "    while (int(time()) - time_start) < timeout:\n",
    "        # Задержка действий до загрузки отслеживаемых елементов.\n",
    "        wait.until(lambda d: d.find_element(by=By.XPATH, value=\"//nav[@aria-label='Постраничная навигация']\"))\n",
    "        # Парсинг\n",
    "        page = BS(driver.page_source, 'lxml')\n",
    "        \n",
    "        try:\n",
    "            f1 = page.find('div', class_='p-dsk-srch-retailers__content').find('div', class_='b-dsk-grid__container').find_all('article')\n",
    "        except Exception as ex:\n",
    "            print(ex)\n",
    "            continue\n",
    "        \n",
    "        try:    \n",
    "            for item in f1:\n",
    "                href = host + item.find('a').get('href')\n",
    "                title = item.find('a').find('h4').get('title')\n",
    "                discounts = int((re.findall(r'(\\d+)', item.find('a').find('p').text)[0]))\n",
    "                out_list.append(market_link(sity, title, discounts, False, href, None, None, None))\n",
    "                \n",
    "        except Exception as ex:\n",
    "            print(ex)\n",
    "            continue\n",
    "        \n",
    "        break\n",
    "    \n",
    "    else:\n",
    "        raise MyTimeoutErrore('timeout')\n",
    "    \n",
    "    return out_list"
   ]
  },
  {
   "cell_type": "markdown",
   "id": "e7431b75-7639-4a48-bca5-138649c8605c",
   "metadata": {},
   "source": [
    "### 2.2.2. Выполнение"
   ]
  },
  {
   "cell_type": "code",
   "execution_count": 39,
   "id": "14419582-a37c-4b27-950b-ab969ee3466d",
   "metadata": {
    "scrolled": true
   },
   "outputs": [
    {
     "name": "stdout",
     "output_type": "stream",
     "text": [
      "59\n"
     ]
    }
   ],
   "source": [
    "temp_retailer_links = list()\n",
    "for link in temp_url_list:\n",
    "    temp_retailer_links.append(get_retailers_links(driver, link, 'lipetsk'))\n",
    "\n",
    "retailer_links = list(chain.from_iterable(temp_retailer_links))\n",
    "print(len(retailer_links))\n",
    "# print(retailer_links)"
   ]
  },
  {
   "cell_type": "markdown",
   "id": "2619de30",
   "metadata": {
    "jp-MarkdownHeadingCollapsed": true
   },
   "source": [
    "### 2.2.3. Save/Load"
   ]
  },
  {
   "cell_type": "code",
   "execution_count": 40,
   "id": "cf4209f0-2850-474b-8935-ad2c9ee0757b",
   "metadata": {},
   "outputs": [],
   "source": [
    "with open('data/retailer_links.pickle', 'wb') as file:\n",
    "    pickle.dump(retailer_links, file)"
   ]
  },
  {
   "cell_type": "code",
   "execution_count": 6,
   "id": "54fd77fb-7162-4fc8-b0f6-42340515c128",
   "metadata": {},
   "outputs": [],
   "source": [
    "with open('data/retailer_links.pickle', 'rb') as file:\n",
    "    retailer_links = pickle.load(file)"
   ]
  },
  {
   "cell_type": "markdown",
   "id": "993f54bf-fd25-44c4-8c04-87a0d7a6c536",
   "metadata": {},
   "source": [
    "# 3. Получение адресов Товаров"
   ]
  },
  {
   "cell_type": "markdown",
   "id": "4e812270-1236-449e-b451-4ad897740fc6",
   "metadata": {},
   "source": [
    "## 3.1. Получение ссылок на каталоги с товарами"
   ]
  },
  {
   "cell_type": "markdown",
   "id": "e7bfed0d-dc09-4052-b6fb-9c9154012bfe",
   "metadata": {},
   "source": [
    "### 3.1.1. Функции"
   ]
  },
  {
   "cell_type": "code",
   "execution_count": 7,
   "id": "163987df-7a60-4a67-9064-e89112980441",
   "metadata": {},
   "outputs": [],
   "source": [
    "def _get_page_count2(driver: webdriver.Chrome, url: str, pagin_sufix: str, timeout: int=30) -> tuple[list[str],bool]:\n",
    "    \"\"\"\n",
    "        Возвращает лист с доступными ссылками\n",
    "    \"\"\"\n",
    "    # Класс задержки, который будет ожидать когда догрузится элемент\n",
    "    wait = WebDriverWait(\n",
    "        driver,\n",
    "        timeout=timeout,\n",
    "        poll_frequency=1,\n",
    "        # ignored_exceptions=[ElementNotVisibleException, ElementNotSelectableException, NoSuchElementException]\n",
    "        )\n",
    "    # Вызов страницы\n",
    "    try:\n",
    "        driver.get(url)\n",
    "    except TimeoutException as ex:\n",
    "        raise MyTimeoutErrore(f'timeout bad DRIVER get url: {url}')\n",
    "    \n",
    "    \n",
    "    empty_page = False\n",
    "    # Клик по кнопке \"Есть 18 лет\"\n",
    "    alcohol = True\n",
    "    # Проверка появления \"Да, мне есть 18\"\n",
    "    try:\n",
    "        button = wait.until(lambda d: d.find_element(by=By.XPATH, value=\"//div[@class='b-dsk-adult-disclaimer__wrapper']//button[@type='button']\"))\n",
    "        button.click()\n",
    "    except TimeoutException:\n",
    "        alcohol = False\n",
    "    except ElementNotInteractableException:\n",
    "        alcohol = False\n",
    "    \n",
    "    time_start = int(time())\n",
    "    while (int(time()) - time_start) < timeout*2:\n",
    "        # Задержка действий до загрузки отслеживаемых елементов.\n",
    "        try:\n",
    "            wait.until(lambda d: d.find_element(by=By.XPATH, value=\"//nav[@data-test-ref='paginator']\"))\n",
    "        except TimeoutException:\n",
    "            try:\n",
    "                # Проверка на отсутствие скидок.\n",
    "                driver.find_element(by=By.XPATH, value=\"//div[@class='b-dsk-stub__description']\")\n",
    "            except TimeoutException:\n",
    "                raise MyTimeoutErrore(f'timeout not TABLE in url: {url}')\n",
    "            else:\n",
    "                empty_page = True\n",
    "                out_list = None\n",
    "                alcohol = True\n",
    "                break\n",
    "                \n",
    "        # Парсинг\n",
    "        page = BS(driver.page_source, 'lxml')\n",
    "        \n",
    "        try:\n",
    "            f1 = page.find('nav', {'data-test-ref':\"paginator\"})\n",
    "        except Exception as ex:\n",
    "            continue\n",
    "            \n",
    "        try:    \n",
    "            pagination = int(f1.find_all('a')[-2].text)\n",
    "        except Exception as ex:\n",
    "            continue\n",
    "        \n",
    "        out_list = [f'{url}{pagin_sufix}{x}' for x in range(1, pagination+1)]\n",
    "        \n",
    "        break\n",
    "    else:\n",
    "        raise MyTimeoutErrore(f'timeout not PAGINATOR in url: {url}')\n",
    "    \n",
    "    return (out_list, alcohol, empty_page)\n",
    "\n",
    "def _get_all_links_to_market(driver: webdriver.Chrome, list_url: list[market_link], timeout: int=30) -> list[market_link]:\n",
    "    \"\"\"\n",
    "        Получение адресов на все страницы с каталогами товаров\n",
    "        Что бы после можно было использовать много поточность.\n",
    "    \"\"\"\n",
    "    loger_fault = list()\n",
    "    dead_line = 100\n",
    "    # Очередь\n",
    "    q = deque(list_url)\n",
    "\n",
    "    out_list = list()\n",
    "    with tqdm(total=len(list_url)) as pbar:\n",
    "        while len(q) > 0:\n",
    "            if dead_line < 0:\n",
    "                break\n",
    "            \n",
    "            item = q.popleft()\n",
    "            \n",
    "            if item.discounts > 24:\n",
    "                try:\n",
    "                    temp_url_list, alcohol, empty_page = _get_page_count2(driver, item.href, '?page=', timeout)\n",
    "                except MyTimeoutErrore as mte:\n",
    "                    q.append(item)\n",
    "                    loger_fault.append(mte)\n",
    "                    dead_line -= 1\n",
    "                    continue\n",
    "                if not empty_page:\n",
    "                    for href in temp_url_list:\n",
    "                        out_list.append(market_link(item.sity,\n",
    "                                                    item.title,\n",
    "                                                    item.discounts,\n",
    "                                                    alcohol,\n",
    "                                                    item.href,\n",
    "                                                    href))\n",
    "                    \n",
    "            elif item.discounts:\n",
    "                out_list.append(market_link(item.sity,\n",
    "                                            item.title,\n",
    "                                            item.discounts,\n",
    "                                            True,\n",
    "                                            item.href,\n",
    "                                            item.href))\n",
    "            else:\n",
    "                out_list.append(market_link(*item[:-1], None))\n",
    "            \n",
    "            pbar.update(1)\n",
    "\n",
    "    return (out_list, loger_fault, q)"
   ]
  },
  {
   "cell_type": "markdown",
   "id": "9034ba3b",
   "metadata": {},
   "source": [
    "### 2.2.2/2 Корректировка"
   ]
  },
  {
   "cell_type": "code",
   "execution_count": 52,
   "id": "bcc69187",
   "metadata": {},
   "outputs": [],
   "source": [
    "url = retailer_links[2].href\n",
    "driver.get(url=url)\n",
    "market = retailer_links[2]"
   ]
  },
  {
   "cell_type": "code",
   "execution_count": 53,
   "id": "8dba4692",
   "metadata": {
    "tags": []
   },
   "outputs": [
    {
     "ename": "MyTimeoutErrore",
     "evalue": "",
     "output_type": "error",
     "traceback": [
      "\u001b[1;31m---------------------------------------------------------------------------\u001b[0m",
      "\u001b[1;31mMyTimeoutErrore\u001b[0m                           Traceback (most recent call last)",
      "Cell \u001b[1;32mIn[53], line 90\u001b[0m\n\u001b[0;32m     85\u001b[0m     el3 \u001b[39m=\u001b[39m (el\n\u001b[0;32m     86\u001b[0m         \u001b[39m.\u001b[39mfind_element(By\u001b[39m.\u001b[39mXPATH, \u001b[39m'\u001b[39m\u001b[39m.//div[contains(@class, \u001b[39m\u001b[39m\"\u001b[39m\u001b[39mb-dsk-srch-cats-tree__children\u001b[39m\u001b[39m\"\u001b[39m\u001b[39m)]/div[contains(@class, \u001b[39m\u001b[39m\"\u001b[39m\u001b[39mi-block-helper\u001b[39m\u001b[39m\"\u001b[39m\u001b[39m)]\u001b[39m\u001b[39m'\u001b[39m)\n\u001b[0;32m     87\u001b[0m         \u001b[39m.\u001b[39mfind_elements(By\u001b[39m.\u001b[39mXPATH, \u001b[39m'\u001b[39m\u001b[39m.//div[contains(@class, \u001b[39m\u001b[39m\"\u001b[39m\u001b[39mb-dsk-srch-cats-tree__node\u001b[39m\u001b[39m\"\u001b[39m\u001b[39m)]//button\u001b[39m\u001b[39m'\u001b[39m)\n\u001b[0;32m     88\u001b[0m         )\n\u001b[0;32m     89\u001b[0m \u001b[39melse\u001b[39;00m:\n\u001b[1;32m---> 90\u001b[0m     \u001b[39mraise\u001b[39;00m MyTimeoutErrore()\n\u001b[0;32m     92\u001b[0m \u001b[39mfor\u001b[39;00m item \u001b[39min\u001b[39;00m el3:\n\u001b[0;32m     93\u001b[0m     item\u001b[39m.\u001b[39mclick()\n",
      "\u001b[1;31mMyTimeoutErrore\u001b[0m: "
     ]
    }
   ],
   "source": [
    "def _check_load_page(driver: webdriver.Chrome, timeout: int=20) -> bool:\n",
    "    \"\"\"\n",
    "       Проверка наличия названия продукта в ячейке\n",
    "    \"\"\"\n",
    "    time_start = int(time())\n",
    "    while (int(time()) - time_start) < timeout:\n",
    "        n = driver.find_elements(By.XPATH, \"\"\"//div[contains(@class, \"p-dsk-srch-retailer__content\")]\n",
    "                                                //div[contains(@class, \"b-dsk-grid__container\")]\n",
    "                                                /a[contains(@class, \"p-dsk-srch-retailer__card\")]\n",
    "                                                \"\"\")\n",
    "        if len(n) > 0:\n",
    "            try:\n",
    "                k = n[0].find_element(By.XPATH, './/div[contains(@class, \"b-srch-card__price\")]//span[@data-test-ref, \"money-base\"]')\n",
    "            except InvalidSelectorException:\n",
    "                time_sleep(0.2)\n",
    "                continue\n",
    "            if int(k.text) > 0:\n",
    "                return True\n",
    "        else:\n",
    "            continue\n",
    "    return False\n",
    "\n",
    "\n",
    "\n",
    "def _check_alcohol(driver: webdriver.Chrome, item: market_link, timeout: int=20) -> bool:\n",
    "    wait = WebDriverWait(\n",
    "        driver,\n",
    "        timeout=timeout,\n",
    "        poll_frequency=1\n",
    "        )\n",
    "\n",
    "    try:\n",
    "        # Ожидаем появляение кнопки, если она не повится, то ничего не делаем.\n",
    "        print('alcohol')\n",
    "        button = driver.find_element(By.XPATH, \"//div[contains(text(), 'Да. Мне есть 18')]\")\n",
    "        button.click()\n",
    "        return True\n",
    "    except TimeoutException:\n",
    "        short_logger.info(f'alcochol timeout: {item.title} :: {item.page_href}')\n",
    "    except ElementNotInteractableException:\n",
    "        short_logger.warning(f'alcochol not button: {item.title} :: {item.page_href}')\n",
    "    except Exception as ex:\n",
    "        short_logger.error(f'alcochol other: {ex} :: {item.title} :: {item.page_href}')\n",
    "        long_logger.error(f'alcochol other: {ex} :: {item.title} :: {item.page_href}', exc_info=True)\n",
    "    finally:\n",
    "        return False\n",
    "\n",
    "\n",
    "        \n",
    "\n",
    "out_list = list()\n",
    "\n",
    "el1 = (driver\n",
    "      .find_element(By.CSS_SELECTOR, '.p-dsk-srch-retailer__body')\n",
    "      .find_element(By.CSS_SELECTOR, '.p-dsk-srch-retailer__sidebar-container')\n",
    "      .find_element(By.CSS_SELECTOR, '.i-block-helper')\n",
    "      .find_element(By.CSS_SELECTOR, '.b-dsk-srch-cats-tree__node')\n",
    "      .find_elements(By.XPATH, \"following-sibling::*\")\n",
    "      )\n",
    "\n",
    "for _ in range(10):\n",
    "    try:\n",
    "        driver.find_element(By.XPATH, '//div[contains(text(), \"Да. Мне есть 18\")]/ancestor::button').click()\n",
    "    except NoSuchElementException:\n",
    "        break\n",
    "    except ElementNotInteractableException:\n",
    "        time_sleep(0.2)\n",
    "        continue\n",
    "    else:\n",
    "        break\n",
    "\n",
    "\n",
    "for el in el1:\n",
    "        time_sleep(0.2)\n",
    "        el2 = (el\n",
    "               .find_element(By.XPATH, './/div[contains(@class, \"b-dsk-srch-cats-tree__item-wrapper\")]/button')\n",
    "              )\n",
    "        el2.click()\n",
    "        time_sleep(0.2)\n",
    "        su1 = el2.text\n",
    "        \n",
    "                \n",
    "        if (_check_load_page(driver)):\n",
    "            # print(su1)\n",
    "            el3 = (el\n",
    "                .find_element(By.XPATH, './/div[contains(@class, \"b-dsk-srch-cats-tree__children\")]/div[contains(@class, \"i-block-helper\")]')\n",
    "                .find_elements(By.XPATH, './/div[contains(@class, \"b-dsk-srch-cats-tree__node\")]//button')\n",
    "                )\n",
    "        else:\n",
    "            raise MyTimeoutErrore()\n",
    "\n",
    "        for item in el3:\n",
    "            item.click()\n",
    "            time_sleep(0.2)\n",
    "            item.send_keys(Keys.ARROW_DOWN)\n",
    "            # item.send_keys(Keys.ARROW_DOWN)\n",
    "            if (_check_load_page(driver)):\n",
    "                su2 = item.text\n",
    "                \n",
    "                su3_list = driver.find_elements(By.XPATH, '//li[contains(@class, \"b-dsk-srch-cats-list__item\")]/button')\n",
    "\n",
    "                if len(su3_list) > 2:\n",
    "                    for s_item in su3_list[1:]:\n",
    "                        su3 = s_item.text\n",
    "                        href = driver.current_url + '&segmentUuid2='+ s_item.get_attribute('value')\n",
    "                        out_list.append((su1, su2, su3, href))\n",
    "                else:\n",
    "                    su3 = np.nan\n",
    "                    href = driver.current_url\n",
    "                    print(su3, href)\n",
    "                    out_list.append((su1, su2, su3, href))\n",
    "                \n",
    "                \n",
    "                \n",
    "                \n",
    "               \n",
    "\n",
    "print(out_list)\n",
    "# out_html = el3[0]\n",
    "# print(BS(out_html.get_attribute('innerHTML')).prettify())"
   ]
  },
  {
   "cell_type": "code",
   "execution_count": 11,
   "id": "8058944a",
   "metadata": {},
   "outputs": [],
   "source": [
    "for _ in range(10):\n",
    "    try:\n",
    "        driver.find_element(By.XPATH, '//div[contains(text(), \"Да. Мне есть 18\")]/ancestor::button').click()\n",
    "    except NoSuchElementException:\n",
    "        break\n",
    "    except ElementNotInteractableException:\n",
    "        time_sleep(0.2)\n",
    "        continue\n",
    "    else:\n",
    "        break"
   ]
  },
  {
   "cell_type": "code",
   "execution_count": 40,
   "id": "8d408035",
   "metadata": {},
   "outputs": [
    {
     "data": {
      "text/plain": [
       "'Детская посуда'"
      ]
     },
     "execution_count": 40,
     "metadata": {},
     "output_type": "execute_result"
    }
   ],
   "source": [
    "f1 = driver.find_elements(By.XPATH, '//li[contains(@class, \"b-dsk-srch-cats-list__item\")]/button')\n",
    "f1[1].text"
   ]
  },
  {
   "cell_type": "code",
   "execution_count": 44,
   "id": "cf6cc4e5",
   "metadata": {},
   "outputs": [
    {
     "name": "stdout",
     "output_type": "stream",
     "text": [
      "Фрукты свежие https://edadeal.ru/lipeck/retailers/magnit-univer?segmentUuid=3b3355da-6311-11e6-849f-52540010b608&segmentUuid2=3b335642-6311-11e6-849f-52540010b608\n",
      "Овощи https://edadeal.ru/lipeck/retailers/magnit-univer?segmentUuid=3b3355da-6311-11e6-849f-52540010b608&segmentUuid2=3b3356b2-6311-11e6-849f-52540010b608\n",
      "Соленья https://edadeal.ru/lipeck/retailers/magnit-univer?segmentUuid=3b3355da-6311-11e6-849f-52540010b608&segmentUuid2=3b3357d3-6311-11e6-849f-52540010b608\n",
      "Грибы свежие https://edadeal.ru/lipeck/retailers/magnit-univer?segmentUuid=3b3355da-6311-11e6-849f-52540010b608&segmentUuid2=3b335b7f-6311-11e6-849f-52540010b608\n",
      "Зелень https://edadeal.ru/lipeck/retailers/magnit-univer?segmentUuid=3b3355da-6311-11e6-849f-52540010b608&segmentUuid2=3b335762-6311-11e6-849f-52540010b608\n",
      "Ягоды свежие https://edadeal.ru/lipeck/retailers/magnit-univer?segmentUuid=3b3355da-6311-11e6-849f-52540010b608&segmentUuid2=3b335c1d-6311-11e6-849f-52540010b608\n",
      "Зелёные салаты https://edadeal.ru/lipeck/retailers/magnit-univer?segmentUuid=3b3355da-6311-11e6-849f-52540010b608&segmentUuid2=3b335833-6311-11e6-849f-52540010b608\n"
     ]
    }
   ],
   "source": [
    "su3_list = driver.find_elements(By.XPATH, '//li[contains(@class, \"b-dsk-srch-cats-list__item\")]/button')\n",
    "\n",
    "if len(su3_list) > 2:\n",
    "    for s_item in su3_list[1:]:\n",
    "        su3 = s_item.text\n",
    "        href = driver.current_url + '&segmentUuid2='+ s_item.get_attribute('value')\n",
    "        print(su3, href)\n",
    "else:\n",
    "    su3 = np.nan\n",
    "    href = driver.current_url\n",
    "    print(su3, href)"
   ]
  },
  {
   "cell_type": "code",
   "execution_count": 72,
   "id": "39865326",
   "metadata": {},
   "outputs": [
    {
     "data": {
      "text/plain": [
       "[<selenium.webdriver.remote.webelement.WebElement (session=\"56843f5e568be0e9ac0389289b338551\", element=\"8C039A430A34DBB80A60A6D8ED7078FC_element_1783\")>,\n",
       " <selenium.webdriver.remote.webelement.WebElement (session=\"56843f5e568be0e9ac0389289b338551\", element=\"8C039A430A34DBB80A60A6D8ED7078FC_element_1784\")>,\n",
       " <selenium.webdriver.remote.webelement.WebElement (session=\"56843f5e568be0e9ac0389289b338551\", element=\"8C039A430A34DBB80A60A6D8ED7078FC_element_1785\")>,\n",
       " <selenium.webdriver.remote.webelement.WebElement (session=\"56843f5e568be0e9ac0389289b338551\", element=\"8C039A430A34DBB80A60A6D8ED7078FC_element_1786\")>,\n",
       " <selenium.webdriver.remote.webelement.WebElement (session=\"56843f5e568be0e9ac0389289b338551\", element=\"8C039A430A34DBB80A60A6D8ED7078FC_element_1787\")>,\n",
       " <selenium.webdriver.remote.webelement.WebElement (session=\"56843f5e568be0e9ac0389289b338551\", element=\"8C039A430A34DBB80A60A6D8ED7078FC_element_1788\")>,\n",
       " <selenium.webdriver.remote.webelement.WebElement (session=\"56843f5e568be0e9ac0389289b338551\", element=\"8C039A430A34DBB80A60A6D8ED7078FC_element_1789\")>,\n",
       " <selenium.webdriver.remote.webelement.WebElement (session=\"56843f5e568be0e9ac0389289b338551\", element=\"8C039A430A34DBB80A60A6D8ED7078FC_element_1790\")>,\n",
       " <selenium.webdriver.remote.webelement.WebElement (session=\"56843f5e568be0e9ac0389289b338551\", element=\"8C039A430A34DBB80A60A6D8ED7078FC_element_1791\")>,\n",
       " <selenium.webdriver.remote.webelement.WebElement (session=\"56843f5e568be0e9ac0389289b338551\", element=\"8C039A430A34DBB80A60A6D8ED7078FC_element_1792\")>,\n",
       " <selenium.webdriver.remote.webelement.WebElement (session=\"56843f5e568be0e9ac0389289b338551\", element=\"8C039A430A34DBB80A60A6D8ED7078FC_element_1793\")>,\n",
       " <selenium.webdriver.remote.webelement.WebElement (session=\"56843f5e568be0e9ac0389289b338551\", element=\"8C039A430A34DBB80A60A6D8ED7078FC_element_1794\")>,\n",
       " <selenium.webdriver.remote.webelement.WebElement (session=\"56843f5e568be0e9ac0389289b338551\", element=\"8C039A430A34DBB80A60A6D8ED7078FC_element_1795\")>,\n",
       " <selenium.webdriver.remote.webelement.WebElement (session=\"56843f5e568be0e9ac0389289b338551\", element=\"8C039A430A34DBB80A60A6D8ED7078FC_element_1796\")>,\n",
       " <selenium.webdriver.remote.webelement.WebElement (session=\"56843f5e568be0e9ac0389289b338551\", element=\"8C039A430A34DBB80A60A6D8ED7078FC_element_1797\")>,\n",
       " <selenium.webdriver.remote.webelement.WebElement (session=\"56843f5e568be0e9ac0389289b338551\", element=\"8C039A430A34DBB80A60A6D8ED7078FC_element_1798\")>,\n",
       " <selenium.webdriver.remote.webelement.WebElement (session=\"56843f5e568be0e9ac0389289b338551\", element=\"8C039A430A34DBB80A60A6D8ED7078FC_element_1799\")>,\n",
       " <selenium.webdriver.remote.webelement.WebElement (session=\"56843f5e568be0e9ac0389289b338551\", element=\"8C039A430A34DBB80A60A6D8ED7078FC_element_1800\")>,\n",
       " <selenium.webdriver.remote.webelement.WebElement (session=\"56843f5e568be0e9ac0389289b338551\", element=\"8C039A430A34DBB80A60A6D8ED7078FC_element_1801\")>,\n",
       " <selenium.webdriver.remote.webelement.WebElement (session=\"56843f5e568be0e9ac0389289b338551\", element=\"8C039A430A34DBB80A60A6D8ED7078FC_element_1802\")>,\n",
       " <selenium.webdriver.remote.webelement.WebElement (session=\"56843f5e568be0e9ac0389289b338551\", element=\"8C039A430A34DBB80A60A6D8ED7078FC_element_1803\")>]"
      ]
     },
     "execution_count": 72,
     "metadata": {},
     "output_type": "execute_result"
    }
   ],
   "source": [
    "n = driver.find_elements(By.XPATH, \"\"\"//div[contains(@class, \"p-dsk-srch-retailer__content\")]\n",
    "                                //div[contains(@class, \"b-dsk-grid__container\")]\n",
    "                                /a[contains(@class, \"p-dsk-srch-retailer__card\")]\n",
    "                                \n",
    "                                \"\"\")\n",
    "n\n",
    "# if len(n) > 0:\n",
    "#     k = n[0].text\n",
    "#     print(k)\n",
    "# #     if int(k.text) > 0:\n",
    "#         return True\n",
    "    "
   ]
  },
  {
   "cell_type": "markdown",
   "id": "7a01965b-d42a-4a18-8200-c025902f28aa",
   "metadata": {},
   "source": [
    "### 3.1.2. Выполнение"
   ]
  },
  {
   "cell_type": "code",
   "execution_count": 23,
   "id": "4361234b-0455-415e-914c-49e495d7105a",
   "metadata": {},
   "outputs": [
    {
     "name": "stderr",
     "output_type": "stream",
     "text": [
      "100%|██████████| 58/58 [05:57<00:00,  6.17s/it]\n"
     ]
    },
    {
     "data": {
      "text/plain": [
       "952"
      ]
     },
     "execution_count": 23,
     "metadata": {},
     "output_type": "execute_result"
    }
   ],
   "source": [
    "# Получение всех адресов на страницы с товарами.\n",
    "retailer_links_pages, loger_fault, q = _get_all_links_to_market(driver, retailer_links, timeout=10)\n",
    "len(retailer_links_pages)"
   ]
  },
  {
   "cell_type": "markdown",
   "id": "ed726768-1780-4d22-b85a-09a04aeae618",
   "metadata": {},
   "source": [
    "### 3.1.3. Save/Load"
   ]
  },
  {
   "cell_type": "markdown",
   "id": "ac1cbe41",
   "metadata": {},
   "source": [
    "Ссылки на страницы с информацией"
   ]
  },
  {
   "cell_type": "code",
   "execution_count": 24,
   "id": "008e4461-227a-4ebf-8073-a4e85dde6dda",
   "metadata": {},
   "outputs": [],
   "source": [
    "with open('data/retailer_links_pages.pickle', 'wb') as file:\n",
    "    pickle.dump(retailer_links_pages, file)"
   ]
  },
  {
   "cell_type": "code",
   "execution_count": 8,
   "id": "d22d4a6b-0eff-43f8-9318-ad172e8c88ae",
   "metadata": {},
   "outputs": [
    {
     "ename": "TypeError",
     "evalue": "market_link.__new__() missing 2 required positional arguments: 'su2' and 'page_href'",
     "output_type": "error",
     "traceback": [
      "\u001b[1;31m---------------------------------------------------------------------------\u001b[0m",
      "\u001b[1;31mTypeError\u001b[0m                                 Traceback (most recent call last)",
      "Cell \u001b[1;32mIn[8], line 2\u001b[0m\n\u001b[0;32m      1\u001b[0m \u001b[39mwith\u001b[39;00m \u001b[39mopen\u001b[39m(\u001b[39m'\u001b[39m\u001b[39mdata/retailer_links_pages.pickle\u001b[39m\u001b[39m'\u001b[39m, \u001b[39m'\u001b[39m\u001b[39mrb\u001b[39m\u001b[39m'\u001b[39m) \u001b[39mas\u001b[39;00m file:\n\u001b[1;32m----> 2\u001b[0m     retailer_links_pages \u001b[39m=\u001b[39m pickle\u001b[39m.\u001b[39;49mload(file)\n",
      "\u001b[1;31mTypeError\u001b[0m: market_link.__new__() missing 2 required positional arguments: 'su2' and 'page_href'"
     ]
    }
   ],
   "source": [
    "with open('data/retailer_links_pages.pickle', 'rb') as file:\n",
    "    retailer_links_pages = pickle.load(file)"
   ]
  },
  {
   "cell_type": "markdown",
   "id": "ef51e45b-9270-4801-9e33-4cb26890678e",
   "metadata": {},
   "source": [
    "## 3.2. Получение информации о товарах и ссылки на них"
   ]
  },
  {
   "cell_type": "markdown",
   "id": "23858d67-3c8e-4d1a-bdf7-f636609fddf9",
   "metadata": {},
   "source": [
    "### 3.2.1 Функции"
   ]
  },
  {
   "cell_type": "markdown",
   "id": "6763865e",
   "metadata": {},
   "source": [
    "#### 3.2.1.1 Парсинг информации"
   ]
  },
  {
   "cell_type": "code",
   "execution_count": 26,
   "id": "ef3af507",
   "metadata": {},
   "outputs": [],
   "source": [
    "def parser_sku_01(page_source: str, market: market_link, date: datetime) -> pd.DataFrame:\n",
    "    \"\"\"\n",
    "        Извлечение данных из страницы,\n",
    "        Данные возвращаются в виде pd.DataFrame\n",
    "    \"\"\"\n",
    "    \n",
    "    # Получаем хост из ссылки\n",
    "    host = '/'.join(market.page_href.split('/', maxsplit=3)[:3])\n",
    "    # \n",
    "    page = BS(page_source, 'lxml')\n",
    "    \n",
    "    # Находим карточки с продуктами\n",
    "    f1 = page.find('div', {'data-test-ref':'grid'})\n",
    "    f2 = f1.find('div').find_all('div', {'data-test-ref':'b-srch-card'})\n",
    "    \n",
    "    out_list = list()\n",
    "    \n",
    "    for f3 in f2:\n",
    "        # название\n",
    "        title = f3.find('div', class_='b-srch-card__title').get_text(strip=True)\n",
    "        \n",
    "        # дата до истечения\n",
    "        try:\n",
    "            date_to = datetime.strptime(f3.find('time').get('datetime'), '%Y-%m-%d')\n",
    "        except AttributeError:\n",
    "            date_to = np.nan\n",
    "        \n",
    "        # Цена (разбита на части)\n",
    "        try:\n",
    "            b = (f3\n",
    "                .find('div', class_=\"b-srch-card__price\")\n",
    "                .find('div', class_=\"b-srch-card__price-new\")\n",
    "                .find('div', class_='b-money__root-wrapper')\n",
    "                .find('span', {'data-test-ref':\"money-base\"})\n",
    "                .get_text(strip=True)\n",
    "                .replace('\\xa0', '')\n",
    "                )\n",
    "        except AttributeError as ex:\n",
    "            price = np.nan\n",
    "            short_logger.critical(f\"no price, {ex}: {market.title} :: {market.page_href}\")\n",
    "            long_logger.critical(f\"no price, {ex}: {market.title} :: {market.page_href}\", exc_info=True)\n",
    "        \n",
    "        else:\n",
    "            try:\n",
    "                s = (f3\n",
    "                    .find('div', class_=\"b-srch-card__price\")\n",
    "                    .find('div', class_=\"b-srch-card__price-new\")\n",
    "                    .find('div', class_='b-money__root-wrapper')\n",
    "                    .find('span', {'data-test-ref':\"money-subunit\"})\n",
    "                    .get_text(strip=True)\n",
    "                    .replace('\\xa0', ''))\n",
    "            except AttributeError:\n",
    "                s = '0'\n",
    "                \n",
    "            price = float(f'{b}.{s}')\n",
    "        \n",
    "        # -------------------------------------------------------------------------------------------------\n",
    "        # Предыдущая цена (разбита на части)\n",
    "        try:\n",
    "            b_last = (f3\n",
    "                      .find('div', class_=\"b-srch-card__price\")\n",
    "                      .find('div', class_=\"b-srch-card__price-old\")\n",
    "                      .find('div', class_='b-money__root-wrapper')\n",
    "                      .find('span', {'data-test-ref':\"money-base\"})\n",
    "                      .get_text(strip=True)\n",
    "                      .replace('\\xa0', '')\n",
    "                      )\n",
    "        except AttributeError as ex:\n",
    "            price_last = np.nan\n",
    "        \n",
    "        else:\n",
    "            try:\n",
    "                s_last = (f3\n",
    "                          .find('div', class_=\"b-srch-card__price\")\n",
    "                          .find('div', class_=\"b-srch-card__price-old\")\n",
    "                          .find('div', class_='b-money__root-wrapper')\n",
    "                          .find('span', {'data-test-ref':\"money-subunit\"})\n",
    "                          .get_text(strip=True)\n",
    "                          .replace('\\xa0', '')\n",
    "                          )\n",
    "            except AttributeError:\n",
    "                s_last = '0'\n",
    "                \n",
    "            price_last = float(f'{b_last}.{s_last}')\n",
    "\n",
    "        # -------------------------------------------------------------------------------------------------\n",
    "        # тип валюты\n",
    "        try:\n",
    "            unit = f3.find('div', class_='b-money__root-wrapper').find('span', {'data-test-ref':\"currency\"}).get_text(strip=True)\n",
    "        except AttributeError:\n",
    "            unit = np.nan\n",
    "\n",
    "        # -------------------------------------------------------------------------------------------------\n",
    "        # скидка\n",
    "        try:\n",
    "            sale = f3.find('div', class_='b-srch-card__discount-label').get_text(strip=True)\n",
    "        except AttributeError:\n",
    "            sale = np.nan\n",
    "        \n",
    "        # -------------------------------------------------------------------------------------------------\n",
    "        # Условие\n",
    "        try:\n",
    "            condition = (f3\n",
    "                         .find('div', class_=\"b-srch-card__content-container\")\n",
    "                         .find('div', class_=\"b-tpl-offer-label__text\")\n",
    "                         .get_text(strip=True)\n",
    "                         .replace('\\xa0', '')\n",
    "                         )\n",
    "        except AttributeError as ex:\n",
    "                condition = np.nan\n",
    "\n",
    "        # -------------------------------------------------------------------------------------------------\n",
    "        # вес\n",
    "        try:\n",
    "            f4 = (f3\n",
    "                .find('div', class_='b-srch-card__info')\n",
    "                .find('span')\n",
    "                .get_text(strip=True)\n",
    "                .replace('\\xa0', ' ')\n",
    "                .split('•')\n",
    "                )\n",
    "            vol = f4[0].strip()\n",
    "        \n",
    "        # руб/кг. руб/шт.\n",
    "            vol_vs = f4[1].strip()\n",
    "        except AttributeError:\n",
    "            vol = np.nan\n",
    "            vol_vs = np.nan\n",
    "                \n",
    "        # -------------------------------------------------------------------------------------------------\n",
    "        # ссылка\n",
    "        try:\n",
    "            href = host + f3.find('a', class_=\"b-srch-card__card-wrapper\").get('href')\n",
    "        except AttributeError:\n",
    "            href = np.nan\n",
    "        \n",
    "                \n",
    "        out_list.append((date, market.sity, market.title, title, date_to, condition ,price, price_last, unit, sale, vol, vol_vs, href))\n",
    "\n",
    "\n",
    "    return pd.DataFrame(out_list, columns=['date', 'sity', 'market', 'title', 'date_to', 'condition', 'price', 'price_last', 'unit', 'sale', 'vol', 'vol_vs', 'href'])"
   ]
  },
  {
   "cell_type": "markdown",
   "id": "59d525de",
   "metadata": {},
   "source": [
    "#### 3.2.1.2 Получение страницы"
   ]
  },
  {
   "cell_type": "code",
   "execution_count": 27,
   "id": "77aa9e48",
   "metadata": {},
   "outputs": [],
   "source": [
    "def _get_page(driver: webdriver.Chrome, item: market_link, timeout: int=30) -> webdriver.Chrome.page_source:\n",
    "    \"\"\"\n",
    "        сохраняем страницы\n",
    "    \"\"\"\n",
    "    # Класс задержки, который будет ожидать когда догрузится элемент\n",
    "    wait = WebDriverWait(\n",
    "        driver,\n",
    "        timeout=timeout,\n",
    "        poll_frequency=1\n",
    "        )\n",
    "    \n",
    "    # Вызов страницы\n",
    "    try:\n",
    "        driver.get(item.page_href)\n",
    "    \n",
    "    except TimeoutException as ex:\n",
    "        short_logger.warning(f\"don't get response: {item.title} :: {item.page_href}\")\n",
    "        raise MyTimeoutErrore(f'timeout bad DRIVER get url: {url}')\n",
    "    except Exception as ex:\n",
    "        short_logger.critical(f\"other exception, {ex}: {item.title} :: {item.page_href}\")\n",
    "        long_logger.critical(f\"other exception, {ex}: {item.title} :: {item.page_href}\", exc_info=True)\n",
    "    \n",
    "    # Проверка сайта на 18 лет\n",
    "    # Мы ранее собирали информацию, и приблизительно занем есть ли в данном магазине такая проверка или нет.\n",
    "    if item.alcohol:\n",
    "        try:\n",
    "            # Ожидаем появляение кнопки, если она не повится, то ничего не делаем.\n",
    "            button = wait.until(lambda d: d.find_element(by=By.XPATH, value=\"//div[@class='b-dsk-adult-disclaimer__wrapper']//button[@type='button']\"))\n",
    "            button.click()\n",
    "        \n",
    "        except TimeoutException:\n",
    "            short_logger.info(f'alcochol timeout: {item.title} :: {item.page_href}')\n",
    "        except ElementNotInteractableException:\n",
    "            short_logger.warning(f'alcochol not button: {item.title} :: {item.page_href}')\n",
    "        except Exception as ex:\n",
    "            short_logger.error(f'alcochol other: {ex} :: {item.title} :: {item.page_href}')\n",
    "            long_logger.error(f'alcochol other: {ex} :: {item.title} :: {item.page_href}', exc_info=True)\n",
    "    \n",
    "    # Ручной тайм аут на выполнение всего процесса\n",
    "    time_start = int(time())\n",
    "    \n",
    "    while (int(time()) - time_start) < timeout*2:\n",
    "        \n",
    "        # Задержка действий до загрузки отслеживаемых елементов.\n",
    "        # Варант провекрки загрузки страницы, проверка что текст не пустой\n",
    "        try:\n",
    "            wait.until(lambda d: d.find_element(by=By.XPATH, value=\"//div[@data-test-ref='grid']\"))\n",
    "        except TimeoutException:\n",
    "            try:\n",
    "                driver.find_element(by=By.XPATH, value=\"//div[@class='b-dsk-stub__description']\")\n",
    "            except TimeoutException:\n",
    "                short_logger.warning(f\"not table, timeout: {item.title} :: {item.page_href}\")\n",
    "                raise MyTimeoutErrore()\n",
    "            else:\n",
    "                short_logger.info(f\"not page, timeout: {item.title} :: {item.page_href}\")\n",
    "                page = None\n",
    "                break\n",
    "            \n",
    "        # Проверка наличия названия продукта в ячейке\n",
    "        page = BS(driver.page_source, 'lxml')\n",
    "        \n",
    "        try:\n",
    "            # Дожидаемся когда загрузится информация о первом товаре на странице\n",
    "            f1 = page.find('div', {'data-test-ref':'grid'})\n",
    "            f2 = f1.find('div').find_all('div', {'data-test-ref':'b-srch-card'})\n",
    "            f2[0].find('div', class_='b-srch-card__title').get_text(strip=True)\n",
    "        except IndexError as ex:\n",
    "            continue\n",
    "        except Exception as ex:\n",
    "            short_logger.critical(f\"checking the product name, other exception, {ex}: {item.title} :: {item.page_href}\")\n",
    "            long_logger.critical(f\"checking the product name, other exception, {ex}: {item.title} :: {item.page_href}\", exc_info=True)\n",
    "\n",
    "        break\n",
    "    \n",
    "    else:\n",
    "        short_logger.warning(f\"not table, timeout ALL: {item.title} :: {item.page_href}\")\n",
    "        raise MyTimeoutErrore()\n",
    "    \n",
    "    return driver.page_source"
   ]
  },
  {
   "cell_type": "markdown",
   "id": "b2285ecb",
   "metadata": {},
   "source": [
    "#### 3.2.1.3. Получение информации с сайта."
   ]
  },
  {
   "cell_type": "code",
   "execution_count": 28,
   "id": "51915c42",
   "metadata": {},
   "outputs": [],
   "source": [
    "def get_pages(driver: webdriver.Chrome, list_url: list[market_link], timeout: int=20, dead_line: int=20) -> tuple[pd.DataFrame, list[market_link]]:\n",
    "    \"\"\"\n",
    "        Функция получает страницы с информацией об товарах,\n",
    "        извлекает информацию,\n",
    "        отдает датафрейм с информацией и необработанными ссылками.\n",
    "    \"\"\"\n",
    "    table = list()\n",
    "    \n",
    "    with tqdm(total=len(list_url)) as pbar:     # Прогресс бар\n",
    "        \n",
    "        q = deque(list_url)                     # Очередь\n",
    "        out_list = list()\n",
    "        \n",
    "        while len(q) > 0:\n",
    "            if dead_line < 0:                   # Ограничение количества попыток получить данные.\n",
    "                return (out_list, q)\n",
    "            \n",
    "            item = q.popleft()\n",
    "            if item.discounts:\n",
    "                try:\n",
    "                    page = _get_page(driver, item, timeout)\n",
    "                except MyTimeoutErrore:\n",
    "                    q.append(item)\n",
    "                    dead_line -= 1\n",
    "                    continue\n",
    "                else:\n",
    "                    table.append(parser_sku_01(page, item, datetime.now()))\n",
    "                \n",
    "            pbar.update(1)\n",
    "        df = pd.concat(table, ignore_index=True)\n",
    "    return (df, list(q))                        # Возвращаем отработаный лист и очередь(пустую или нет)"
   ]
  },
  {
   "cell_type": "markdown",
   "id": "881ea68d-acca-40c6-b7ae-9dee27709075",
   "metadata": {},
   "source": [
    "### 3.2.2. Выполнение"
   ]
  },
  {
   "cell_type": "code",
   "execution_count": 30,
   "id": "28b16ebd",
   "metadata": {},
   "outputs": [
    {
     "name": "stderr",
     "output_type": "stream",
     "text": [
      "100%|██████████| 952/952 [37:30<00:00,  2.36s/it]  \n"
     ]
    }
   ],
   "source": [
    "pages_df, other = get_pages(driver, retailer_links_pages)"
   ]
  },
  {
   "cell_type": "code",
   "execution_count": 37,
   "id": "88dc3319",
   "metadata": {},
   "outputs": [],
   "source": [
    "_save_df_to_zip(pages_df)"
   ]
  },
  {
   "cell_type": "code",
   "execution_count": null,
   "id": "5ae1e22d",
   "metadata": {},
   "outputs": [],
   "source": []
  },
  {
   "cell_type": "markdown",
   "id": "7aea087b",
   "metadata": {},
   "source": [
    "#### 3.2.2.1. Сохранение всех страниц, для того что бы отточить работу парсера."
   ]
  },
  {
   "cell_type": "markdown",
   "id": "1d832f20",
   "metadata": {},
   "source": []
  },
  {
   "cell_type": "code",
   "execution_count": null,
   "id": "d4431de5",
   "metadata": {},
   "outputs": [],
   "source": []
  },
  {
   "cell_type": "code",
   "execution_count": 5,
   "id": "8ffbd1ea",
   "metadata": {},
   "outputs": [],
   "source": [
    "\n",
    "\n",
    "\n",
    "\n"
   ]
  },
  {
   "cell_type": "code",
   "execution_count": 19,
   "id": "f7523791",
   "metadata": {},
   "outputs": [
    {
     "name": "stderr",
     "output_type": "stream",
     "text": [
      "100%|██████████| 914/914 [35:32<00:00,  2.33s/it]  \n"
     ]
    }
   ],
   "source": [
    "# pages, other = _get_pages(driver, retailer_links_pages)"
   ]
  },
  {
   "cell_type": "code",
   "execution_count": 20,
   "id": "2606287e-29b8-4a4e-98c8-98938061638f",
   "metadata": {},
   "outputs": [],
   "source": [
    "# Сохранение страниц  в Zip файл.\n",
    "with ZipFile('data/pages.zip', 'w', compression=ZIP_DEFLATED, compresslevel=1) as zip_file:\n",
    "    for index, page in enumerate(pages):\n",
    "        if page:\n",
    "            zip_file.writestr(f'{index:05d}.html', page.encode())"
   ]
  },
  {
   "cell_type": "code",
   "execution_count": 6,
   "id": "2b1f7878-7a82-4717-81b7-2ffb20d22524",
   "metadata": {},
   "outputs": [],
   "source": [
    "# Поллучение страниц из Zip файла.\n",
    "pages = list()\n",
    "with ZipFile('data/pages.zip', 'r') as zf:\n",
    "    for item in zf.filelist:\n",
    "        with zf.open(item.filename) as file:\n",
    "            pages.append(file.read())"
   ]
  },
  {
   "cell_type": "code",
   "execution_count": 7,
   "id": "d3388d21-3c17-4920-9ed6-ff102d30c4d1",
   "metadata": {},
   "outputs": [],
   "source": [
    "url = retailer_links_pages[0].page_href\n"
   ]
  },
  {
   "cell_type": "code",
   "execution_count": 23,
   "id": "75703e83-e42a-4b6d-8c40-47f43dec971a",
   "metadata": {},
   "outputs": [],
   "source": [
    "\n",
    "\n",
    "dataframe_list = list()\n",
    "\n",
    "for page in pages[:200]:\n",
    "    dataframe_list.append(parser_sku_01(page, retailer_links_pages[0], datetime.strptime(\"2023-08-28\", '%Y-%m-%d')))\n",
    "out_df = pd.concat(dataframe_list, ignore_index=True)"
   ]
  },
  {
   "cell_type": "code",
   "execution_count": 25,
   "id": "f67cfa3e",
   "metadata": {},
   "outputs": [
    {
     "data": {
      "text/plain": [
       "(24, 13)"
      ]
     },
     "execution_count": 25,
     "metadata": {},
     "output_type": "execute_result"
    }
   ],
   "source": []
  }
 ],
 "metadata": {
  "kernelspec": {
   "display_name": "Python 3 (ipykernel)",
   "language": "python",
   "name": "python3"
  },
  "language_info": {
   "codemirror_mode": {
    "name": "ipython",
    "version": 3
   },
   "file_extension": ".py",
   "mimetype": "text/x-python",
   "name": "python",
   "nbconvert_exporter": "python",
   "pygments_lexer": "ipython3",
   "version": "3.11.4"
  }
 },
 "nbformat": 4,
 "nbformat_minor": 5
}
