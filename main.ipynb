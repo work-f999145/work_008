{
 "cells": [
  {
   "cell_type": "markdown",
   "id": "9c8da6bf-a545-48e4-94ba-5d378b9baf37",
   "metadata": {},
   "source": [
    "# 0. Import/Classes/Logger"
   ]
  },
  {
   "cell_type": "code",
   "execution_count": 1,
   "id": "d603f43e-035a-4919-a03f-b9480178d7f5",
   "metadata": {},
   "outputs": [],
   "source": [
    "from bs4 import BeautifulSoup as BS\n",
    "import undetected_chromedriver as uc\n",
    "import json\n",
    "from selenium.webdriver.common.by import By \n",
    "from selenium.webdriver.support.wait import WebDriverWait\n",
    "from selenium.webdriver.common.keys import Keys\n",
    "from selenium.common.exceptions import (TimeoutException,\n",
    "                                        ElementNotVisibleException, \n",
    "                                        ElementNotSelectableException, \n",
    "                                        NoSuchElementException, \n",
    "                                        ElementNotInteractableException, \n",
    "                                        StaleElementReferenceException, \n",
    "                                        ElementClickInterceptedException, \n",
    "                                        InvalidSelectorException, \n",
    "                                        WebDriverException)\n",
    "\n",
    "import re\n",
    "from time import sleep as time_sleep, time\n",
    "from queue import Queue\n",
    "import math\n",
    "from typing import NamedTuple\n",
    "from datetime import datetime\n",
    "from zipfile import ZipFile, ZIP_DEFLATED\n",
    "from selenium import webdriver\n",
    "import requests\n",
    "from webdriver_manager.chrome import ChromeDriverManager\n",
    "import lxml\n",
    "from itertools import chain\n",
    "from typing import NamedTuple\n",
    "import pickle\n",
    "from collections import deque\n",
    "from tqdm import tqdm\n",
    "import pandas as pd\n",
    "import numpy as np\n",
    "import logging\n",
    "from pathlib import Path\n",
    "import psutil"
   ]
  },
  {
   "cell_type": "code",
   "execution_count": 2,
   "id": "97d166f3-f659-4d0f-8a95-03d53721908f",
   "metadata": {},
   "outputs": [],
   "source": [
    "# получение пользовательского логгера и установка уровня логирования\n",
    "short_logger = logging.getLogger('short_logger')\n",
    "short_logger.setLevel(logging.INFO)\n",
    "\n",
    "# настройка обработчика и форматировщика в соответствии с нашими нуждами\n",
    "short_handler = logging.FileHandler(\"data/short_logger.log\", encoding='utf-8', mode='a')\n",
    "short_formatter = logging.Formatter(\"%(asctime)s %(levelname)s %(funcName)s %(message)s\")\n",
    "\n",
    "# добавление форматировщика к обработчику \n",
    "short_handler.setFormatter(short_formatter)\n",
    "# добавление обработчика к логгеру\n",
    "short_logger.addHandler(short_handler)\n",
    "\n",
    "# получение пользовательского логгера и установка уровня логирования\n",
    "long_logger = logging.getLogger('long_logger')\n",
    "long_logger.setLevel(logging.INFO)\n",
    "\n",
    "# настройка обработчика и форматировщика в соответствии с нашими нуждами\n",
    "long_handler = logging.FileHandler(\"data/long_logger.log\", encoding='utf-8', mode='w')\n",
    "long_formatter = logging.Formatter(\"%(asctime)s %(levelname)s %(funcName)s %(message)s\")\n",
    "\n",
    "# добавление форматировщика к обработчику \n",
    "long_handler.setFormatter(long_formatter)\n",
    "# добавление обработчика к логгеру\n",
    "long_logger.addHandler(long_handler)"
   ]
  },
  {
   "cell_type": "code",
   "execution_count": 3,
   "id": "4674fa94",
   "metadata": {},
   "outputs": [],
   "source": [
    "def _save_df_to_zip(df_: pd.DataFrame, archive_name: str = 'archive', folder: str='data', replace: bool=False) -> None:\n",
    "    # Путь к файлу\n",
    "    file_path = Path(folder).joinpath(archive_name + '.zip')\n",
    "    Path(folder).mkdir(exist_ok=True)\n",
    "    # Проверяем, существует ли файл\n",
    "    if file_path.exists() and not replace:\n",
    "        # Получаем время создания файла\n",
    "        time = datetime.fromtimestamp(file_path.lstat().st_atime).strftime('%Y-%m-%d %H:%M')\n",
    "\n",
    "        # Создаем новое имя файла с добавлением времени Unix\n",
    "        new_file_name = file_path.stem + \"_\" + str(time) + file_path.suffix\n",
    "\n",
    "        # Создаем новый путь для переименованного файла\n",
    "        new_file_path = file_path.with_name(new_file_name)\n",
    "        # Переименовываем файл\n",
    "        file_path.rename(new_file_path)\n",
    "\n",
    "# to csv\n",
    "    compression_opts = dict(method='zip', archive_name=f'{archive_name}.csv')\n",
    "    df_.to_csv(f'{folder}/{archive_name}.zip', index=False, compression=compression_opts, encoding='utf-8')\n",
    "    \n",
    "\n",
    "def occupied_memory() -> float:\n",
    "    # Получить список всех процессов\n",
    "    all_processes = psutil.process_iter()\n",
    "\n",
    "    # Пройтись по каждому процессу и найти процессы с именем \"chrome.exe\"\n",
    "    chrome_processes = [p for p in all_processes if p.name() == \"chrome.exe\"]\n",
    "\n",
    "    # Инициализировать переменную для хранения общего объема памяти\n",
    "    total_memory = 0\n",
    "\n",
    "    # Получить информацию о памяти для каждого процесса Chrome\n",
    "\n",
    "    if chrome_processes:\n",
    "        for process in chrome_processes:\n",
    "            try:\n",
    "                memory_info = process.memory_info()\n",
    "            except psutil.NoSuchProcess:\n",
    "                memory_usage = 0\n",
    "            else:\n",
    "                memory_usage = memory_info.rss\n",
    "                total_memory += memory_usage\n",
    "\n",
    "    # Преобразовать размер в удобочитаемый формат\n",
    "    # formatted_size = psutil._common.bytes2human(total_memory)\n",
    "    return (total_memory) / (1024**2)"
   ]
  },
  {
   "cell_type": "code",
   "execution_count": 4,
   "id": "db584197-4cd9-4e0e-8243-df0327a6bbe1",
   "metadata": {},
   "outputs": [],
   "source": [
    "class market_link(NamedTuple):\n",
    "    sity: str\n",
    "    title: str\n",
    "    discounts: int\n",
    "    alcohol: bool\n",
    "    href: str\n",
    "    su1: str\n",
    "    su2: str\n",
    "    su3: str\n",
    "    page_href: str\n",
    "\n",
    "class MyTimeoutErrore(Exception):\n",
    "    def __init__(self, text: str='timeout'):\n",
    "        self.txt = text\n",
    "\n",
    "class WebDriverMemoryOut(Exception):\n",
    "    def __init__(self, text: str='Web Driver Memory Out'):\n",
    "        self.txt = text"
   ]
  },
  {
   "cell_type": "code",
   "execution_count": 5,
   "id": "149a3400-553b-408c-beb9-5ddf4f930e57",
   "metadata": {},
   "outputs": [],
   "source": [
    "driver = webdriver.Chrome()\n",
    "driver.maximize_window()"
   ]
  },
  {
   "cell_type": "markdown",
   "id": "d1475db7-5be7-4c82-b4c2-b5bfb65d735b",
   "metadata": {
    "jp-MarkdownHeadingCollapsed": true
   },
   "source": [
    "# 1. Получение адресов городов"
   ]
  },
  {
   "cell_type": "code",
   "execution_count": null,
   "id": "d285b512-d584-428f-8c65-62f96c27263d",
   "metadata": {},
   "outputs": [],
   "source": []
  },
  {
   "cell_type": "markdown",
   "id": "2c056051-eba4-412d-8286-fd73f99b1962",
   "metadata": {},
   "source": [
    "# 2. Получение ссылок на Магазины"
   ]
  },
  {
   "cell_type": "markdown",
   "id": "69ec1502-f847-419c-aa9e-3f4c8e1673e0",
   "metadata": {},
   "source": [
    "## 2.1. Получение ссылки на старицы каталогов с магазинами"
   ]
  },
  {
   "cell_type": "markdown",
   "id": "8bafcb32-ee29-4096-a248-b4cce98760f7",
   "metadata": {},
   "source": [
    "### 2.1.1. Функции"
   ]
  },
  {
   "cell_type": "code",
   "execution_count": 6,
   "id": "c93dba6a-d597-41d9-989e-d58a7a94d450",
   "metadata": {},
   "outputs": [],
   "source": [
    "def _get_page_count(driver: webdriver.Chrome, url: str, pagin_sufix: str, timeout: int=30) -> list[str]:\n",
    "    \"\"\"\n",
    "        Возвращает лист с доступными ссылками\n",
    "    \"\"\"\n",
    "    # Класс задержки, который будет ожидать когда догрузится элемент\n",
    "    wait = WebDriverWait(\n",
    "        driver,\n",
    "        timeout=timeout + 10,\n",
    "        poll_frequency=1,\n",
    "        # ignored_exceptions=[ElementNotVisibleException, ElementNotSelectableException, NoSuchElementException]\n",
    "        )\n",
    "    # Вызов страницы\n",
    "    driver.get(url)\n",
    "    time_start = int(time())\n",
    "    while (int(time()) - time_start) < timeout:\n",
    "        # Задержка действий до загрузки отслеживаемых елементов.\n",
    "        # wait.until(lambda d: d.find_element(by=By.XPATH, value=\"//nav[@aria-label='Постраничная навигация']\"))\n",
    "        wait.until(lambda d: d.find_element(by=By.XPATH, value=\"//nav[@data-test-ref='paginator']\"))\n",
    "        # Парсинг\n",
    "        page = BS(driver.page_source, 'lxml')\n",
    "        \n",
    "        try:\n",
    "            f1 = page.find('nav', {'data-test-ref':\"paginator\"})\n",
    "        except Exception as ex:\n",
    "            print(ex)\n",
    "            continue\n",
    "            \n",
    "        try:    \n",
    "            pagination = int(f1.find_all('a')[-2].text)\n",
    "        except Exception as ex:\n",
    "            print(ex)\n",
    "            continue\n",
    "        \n",
    "        out_list = [f'{url}{pagin_sufix}{x}' for x in range(1, pagination+1)]\n",
    "        \n",
    "        break\n",
    "    else:\n",
    "        raise Exception(\"timeout\")\n",
    "    \n",
    "    return out_list"
   ]
  },
  {
   "cell_type": "markdown",
   "id": "8099490d-37c6-4e63-85dc-c186f10e2de3",
   "metadata": {},
   "source": [
    "### 2.1.2. Выполнение"
   ]
  },
  {
   "cell_type": "code",
   "execution_count": 7,
   "id": "c885442c-b78c-41a4-b487-7bb62d0324fd",
   "metadata": {},
   "outputs": [],
   "source": [
    "# driver.get('https://edadeal.ru/lipeck/retailers')\n",
    "url = 'https://edadeal.ru/lipeck/retailers'"
   ]
  },
  {
   "cell_type": "code",
   "execution_count": 8,
   "id": "52ca4ce0-b664-4692-acdb-4733c07e697e",
   "metadata": {},
   "outputs": [
    {
     "data": {
      "text/plain": [
       "['https://edadeal.ru/lipeck/retailers?page=1',\n",
       " 'https://edadeal.ru/lipeck/retailers?page=2',\n",
       " 'https://edadeal.ru/lipeck/retailers?page=3',\n",
       " 'https://edadeal.ru/lipeck/retailers?page=4',\n",
       " 'https://edadeal.ru/lipeck/retailers?page=5']"
      ]
     },
     "execution_count": 8,
     "metadata": {},
     "output_type": "execute_result"
    }
   ],
   "source": [
    "temp_url_list = _get_page_count(driver, url, '?page=')\n",
    "temp_url_list"
   ]
  },
  {
   "cell_type": "markdown",
   "id": "caf85ea2-0608-40dd-8762-9db3b45e032a",
   "metadata": {},
   "source": [
    "## 2.2. Получение непосредственно все ссылки на Магазины"
   ]
  },
  {
   "cell_type": "markdown",
   "id": "b0c5e560-31a9-420b-8ee8-b72fd29bdb6f",
   "metadata": {},
   "source": [
    "### 2.2.1. Функции"
   ]
  },
  {
   "cell_type": "code",
   "execution_count": 9,
   "id": "0cc3fac3-86b1-4fe9-93be-9f821b281464",
   "metadata": {},
   "outputs": [],
   "source": [
    "def get_retailers_links(driver: webdriver.Chrome, url: str, sity: str, timeout: int=30) -> list[market_link]:\n",
    "    \"\"\"\n",
    "        Возвращает лист с магазинами и ссылками.\n",
    "    \"\"\"\n",
    "    \n",
    "    host = '/'.join(url.split('/')[:-1])\n",
    "    out_list = list()\n",
    "    # Класс задержки, который будет ожидать когда догрузится элемент\n",
    "    wait = WebDriverWait(\n",
    "        driver,\n",
    "        timeout=timeout + 10,\n",
    "        poll_frequency=1\n",
    "        )\n",
    "\n",
    "    \n",
    "    # Вызов страницы\n",
    "    driver.get(url)\n",
    "    time_start = int(time())\n",
    "    \n",
    "    while (int(time()) - time_start) < timeout:\n",
    "        # Задержка действий до загрузки отслеживаемых елементов.\n",
    "        wait.until(lambda d: d.find_element(by=By.XPATH, value=\"//nav[@aria-label='Постраничная навигация']\"))\n",
    "        # Парсинг\n",
    "        page = BS(driver.page_source, 'lxml')\n",
    "        \n",
    "        try:\n",
    "            f1 = page.find('div', class_='p-dsk-srch-retailers__content').find('div', class_='b-dsk-grid__container').find_all('article')\n",
    "        except Exception as ex:\n",
    "            print(ex)\n",
    "            continue\n",
    "        \n",
    "        try:    \n",
    "            for item in f1:\n",
    "                href = host + item.find('a').get('href')\n",
    "                title = item.find('a').find('h4').get('title')\n",
    "                discounts = int((re.findall(r'(\\d+)', item.find('a').find('p').text)[0]))\n",
    "                out_list.append(market_link(sity, title, discounts, False, href, None, None, None, None))\n",
    "                \n",
    "        except Exception as ex:\n",
    "            print(ex)\n",
    "            continue\n",
    "        \n",
    "        break\n",
    "    \n",
    "    else:\n",
    "        raise MyTimeoutErrore('timeout')\n",
    "    \n",
    "    return out_list"
   ]
  },
  {
   "cell_type": "markdown",
   "id": "e7431b75-7639-4a48-bca5-138649c8605c",
   "metadata": {},
   "source": [
    "### 2.2.2. Выполнение"
   ]
  },
  {
   "cell_type": "code",
   "execution_count": 10,
   "id": "14419582-a37c-4b27-950b-ab969ee3466d",
   "metadata": {
    "scrolled": true
   },
   "outputs": [
    {
     "name": "stdout",
     "output_type": "stream",
     "text": [
      "59\n"
     ]
    }
   ],
   "source": [
    "temp_retailer_links = list()\n",
    "for link in temp_url_list:\n",
    "    temp_retailer_links.append(get_retailers_links(driver, link, 'lipetsk'))\n",
    "\n",
    "retailer_links = list(chain.from_iterable(temp_retailer_links))\n",
    "print(len(retailer_links))\n",
    "# print(retailer_links)"
   ]
  },
  {
   "cell_type": "markdown",
   "id": "2619de30",
   "metadata": {},
   "source": [
    "### 2.2.3. Save/Load"
   ]
  },
  {
   "cell_type": "code",
   "execution_count": 11,
   "id": "cf4209f0-2850-474b-8935-ad2c9ee0757b",
   "metadata": {},
   "outputs": [],
   "source": [
    "with open('data/retailer_links.pickle', 'wb') as file:\n",
    "    pickle.dump(retailer_links, file)"
   ]
  },
  {
   "cell_type": "code",
   "execution_count": 12,
   "id": "54fd77fb-7162-4fc8-b0f6-42340515c128",
   "metadata": {},
   "outputs": [],
   "source": [
    "with open('data/retailer_links.pickle', 'rb') as file:\n",
    "    retailer_links = pickle.load(file)"
   ]
  },
  {
   "cell_type": "code",
   "execution_count": 13,
   "id": "7b363c00-eefc-41a4-be52-150cc3c29032",
   "metadata": {},
   "outputs": [
    {
     "data": {
      "text/plain": [
       "market_link(sity='lipetsk', title='Магнит Косметик', discounts=3528, alcohol=False, href='https://edadeal.ru/lipeck/retailers/magnit-cosmo', su1=None, su2=None, su3=None, page_href=None)"
      ]
     },
     "execution_count": 13,
     "metadata": {},
     "output_type": "execute_result"
    }
   ],
   "source": [
    "retailer_links[1]"
   ]
  },
  {
   "cell_type": "markdown",
   "id": "993f54bf-fd25-44c4-8c04-87a0d7a6c536",
   "metadata": {},
   "source": [
    "# 3. Получение адресов Товаров"
   ]
  },
  {
   "cell_type": "markdown",
   "id": "4e812270-1236-449e-b451-4ad897740fc6",
   "metadata": {},
   "source": [
    "## 3.1. Получение ссылок на каталоги с товарами"
   ]
  },
  {
   "cell_type": "markdown",
   "id": "e7bfed0d-dc09-4052-b6fb-9c9154012bfe",
   "metadata": {
    "jp-MarkdownHeadingCollapsed": true
   },
   "source": [
    "### 3.1.1. Функции"
   ]
  },
  {
   "cell_type": "code",
   "execution_count": 14,
   "id": "8dba4692",
   "metadata": {
    "tags": []
   },
   "outputs": [],
   "source": [
    "def reload_driver(driver: webdriver.Chrome) -> webdriver.Chrome:\n",
    "    if driver:\n",
    "        driver.quit()\n",
    "    driver = webdriver.Chrome()\n",
    "    driver.maximize_window()\n",
    "    return driver\n",
    "\n",
    "\n",
    "def _check_load_page(driver: webdriver.Chrome, timeout: int=20, limitMB: int=1400) -> bool:\n",
    "    \"\"\"\n",
    "       Проверка наличия названия продукта в ячейке\n",
    "    \"\"\"\n",
    "    time_start = int(time())\n",
    "    while (int(time()) - time_start) < timeout:\n",
    "        n = driver.find_elements(By.XPATH, \"\"\"//div[contains(@class, \"p-dsk-srch-retailer__content\")]\n",
    "                                                //div[contains(@class, \"b-dsk-grid__container\")]\n",
    "                                                /a[contains(@class, \"p-dsk-srch-retailer__card\")]\n",
    "                                                //div[contains(@class, \"b-srch-card__price-new\")]\n",
    "                                                //span[@data-test-ref=\"money-base\"]\n",
    "                                                \"\"\")\n",
    "        \n",
    "        # Проверка на переполнение памяти:\n",
    "        if occupied_memory() > limitMB:\n",
    "            raise WebDriverMemoryOut('Превышение лимита')\n",
    "            \n",
    "        if len(n) > 0:\n",
    "            if int(n[0].text.replace('\\xa0', '').replace(' ', '')) > 0:\n",
    "                return True\n",
    "        else:\n",
    "            time_sleep(0.2)\n",
    "            continue\n",
    "    return False\n",
    "\n",
    "\n",
    "                \n",
    "                \n",
    "def get_link_to_pages_without_except(driver: webdriver.Chrome, market: market_link, effort: int=10, timeout: int=20, limitMB: int=1400):\n",
    "    \"\"\"\n",
    "         Функция получает ссылки на каталоги товаров в каждом магазине,\n",
    "         В детализации до SU1/SU2/SU3, если таковые присутствуют.\n",
    "\n",
    "         Для того что бы обойти ошибки, которые возникают при сборе информации,\n",
    "         присутствует подфункция, которая перезапускается и начинает сбор данных с последней\n",
    "         \"точки сохранения\".\n",
    "    \"\"\"\n",
    "                        \n",
    "    out_list = list()                # Лист в который собираются данные из подфункции\n",
    "    HEAD = None                      # Точка сохранения, она опирается на группу SU1\n",
    "    reload_driver_bool = False       # Флаг обозначающий, что был перезагружен драйвер selenium\n",
    "    \n",
    "    def _get_link_to_pages(driver: webdriver.Chrome, market: market_link, timeout: int=20, limitMB: int=1400):\n",
    "        \"\"\"\n",
    "            ПодФункция которая непосредственно исследует страницу с магазином,\n",
    "            Проходит по категориям SU1, SU2 и достает ссылки на категории SU3, если есть.\n",
    "\n",
    "            В процессе возникает множество ошибок,\n",
    "            Которые отлавливаются либо внутри, этой функции, либо во внешней функции.\n",
    "            \n",
    "        \"\"\"\n",
    "\n",
    "        # Модуль, который позволяет дождаться когда прогрузится необъодимый элемент\n",
    "        wait = WebDriverWait(\n",
    "            driver,\n",
    "            timeout=timeout,\n",
    "            poll_frequency=1\n",
    "            )\n",
    "\n",
    "        alcohol = False       # Рудимент, необъодимо убрать\n",
    "\n",
    "        # Проброска переменных из внешней функции\n",
    "        nonlocal out_list\n",
    "        nonlocal HEAD\n",
    "        nonlocal reload_driver_bool\n",
    "        \n",
    "        # Находим все SU1 категории, исключая первую: \"ВСЕ\"\n",
    "        el1 = (driver\n",
    "              .find_element(By.CSS_SELECTOR, '.p-dsk-srch-retailer__body')\n",
    "              .find_element(By.CSS_SELECTOR, '.p-dsk-srch-retailer__sidebar-container')\n",
    "              .find_element(By.CSS_SELECTOR, '.i-block-helper')\n",
    "              .find_element(By.CSS_SELECTOR, '.b-dsk-srch-cats-tree__node')\n",
    "              .find_elements(By.XPATH, \"following-sibling::*\")\n",
    "              )\n",
    "        \n",
    "        # Активируем режим +18\n",
    "        if not alcohol:\n",
    "            for _ in range(20):\n",
    "                try:\n",
    "                    driver.find_element(By.XPATH, '//div[contains(text(), \"Да. Мне есть 18\")]/ancestor::button').click()\n",
    "                except NoSuchElementException:\n",
    "                    time_sleep(0.2)\n",
    "                    continue\n",
    "                except ElementNotInteractableException:\n",
    "                    time_sleep(0.2)\n",
    "                    continue\n",
    "                else:\n",
    "                    alcohol = True\n",
    "                    break\n",
    "        \n",
    "        # Цикл по каждой SU1 категории отдельно\n",
    "        for el in el1:\n",
    "            \n",
    "            # Временный лист, в который будет собираться информация о SU2 и SU3\n",
    "            temp_list = list()\n",
    "            \n",
    "            # Кликаем на категории, что бы открыть список подкатегорий SU2\n",
    "            el2 = (el\n",
    "                    .find_element(By.XPATH, './/div[contains(@class, \"b-dsk-srch-cats-tree__item-wrapper\")]/button')\n",
    "                    )\n",
    "            su1 = el2.text\n",
    "            \n",
    "            # Проверка перезагрузки драйвера\n",
    "            # И продолжение с места остановки (SU1)\n",
    "            if not HEAD:\n",
    "                reload_driver_bool = False\n",
    "            \n",
    "            if reload_driver_bool:\n",
    "                if not (HEAD == su1):\n",
    "                    continue\n",
    "                else:\n",
    "                    reload_driver_bool = False\n",
    "\n",
    "            # Продолжение с места остановки (SU1)\n",
    "            el2.click()\n",
    "            time_sleep(0.2)\n",
    "\n",
    "            # Проверка, что загрузились товары, а так же проверка на превышения лимита объема оперативной памяти.\n",
    "            check_page = _check_load_page(driver, timeout, limitMB)\n",
    "            \n",
    "            if check_page:\n",
    "                \n",
    "                # Фиксация \"точки сохранения\", возможно стоило бы перенести точку сохранения выше, это нужно проверить.\n",
    "                HEAD = su1\n",
    "\n",
    "                # Находим ссылки на SU2, (в будующем необходимо переписать название переменных)\n",
    "                try:\n",
    "                    el3 = (el\n",
    "                        .find_element(By.XPATH, './/div[contains(@class, \"b-dsk-srch-cats-tree__children\")]/div[contains(@class, \"i-block-helper\")]')\n",
    "                        .find_elements(By.XPATH, './/div[contains(@class, \"b-dsk-srch-cats-tree__node\")]//button')\n",
    "                        )\n",
    "                except NoSuchElementException:\n",
    "                    # Редко, но бывает, что подкатегорий нет.\n",
    "                    short_logger.info(f'only su1: ::  market: {market.title} ::  HEAD: {HEAD} ::  href: {market.href}')\n",
    "                    href = driver.current_url\n",
    "                    su2 = np.nan\n",
    "                    su3 = np.nan\n",
    "                    temp_list.append(market_link(\n",
    "                                                    market.sity,\n",
    "                                                    market.title,\n",
    "                                                    market.discounts,\n",
    "                                                    market.alcohol,\n",
    "                                                    market.href,\n",
    "                                                    su1,\n",
    "                                                    su2,\n",
    "                                                    su3,\n",
    "                                                    href\n",
    "                                                ))\n",
    "                    continue\n",
    "                    \n",
    "            else:\n",
    "                raise MyTimeoutErrore()         # Информация на страницу так и не загрузиласть\n",
    "\n",
    "            # SU2\n",
    "            for item in el3:\n",
    "                # Проходим по каждой  SU2\n",
    "                for _ in range(10):\n",
    "                    try:\n",
    "                        item.click()\n",
    "                    except ElementClickInterceptedException:\n",
    "                        # Иногда категория не открывается, потому что она не видна на экране\n",
    "                        body = driver.find_element(By.XPATH, '//body')\n",
    "                        body.send_keys(Keys.ARROW_DOWN)\n",
    "                        time_sleep(0.2)\n",
    "                        continue\n",
    "                    else:\n",
    "                        break\n",
    "                else:\n",
    "                    # Иногда, что-то еще.\n",
    "                    raise ElementClickInterceptedException()\n",
    "\n",
    "                # С после нажатия на категорию, мы прогручиваем минисписок вниз на один элемент, что бы показалась следующая SU2\n",
    "                time_sleep(0.2)\n",
    "                item.send_keys(Keys.ARROW_DOWN)\n",
    "\n",
    "                # Проверяем загрузку товаров при выборе категории SU2\n",
    "                check_page = _check_load_page(driver, timeout, limitMB)\n",
    "                                \n",
    "                if check_page:\n",
    "                    # Достаем SU2\n",
    "                    su2 = item.text\n",
    "\n",
    "                    # Достаем список с категориями SU3,\n",
    "                    su3_list = wait.until(lambda d: d.find_elements(By.XPATH, '//li[contains(@class, \"b-dsk-srch-cats-list__item\")]/button'))\n",
    "    \n",
    "                    # Если 3 и более елементов в списке, это означает, что у категории SU2 есть подкатегории SU3.\n",
    "                    if len(su3_list) > 2:\n",
    "                        for s_item in su3_list[1:]:\n",
    "                            su3 = s_item.text\n",
    "                            # Таким способом мы добывает ссылки на каталог с детализацией до SU3\n",
    "                            # Потом еще предстоит пройтись по каждой странице каталога, но если добавить эту операцию сюда,\n",
    "                            # это сильно уложнит выполнения кода, и точки сохранения, так как малое количество памяти накладывает свои ограничения.\n",
    "                            href = driver.current_url + '&segmentUuid2='+ s_item.get_attribute('value')\n",
    "                            temp_list.append(market_link(\n",
    "                                                            market.sity,\n",
    "                                                            market.title,\n",
    "                                                            market.discounts,\n",
    "                                                            market.alcohol,\n",
    "                                                            market.href,\n",
    "                                                            su1,\n",
    "                                                            su2,\n",
    "                                                            su3,\n",
    "                                                            href\n",
    "                                                        ))\n",
    "                    else:\n",
    "                        su3 = np.nan\n",
    "                        href = driver.current_url\n",
    "                        temp_list.append(market_link(\n",
    "                                                        market.sity,\n",
    "                                                        market.title,\n",
    "                                                        market.discounts,\n",
    "                                                        market.alcohol,\n",
    "                                                        market.href,\n",
    "                                                        su1,\n",
    "                                                        su2,\n",
    "                                                        su3,\n",
    "                                                        href\n",
    "                                                    ))\n",
    "            \n",
    "            # Добавляем информацию во внешний лист\n",
    "            out_list.append(temp_list)\n",
    "\n",
    "        # Оповещаем внешнюю функцию, что в этом магазине закончились категории SU1\n",
    "        HEAD = 'finally'\n",
    "        # ====================================================================== Конец\n",
    "\n",
    "    # Цикл который будет пытаться занова начать собирать информацию, пока не истечет количество попыток\n",
    "    # Что делать когда исзасходуется effort???????\n",
    "    for _ in range(effort):\n",
    "        # Закончились ли категории SU1\n",
    "        if not (HEAD == 'finally'):\n",
    "            # Перезагрузка драйвера\n",
    "            driver = reload_driver(driver)\n",
    "            try:\n",
    "                # Открытие ссылки с магазином\n",
    "                driver.get(market.href)\n",
    "            except WebDriverException as ex:\n",
    "                short_logger.error(f'WebDriverException: {ex} ::  market: {market.title} ::  HEAD: {HEAD} ::  href: {market.href}')\n",
    "                long_logger.error(f'WebDriverException: {ex} ::  market: {market.title} ::  HEAD: {HEAD} ::  href: {market.href}', exc_info=True)\n",
    "                continue\n",
    "\n",
    "            # Первая загрузка магазина особенно долгая, по этому закладываем дополнительное время на проверку.\n",
    "            if not _check_load_page(driver, timeout=120):\n",
    "                short_logger.error(f'WebDriver TimeOut: ::  market: {market.title} ::  HEAD: {HEAD} ::  href: {market.href}')\n",
    "                long_logger.error(f'WebDriver TimeOut: ::  market: {market.title} ::  HEAD: {HEAD} ::  href: {market.href}', exc_info=True)\n",
    "                continue\n",
    "            \n",
    "            try:\n",
    "                driver.find_element(By.XPATH, '//p[contains(text(), \"В этом магазине сейчас нет акций\")]')\n",
    "            except NoSuchElementException:\n",
    "                pass\n",
    "            else:\n",
    "                short_logger.warning(f'В этом магазине сейчас нет акций: ::  market: {market.title} ::  HEAD: {HEAD} ::  href: {market.href}')\n",
    "                continue\n",
    "            \n",
    "            reload_driver_bool = True\n",
    "            try:\n",
    "                _get_link_to_pages(driver, market, timeout, limitMB)\n",
    "            # except WebDriverException as ex:\n",
    "            #     print('_get_link_to_pages WebDriverException', ex)\n",
    "            #     continue\n",
    "            except WebDriverMemoryOut as ex:\n",
    "                short_logger.info(f'WebDriverMemoryOut: {ex} ::  market: {market.title} ::  HEAD: {HEAD} ::  href: {market.href}')\n",
    "                continue\n",
    "            except StaleElementReferenceException as ex:\n",
    "                short_logger.warning(f'StaleElementReferenceException: {ex} ::  market: {market.title} ::  HEAD: {HEAD} ::  href: {market.href}')\n",
    "                long_logger.warning(f'StaleElementReferenceException: {ex} ::  market: {market.title} ::  HEAD: {HEAD} ::  href: {market.href}', exc_info=True)\n",
    "                continue\n",
    "            except ElementClickInterceptedException as ex:\n",
    "                short_logger.error(f'ElementClickInterceptedException: {ex} ::  market: {market.title} ::  HEAD: {HEAD} ::  href: {market.href}')\n",
    "                long_logger.error(f'ElementClickInterceptedException: {ex} ::  market: {market.title} ::  HEAD: {HEAD} ::  href: {market.href}', exc_info=True)\n",
    "                continue\n",
    "            else:\n",
    "                driver.quit()\n",
    "        else:\n",
    "            return out_list\n",
    "                     "
   ]
  },
  {
   "cell_type": "markdown",
   "id": "7a01965b-d42a-4a18-8200-c025902f28aa",
   "metadata": {},
   "source": [
    "### 3.1.2. Выполнение"
   ]
  },
  {
   "cell_type": "code",
   "execution_count": 15,
   "id": "c0abef0f-da29-4f0c-8ffe-ae0cc82e09d3",
   "metadata": {
    "scrolled": true
   },
   "outputs": [
    {
     "name": "stderr",
     "output_type": "stream",
     "text": [
      "100%|██████████| 59/59 [52:37<00:00, 53.52s/it]  \n"
     ]
    }
   ],
   "source": [
    "dead_line = 20\n",
    "out_list = list()\n",
    "\n",
    "market_deque = deque(retailer_links)\n",
    "\n",
    "with tqdm(total=len(market_deque)) as pbar:\n",
    "    while len(market_deque) > 0:\n",
    "        if not dead_line:\n",
    "            break\n",
    "        \n",
    "        market = market_deque.popleft()\n",
    "        \n",
    "        if market.discounts > 0:\n",
    "            # print(\"Маркет: \", market.title)\n",
    "            out = get_link_to_pages_without_except(driver, market)\n",
    "            \n",
    "            if out is None:\n",
    "                market_deque.append(market)\n",
    "                dead_line -= 1\n",
    "                continue\n",
    "            \n",
    "            out_list.extend(out)\n",
    "        pbar.update(1)"
   ]
  },
  {
   "cell_type": "code",
   "execution_count": 16,
   "id": "d4592b7b-7997-458b-a16c-e6637e032984",
   "metadata": {
    "scrolled": true
   },
   "outputs": [
    {
     "name": "stdout",
     "output_type": "stream",
     "text": [
      "Всего ссылок: 3592\n"
     ]
    }
   ],
   "source": [
    "market_catalog_links = list(chain.from_iterable(out_list.copy()))\n",
    "print(f'Всего ссылок: {len(market_catalog_links)}')\n",
    "for item in market_catalog_links:\n",
    "    if not isinstance(item, market_link):\n",
    "        print('несовпало')\n"
   ]
  },
  {
   "cell_type": "code",
   "execution_count": 77,
   "id": "5a77f833-9c35-47b2-9ef0-d384c59f5566",
   "metadata": {},
   "outputs": [
    {
     "data": {
      "text/plain": [
       "market_link(sity='lipetsk', title='Mi-shop.com', discounts=200, alcohol=False, href='https://edadeal.ru/lipeck/retailers/mi-shopcom', su1='Бытовая техника', su2='Мелкая техника для кухни', su3='Прочая техника', page_href='https://edadeal.ru/lipeck/retailers/mi-shopcom?segmentUuid=8903c83b-8001-5157-bb31-2e7e7e56d64e&segmentUuid2=9e9f8c55-f5e4-590a-ad33-35a01e94c964')"
      ]
     },
     "execution_count": 77,
     "metadata": {},
     "output_type": "execute_result"
    }
   ],
   "source": [
    "market_catalog_links[-1000]"
   ]
  },
  {
   "cell_type": "markdown",
   "id": "ed726768-1780-4d22-b85a-09a04aeae618",
   "metadata": {},
   "source": [
    "### 3.1.3. Save/Load"
   ]
  },
  {
   "cell_type": "markdown",
   "id": "ac1cbe41",
   "metadata": {},
   "source": [
    "Ссылки на страницы с информацией"
   ]
  },
  {
   "cell_type": "code",
   "execution_count": 17,
   "id": "008e4461-227a-4ebf-8073-a4e85dde6dda",
   "metadata": {},
   "outputs": [],
   "source": [
    "with open('data/market_catalog_links.pickle', 'wb') as file:\n",
    "    pickle.dump(market_catalog_links, file)"
   ]
  },
  {
   "cell_type": "code",
   "execution_count": 73,
   "id": "d22d4a6b-0eff-43f8-9318-ad172e8c88ae",
   "metadata": {},
   "outputs": [],
   "source": [
    "with open('data/market_catalog_links.pickle', 'rb') as file:\n",
    "    market_catalog_links = pickle.load(file)"
   ]
  },
  {
   "cell_type": "markdown",
   "id": "ef51e45b-9270-4801-9e33-4cb26890678e",
   "metadata": {},
   "source": [
    "## 3.2. Получение информации о товарах и ссылки на них"
   ]
  },
  {
   "cell_type": "markdown",
   "id": "23858d67-3c8e-4d1a-bdf7-f636609fddf9",
   "metadata": {},
   "source": [
    "### 3.2.1 Функции"
   ]
  },
  {
   "cell_type": "markdown",
   "id": "6763865e",
   "metadata": {
    "jp-MarkdownHeadingCollapsed": true
   },
   "source": [
    "#### 3.2.1.1 Парсинг информации"
   ]
  },
  {
   "cell_type": "code",
   "execution_count": 124,
   "id": "ef3af507",
   "metadata": {},
   "outputs": [],
   "source": [
    "def parser_sku_01(page_source: str, market: market_link, date: datetime) -> pd.DataFrame:\n",
    "    \"\"\"\n",
    "        Извлечение данных из страницы,\n",
    "        Данные возвращаются в виде pd.DataFrame\n",
    "    \"\"\"\n",
    "    \n",
    "    # Получаем хост из ссылки\n",
    "    host = '/'.join(market.page_href.split('/', maxsplit=3)[:3])\n",
    "    # \n",
    "    page = BS(page_source, 'lxml')\n",
    "    \n",
    "    # Находим карточки с продуктами\n",
    "    f1 = page.find('div', {'data-test-ref':'grid'})\n",
    "    f2 = f1.find('div').find_all('a', {'data-test-ref':'b-srch-card'})\n",
    "    \n",
    "    out_list = list()\n",
    "    \n",
    "    for f3 in f2:\n",
    "        # название\n",
    "        title = f3.find('div', class_='b-srch-card__title').get_text(strip=True)\n",
    "        \n",
    "        # дата до истечения\n",
    "        try:\n",
    "            date_to = datetime.strptime(f3.find('time').get('datetime'), '%Y-%m-%d')\n",
    "        except AttributeError:\n",
    "            date_to = np.nan\n",
    "        \n",
    "        # Цена (разбита на части)\n",
    "        try:\n",
    "            b = (f3\n",
    "                .find('div', class_=\"b-srch-card__price\")\n",
    "                .find('div', class_=\"b-srch-card__price-new\")\n",
    "                .find('div', class_='b-money__root-wrapper')\n",
    "                .find('span', {'data-test-ref':\"money-base\"})\n",
    "                .get_text(strip=True)\n",
    "                .replace('\\xa0', '')\n",
    "                )\n",
    "        except AttributeError as ex:\n",
    "            price = np.nan\n",
    "            short_logger.critical(f\"no price, {ex}: {market.title} :: {market.page_href}\")\n",
    "            long_logger.critical(f\"no price, {ex}: {market.title} :: {market.page_href}\", exc_info=True)\n",
    "        \n",
    "        else:\n",
    "            try:\n",
    "                s = (f3\n",
    "                    .find('div', class_=\"b-srch-card__price\")\n",
    "                    .find('div', class_=\"b-srch-card__price-new\")\n",
    "                    .find('div', class_='b-money__root-wrapper')\n",
    "                    .find('span', {'data-test-ref':\"money-subunit\"})\n",
    "                    .get_text(strip=True)\n",
    "                    .replace('\\xa0', ''))\n",
    "            except AttributeError:\n",
    "                s = '0'\n",
    "                \n",
    "            price = float(f'{b}.{s}')\n",
    "        \n",
    "        # -------------------------------------------------------------------------------------------------\n",
    "        # Предыдущая цена (разбита на части)\n",
    "        try:\n",
    "            b_last = (f3\n",
    "                      .find('div', class_=\"b-srch-card__price\")\n",
    "                      .find('div', class_=\"b-srch-card__price-old\")\n",
    "                      .find('div', class_='b-money__root-wrapper')\n",
    "                      .find('span', {'data-test-ref':\"money-base\"})\n",
    "                      .get_text(strip=True)\n",
    "                      .replace('\\xa0', '')\n",
    "                      )\n",
    "        except AttributeError as ex:\n",
    "            price_last = np.nan\n",
    "        \n",
    "        else:\n",
    "            try:\n",
    "                s_last = (f3\n",
    "                          .find('div', class_=\"b-srch-card__price\")\n",
    "                          .find('div', class_=\"b-srch-card__price-old\")\n",
    "                          .find('div', class_='b-money__root-wrapper')\n",
    "                          .find('span', {'data-test-ref':\"money-subunit\"})\n",
    "                          .get_text(strip=True)\n",
    "                          .replace('\\xa0', '')\n",
    "                          )\n",
    "            except AttributeError:\n",
    "                s_last = '0'\n",
    "                \n",
    "            price_last = float(f'{b_last}.{s_last}')\n",
    "\n",
    "        # -------------------------------------------------------------------------------------------------\n",
    "        # тип валюты\n",
    "        try:\n",
    "            unit = f3.find('div', class_='b-money__root-wrapper').find('span', {'data-test-ref':\"currency\"}).get_text(strip=True)\n",
    "        except AttributeError:\n",
    "            unit = np.nan\n",
    "\n",
    "        # -------------------------------------------------------------------------------------------------\n",
    "        # скидка\n",
    "        try:\n",
    "            sale = f3.find('div', class_='b-srch-card__discount-label').get_text(strip=True)\n",
    "        except AttributeError:\n",
    "            sale = np.nan\n",
    "        \n",
    "        # -------------------------------------------------------------------------------------------------\n",
    "        # Условие\n",
    "        try:\n",
    "            condition = (f3\n",
    "                         .find('div', class_=\"b-srch-card__content-container\")\n",
    "                         .find('div', class_=\"b-tpl-offer-label__text\")\n",
    "                         .get_text(strip=True)\n",
    "                         .replace('\\xa0', '')\n",
    "                         )\n",
    "        except AttributeError as ex:\n",
    "                condition = np.nan\n",
    "\n",
    "        # -------------------------------------------------------------------------------------------------\n",
    "        # вес\n",
    "        try:\n",
    "            f4 = (f3\n",
    "                .find('div', class_='b-srch-card__info')\n",
    "                .find('span')\n",
    "                .get_text(strip=True)\n",
    "                .replace('\\xa0', ' ')\n",
    "                .split('•')\n",
    "                )\n",
    "            vol = f4[0].strip()\n",
    "        \n",
    "        # руб/кг. руб/шт.\n",
    "            vol_vs = f4[1].strip()\n",
    "        except AttributeError:\n",
    "            vol = np.nan\n",
    "            vol_vs = np.nan\n",
    "                \n",
    "        # -------------------------------------------------------------------------------------------------\n",
    "        # ссылка\n",
    "        try:\n",
    "            href = host + f3.get('href')\n",
    "        except AttributeError as ex:\n",
    "            href = np.nan\n",
    "        \n",
    "                \n",
    "        out_list.append((date, market.sity, market.title, market.su1, market.su2, market.su3, title, date_to, condition ,price, price_last, unit, sale, vol, vol_vs, href))\n",
    "\n",
    "\n",
    "    return pd.DataFrame(out_list, columns=['date', 'sity', 'market', 'SU1', 'SU2', 'SU3', 'title', 'date_to', 'condition', 'price', 'price_last', 'unit', 'sale', 'vol', 'vol_vs', 'href'])"
   ]
  },
  {
   "cell_type": "markdown",
   "id": "59d525de",
   "metadata": {
    "jp-MarkdownHeadingCollapsed": true
   },
   "source": [
    "#### 3.2.1.2 Получение страницы"
   ]
  },
  {
   "cell_type": "code",
   "execution_count": 27,
   "id": "77aa9e48",
   "metadata": {},
   "outputs": [],
   "source": [
    "def _get_page(driver: webdriver.Chrome, item: market_link, timeout: int=30) -> webdriver.Chrome.page_source:\n",
    "    \"\"\"\n",
    "        сохраняем страницы\n",
    "    \"\"\"\n",
    "    # Класс задержки, который будет ожидать когда догрузится элемент\n",
    "    wait = WebDriverWait(\n",
    "        driver,\n",
    "        timeout=timeout,\n",
    "        poll_frequency=1\n",
    "        )\n",
    "    \n",
    "    # Вызов страницы\n",
    "    try:\n",
    "        driver.get(item.page_href)\n",
    "    \n",
    "    except TimeoutException as ex:\n",
    "        short_logger.warning(f\"don't get response: {item.title} :: {item.page_href}\")\n",
    "        raise MyTimeoutErrore(f'timeout bad DRIVER get url: {url}')\n",
    "    except Exception as ex:\n",
    "        short_logger.critical(f\"other exception, {ex}: {item.title} :: {item.page_href}\")\n",
    "        long_logger.critical(f\"other exception, {ex}: {item.title} :: {item.page_href}\", exc_info=True)\n",
    "    \n",
    "    # Проверка сайта на 18 лет\n",
    "    # Мы ранее собирали информацию, и приблизительно занем есть ли в данном магазине такая проверка или нет.\n",
    "    if item.alcohol:\n",
    "        try:\n",
    "            # Ожидаем появляение кнопки, если она не повится, то ничего не делаем.\n",
    "            button = wait.until(lambda d: d.find_element(by=By.XPATH, value=\"//div[@class='b-dsk-adult-disclaimer__wrapper']//button[@type='button']\"))\n",
    "            button.click()\n",
    "        \n",
    "        except TimeoutException:\n",
    "            short_logger.info(f'alcochol timeout: {item.title} :: {item.page_href}')\n",
    "        except ElementNotInteractableException:\n",
    "            short_logger.warning(f'alcochol not button: {item.title} :: {item.page_href}')\n",
    "        except Exception as ex:\n",
    "            short_logger.error(f'alcochol other: {ex} :: {item.title} :: {item.page_href}')\n",
    "            long_logger.error(f'alcochol other: {ex} :: {item.title} :: {item.page_href}', exc_info=True)\n",
    "    \n",
    "    # Ручной тайм аут на выполнение всего процесса\n",
    "    time_start = int(time())\n",
    "    \n",
    "    while (int(time()) - time_start) < timeout*2:\n",
    "        \n",
    "        # Задержка действий до загрузки отслеживаемых елементов.\n",
    "        # Варант провекрки загрузки страницы, проверка что текст не пустой\n",
    "        try:\n",
    "            wait.until(lambda d: d.find_element(by=By.XPATH, value=\"//div[@data-test-ref='grid']\"))\n",
    "        except TimeoutException:\n",
    "            try:\n",
    "                driver.find_element(by=By.XPATH, value=\"//div[@class='b-dsk-stub__description']\")\n",
    "            except TimeoutException:\n",
    "                short_logger.warning(f\"not table, timeout: {item.title} :: {item.page_href}\")\n",
    "                raise MyTimeoutErrore()\n",
    "            else:\n",
    "                short_logger.info(f\"not page, timeout: {item.title} :: {item.page_href}\")\n",
    "                page = None\n",
    "                break\n",
    "            \n",
    "        # Проверка наличия названия продукта в ячейке\n",
    "        page = BS(driver.page_source, 'lxml')\n",
    "        \n",
    "        try:\n",
    "            # Дожидаемся когда загрузится информация о первом товаре на странице\n",
    "            f1 = page.find('div', {'data-test-ref':'grid'})\n",
    "            f2 = f1.find('div').find_all('div', {'data-test-ref':'b-srch-card'})\n",
    "            f2[0].find('div', class_='b-srch-card__title').get_text(strip=True)\n",
    "        except IndexError as ex:\n",
    "            continue\n",
    "        except Exception as ex:\n",
    "            short_logger.critical(f\"checking the product name, other exception, {ex}: {item.title} :: {item.page_href}\")\n",
    "            long_logger.critical(f\"checking the product name, other exception, {ex}: {item.title} :: {item.page_href}\", exc_info=True)\n",
    "\n",
    "        break\n",
    "    \n",
    "    else:\n",
    "        short_logger.warning(f\"not table, timeout ALL: {item.title} :: {item.page_href}\")\n",
    "        raise MyTimeoutErrore()\n",
    "    \n",
    "    return driver.page_source"
   ]
  },
  {
   "cell_type": "markdown",
   "id": "b2285ecb",
   "metadata": {
    "jp-MarkdownHeadingCollapsed": true
   },
   "source": [
    "#### 3.2.1.3. Получение информации с сайта."
   ]
  },
  {
   "cell_type": "code",
   "execution_count": 28,
   "id": "51915c42",
   "metadata": {},
   "outputs": [],
   "source": [
    "def get_pages(driver: webdriver.Chrome, list_url: list[market_link], timeout: int=20, dead_line: int=20) -> tuple[pd.DataFrame, list[market_link]]:\n",
    "    \"\"\"\n",
    "        Функция получает страницы с информацией об товарах,\n",
    "        извлекает информацию,\n",
    "        отдает датафрейм с информацией и необработанными ссылками.\n",
    "    \"\"\"\n",
    "    table = list()\n",
    "    \n",
    "    with tqdm(total=len(list_url)) as pbar:     # Прогресс бар\n",
    "        \n",
    "        q = deque(list_url)                     # Очередь\n",
    "        out_list = list()\n",
    "        \n",
    "        while len(q) > 0:\n",
    "            if dead_line < 0:                   # Ограничение количества попыток получить данные.\n",
    "                return (out_list, q)\n",
    "            \n",
    "            item = q.popleft()\n",
    "            if item.discounts:\n",
    "                try:\n",
    "                    page = _get_page(driver, item, timeout)\n",
    "                except MyTimeoutErrore:\n",
    "                    q.append(item)\n",
    "                    dead_line -= 1\n",
    "                    continue\n",
    "                else:\n",
    "                    table.append(parser_sku_01(page, item, datetime.now()))\n",
    "                \n",
    "            pbar.update(1)\n",
    "        df = pd.concat(table, ignore_index=True)\n",
    "    return (df, list(q))                        # Возвращаем отработаный лист и очередь(пустую или нет)"
   ]
  },
  {
   "cell_type": "markdown",
   "id": "de752bf0-ff64-4d85-9566-17b173580902",
   "metadata": {},
   "source": [
    "#### 3.2.1.4 Новый вариант"
   ]
  },
  {
   "cell_type": "code",
   "execution_count": 78,
   "id": "81d41b16-5326-4384-bc8e-377c87d8f943",
   "metadata": {},
   "outputs": [],
   "source": [
    "driver = webdriver.Chrome()\n",
    "driver.maximize_window()"
   ]
  },
  {
   "cell_type": "code",
   "execution_count": 127,
   "id": "932e2316-8710-4dfc-ad09-d85ccb9be79f",
   "metadata": {},
   "outputs": [],
   "source": [
    "df_list = list()\n",
    "for market in market_catalog_links[1800:1820]:\n",
    "    driver.get(market.page_href)\n",
    "    _check_load_page(driver)\n",
    "    find = driver.find_elements(By.XPATH, \"\"\"//nav[contains(@class, \"b-dsk-paginator\")]\n",
    "                                             /a[contains(@class, \"b-dsk-paginator__item\")]\n",
    "                                                    \"\"\")\n",
    "    df_list.append(parser_sku_01(driver.page_source, market, datetime.now()))\n",
    "    if len(find):\n",
    "        for n in range(2, len(find)):\n",
    "            link = f'?page={n}&'.join(market.page_href.split('?'))\n",
    "            driver.get(link)\n",
    "            _check_load_page(driver)\n",
    "            df_list.append(parser_sku_01(driver.page_source, market, datetime.now()))"
   ]
  },
  {
   "cell_type": "code",
   "execution_count": 128,
   "id": "fe557996-6245-42be-8fa1-3342b087e5e8",
   "metadata": {},
   "outputs": [],
   "source": [
    "pd.concat(df_list, ignore_index=True).to_clipboard(decimal=',', index=False)"
   ]
  },
  {
   "cell_type": "markdown",
   "id": "881ea68d-acca-40c6-b7ae-9dee27709075",
   "metadata": {},
   "source": [
    "### 3.2.2. Выполнение"
   ]
  },
  {
   "cell_type": "code",
   "execution_count": null,
   "id": "5ae1e22d",
   "metadata": {},
   "outputs": [],
   "source": []
  },
  {
   "cell_type": "markdown",
   "id": "7aea087b",
   "metadata": {},
   "source": [
    "#### 3.2.2.1. Сохранение всех страниц, для того что бы отточить работу парсера."
   ]
  },
  {
   "cell_type": "code",
   "execution_count": null,
   "id": "d4431de5",
   "metadata": {},
   "outputs": [],
   "source": []
  },
  {
   "cell_type": "code",
   "execution_count": 5,
   "id": "8ffbd1ea",
   "metadata": {},
   "outputs": [],
   "source": [
    "\n",
    "\n",
    "\n",
    "\n"
   ]
  },
  {
   "cell_type": "code",
   "execution_count": 19,
   "id": "f7523791",
   "metadata": {},
   "outputs": [
    {
     "name": "stderr",
     "output_type": "stream",
     "text": [
      "100%|██████████| 914/914 [35:32<00:00,  2.33s/it]  \n"
     ]
    }
   ],
   "source": [
    "# pages, other = _get_pages(driver, retailer_links_pages)"
   ]
  },
  {
   "cell_type": "code",
   "execution_count": 20,
   "id": "2606287e-29b8-4a4e-98c8-98938061638f",
   "metadata": {},
   "outputs": [],
   "source": [
    "# Сохранение страниц  в Zip файл.\n",
    "with ZipFile('data/pages.zip', 'w', compression=ZIP_DEFLATED, compresslevel=1) as zip_file:\n",
    "    for index, page in enumerate(pages):\n",
    "        if page:\n",
    "            zip_file.writestr(f'{index:05d}.html', page.encode())"
   ]
  },
  {
   "cell_type": "code",
   "execution_count": 6,
   "id": "2b1f7878-7a82-4717-81b7-2ffb20d22524",
   "metadata": {},
   "outputs": [],
   "source": [
    "# Поллучение страниц из Zip файла.\n",
    "pages = list()\n",
    "with ZipFile('data/pages.zip', 'r') as zf:\n",
    "    for item in zf.filelist:\n",
    "        with zf.open(item.filename) as file:\n",
    "            pages.append(file.read())"
   ]
  },
  {
   "cell_type": "code",
   "execution_count": 7,
   "id": "d3388d21-3c17-4920-9ed6-ff102d30c4d1",
   "metadata": {},
   "outputs": [],
   "source": [
    "url = retailer_links_pages[0].page_href\n"
   ]
  },
  {
   "cell_type": "code",
   "execution_count": 23,
   "id": "75703e83-e42a-4b6d-8c40-47f43dec971a",
   "metadata": {},
   "outputs": [],
   "source": [
    "\n",
    "\n",
    "dataframe_list = list()\n",
    "\n",
    "for page in pages[:200]:\n",
    "    dataframe_list.append(parser_sku_01(page, retailer_links_pages[0], datetime.strptime(\"2023-08-28\", '%Y-%m-%d')))\n",
    "out_df = pd.concat(dataframe_list, ignore_index=True)"
   ]
  },
  {
   "cell_type": "code",
   "execution_count": 25,
   "id": "f67cfa3e",
   "metadata": {},
   "outputs": [
    {
     "data": {
      "text/plain": [
       "(24, 13)"
      ]
     },
     "execution_count": 25,
     "metadata": {},
     "output_type": "execute_result"
    }
   ],
   "source": []
  }
 ],
 "metadata": {
  "kernelspec": {
   "display_name": "Python 3 (ipykernel)",
   "language": "python",
   "name": "python3"
  },
  "language_info": {
   "codemirror_mode": {
    "name": "ipython",
    "version": 3
   },
   "file_extension": ".py",
   "mimetype": "text/x-python",
   "name": "python",
   "nbconvert_exporter": "python",
   "pygments_lexer": "ipython3",
   "version": "3.11.4"
  }
 },
 "nbformat": 4,
 "nbformat_minor": 5
}
