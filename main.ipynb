{
 "cells": [
  {
   "cell_type": "markdown",
   "id": "9c8da6bf-a545-48e4-94ba-5d378b9baf37",
   "metadata": {},
   "source": [
    "# 0. Import/Classes/Logger"
   ]
  },
  {
   "cell_type": "code",
   "execution_count": 1,
   "id": "d603f43e-035a-4919-a03f-b9480178d7f5",
   "metadata": {},
   "outputs": [],
   "source": [
    "from bs4 import BeautifulSoup as BS\n",
    "import undetected_chromedriver as uc\n",
    "import json\n",
    "from selenium.webdriver.common.by import By \n",
    "from selenium.webdriver.support.wait import WebDriverWait\n",
    "from selenium.webdriver.common.keys import Keys\n",
    "from selenium.common.exceptions import TimeoutException, ElementNotVisibleException, ElementNotSelectableException, NoSuchElementException, ElementNotInteractableException, StaleElementReferenceException, ElementClickInterceptedException\n",
    "\n",
    "import re\n",
    "from time import sleep as time_sleep, time\n",
    "from queue import Queue\n",
    "import math\n",
    "from typing import NamedTuple\n",
    "from datetime import datetime\n",
    "from zipfile import ZipFile, ZIP_DEFLATED\n",
    "from selenium import webdriver\n",
    "import requests\n",
    "from webdriver_manager.chrome import ChromeDriverManager\n",
    "import lxml\n",
    "from itertools import chain\n",
    "from typing import NamedTuple\n",
    "import pickle\n",
    "from collections import deque\n",
    "from tqdm import tqdm\n",
    "import pandas as pd\n",
    "import numpy as np\n",
    "import logging\n",
    "from pathlib import Path"
   ]
  },
  {
   "cell_type": "code",
   "execution_count": 2,
   "id": "97d166f3-f659-4d0f-8a95-03d53721908f",
   "metadata": {},
   "outputs": [],
   "source": [
    "# получение пользовательского логгера и установка уровня логирования\n",
    "short_logger = logging.getLogger('short_logger')\n",
    "short_logger.setLevel(logging.INFO)\n",
    "\n",
    "# настройка обработчика и форматировщика в соответствии с нашими нуждами\n",
    "short_handler = logging.FileHandler(\"data/short_logger.log\", encoding='utf-8', mode='a')\n",
    "short_formatter = logging.Formatter(\"%(asctime)s %(levelname)s %(funcName)s %(message)s\")\n",
    "\n",
    "# добавление форматировщика к обработчику \n",
    "short_handler.setFormatter(short_formatter)\n",
    "# добавление обработчика к логгеру\n",
    "short_logger.addHandler(short_handler)\n",
    "\n",
    "# получение пользовательского логгера и установка уровня логирования\n",
    "long_logger = logging.getLogger('long_logger')\n",
    "long_logger.setLevel(logging.INFO)\n",
    "\n",
    "# настройка обработчика и форматировщика в соответствии с нашими нуждами\n",
    "long_handler = logging.FileHandler(\"data/long_logger.log\", encoding='utf-8', mode='w')\n",
    "long_formatter = logging.Formatter(\"%(asctime)s %(levelname)s %(funcName)s %(message)s\")\n",
    "\n",
    "# добавление форматировщика к обработчику \n",
    "long_handler.setFormatter(long_formatter)\n",
    "# добавление обработчика к логгеру\n",
    "long_logger.addHandler(long_handler)"
   ]
  },
  {
   "cell_type": "code",
   "execution_count": 3,
   "id": "4674fa94",
   "metadata": {},
   "outputs": [],
   "source": [
    "def _save_df_to_zip(df_: pd.DataFrame, archive_name: str = 'archive', folder: str='data', replace: bool=False) -> None:\n",
    "    # Путь к файлу\n",
    "    file_path = Path(folder).joinpath(archive_name + '.zip')\n",
    "    Path(folder).mkdir(exist_ok=True)\n",
    "    # Проверяем, существует ли файл\n",
    "    if file_path.exists() and not replace:\n",
    "        # Получаем время создания файла\n",
    "        time = datetime.fromtimestamp(file_path.lstat().st_atime).strftime('%Y-%m-%d %H:%M')\n",
    "\n",
    "        # Создаем новое имя файла с добавлением времени Unix\n",
    "        new_file_name = file_path.stem + \"_\" + str(time) + file_path.suffix\n",
    "\n",
    "        # Создаем новый путь для переименованного файла\n",
    "        new_file_path = file_path.with_name(new_file_name)\n",
    "        # Переименовываем файл\n",
    "        file_path.rename(new_file_path)\n",
    "\n",
    "# to csv\n",
    "    compression_opts = dict(method='zip', archive_name=f'{archive_name}.csv')\n",
    "    df_.to_csv(f'{folder}/{archive_name}.zip', index=False, compression=compression_opts, encoding='utf-8')"
   ]
  },
  {
   "cell_type": "code",
   "execution_count": 4,
   "id": "db584197-4cd9-4e0e-8243-df0327a6bbe1",
   "metadata": {},
   "outputs": [],
   "source": [
    "class market_link(NamedTuple):\n",
    "    sity: str\n",
    "    title: str\n",
    "    discounts: int\n",
    "    alcohol: bool\n",
    "    href: str\n",
    "    su1: str\n",
    "    su2: str\n",
    "    page_href: str\n",
    "\n",
    "class MyTimeoutErrore(Exception):\n",
    "    def __init__(self, text: str='timeout'):\n",
    "        self.txt = text"
   ]
  },
  {
   "cell_type": "code",
   "execution_count": 5,
   "id": "149a3400-553b-408c-beb9-5ddf4f930e57",
   "metadata": {},
   "outputs": [],
   "source": [
    "driver = webdriver.Chrome()"
   ]
  },
  {
   "cell_type": "markdown",
   "id": "d1475db7-5be7-4c82-b4c2-b5bfb65d735b",
   "metadata": {
    "jp-MarkdownHeadingCollapsed": true
   },
   "source": [
    "# 1. Получение адресов городов"
   ]
  },
  {
   "cell_type": "code",
   "execution_count": null,
   "id": "d285b512-d584-428f-8c65-62f96c27263d",
   "metadata": {},
   "outputs": [],
   "source": []
  },
  {
   "cell_type": "markdown",
   "id": "2c056051-eba4-412d-8286-fd73f99b1962",
   "metadata": {},
   "source": [
    "# 2. Получение ссылок на Магазины"
   ]
  },
  {
   "cell_type": "markdown",
   "id": "69ec1502-f847-419c-aa9e-3f4c8e1673e0",
   "metadata": {},
   "source": [
    "## 2.1. Получение ссылки на старицы каталогов с магазинами"
   ]
  },
  {
   "cell_type": "markdown",
   "id": "8bafcb32-ee29-4096-a248-b4cce98760f7",
   "metadata": {},
   "source": [
    "### 2.1.1. Функции"
   ]
  },
  {
   "cell_type": "code",
   "execution_count": 36,
   "id": "c93dba6a-d597-41d9-989e-d58a7a94d450",
   "metadata": {},
   "outputs": [],
   "source": [
    "def _get_page_count(driver: webdriver.Chrome, url: str, pagin_sufix: str, timeout: int=30) -> list[str]:\n",
    "    \"\"\"\n",
    "        Возвращает лист с доступными ссылками\n",
    "    \"\"\"\n",
    "    # Класс задержки, который будет ожидать когда догрузится элемент\n",
    "    wait = WebDriverWait(\n",
    "        driver,\n",
    "        timeout=timeout + 10,\n",
    "        poll_frequency=1,\n",
    "        # ignored_exceptions=[ElementNotVisibleException, ElementNotSelectableException, NoSuchElementException]\n",
    "        )\n",
    "    # Вызов страницы\n",
    "    driver.get(url)\n",
    "    time_start = int(time())\n",
    "    while (int(time()) - time_start) < timeout:\n",
    "        # Задержка действий до загрузки отслеживаемых елементов.\n",
    "        # wait.until(lambda d: d.find_element(by=By.XPATH, value=\"//nav[@aria-label='Постраничная навигация']\"))\n",
    "        wait.until(lambda d: d.find_element(by=By.XPATH, value=\"//nav[@data-test-ref='paginator']\"))\n",
    "        # Парсинг\n",
    "        page = BS(driver.page_source, 'lxml')\n",
    "        \n",
    "        try:\n",
    "            f1 = page.find('nav', {'data-test-ref':\"paginator\"})\n",
    "        except Exception as ex:\n",
    "            print(ex)\n",
    "            continue\n",
    "            \n",
    "        try:    \n",
    "            pagination = int(f1.find_all('a')[-2].text)\n",
    "        except Exception as ex:\n",
    "            print(ex)\n",
    "            continue\n",
    "        \n",
    "        out_list = [f'{url}{pagin_sufix}{x}' for x in range(1, pagination+1)]\n",
    "        \n",
    "        break\n",
    "    else:\n",
    "        raise Exception(\"timeout\")\n",
    "    \n",
    "    return out_list"
   ]
  },
  {
   "cell_type": "markdown",
   "id": "8099490d-37c6-4e63-85dc-c186f10e2de3",
   "metadata": {},
   "source": [
    "### 2.1.2. Выполнение"
   ]
  },
  {
   "cell_type": "code",
   "execution_count": 34,
   "id": "c885442c-b78c-41a4-b487-7bb62d0324fd",
   "metadata": {},
   "outputs": [],
   "source": [
    "# driver.get('https://edadeal.ru/lipeck/retailers')\n",
    "url = 'https://edadeal.ru/lipeck/retailers'"
   ]
  },
  {
   "cell_type": "code",
   "execution_count": 37,
   "id": "52ca4ce0-b664-4692-acdb-4733c07e697e",
   "metadata": {},
   "outputs": [
    {
     "name": "stdout",
     "output_type": "stream",
     "text": [
      "list index out of range\n"
     ]
    },
    {
     "data": {
      "text/plain": [
       "['https://edadeal.ru/lipeck/retailers?page=1',\n",
       " 'https://edadeal.ru/lipeck/retailers?page=2',\n",
       " 'https://edadeal.ru/lipeck/retailers?page=3',\n",
       " 'https://edadeal.ru/lipeck/retailers?page=4',\n",
       " 'https://edadeal.ru/lipeck/retailers?page=5']"
      ]
     },
     "execution_count": 37,
     "metadata": {},
     "output_type": "execute_result"
    }
   ],
   "source": [
    "temp_url_list = _get_page_count(driver, url, '?page=')\n",
    "temp_url_list"
   ]
  },
  {
   "cell_type": "markdown",
   "id": "caf85ea2-0608-40dd-8762-9db3b45e032a",
   "metadata": {},
   "source": [
    "## 2.2. Получение непосредственно все ссылки на Магазины"
   ]
  },
  {
   "cell_type": "markdown",
   "id": "b0c5e560-31a9-420b-8ee8-b72fd29bdb6f",
   "metadata": {},
   "source": [
    "### 2.2.1. Функции"
   ]
  },
  {
   "cell_type": "code",
   "execution_count": 38,
   "id": "0cc3fac3-86b1-4fe9-93be-9f821b281464",
   "metadata": {},
   "outputs": [],
   "source": [
    "def get_retailers_links(driver: webdriver.Chrome, url: str, sity: str, timeout: int=30) -> list[market_link]:\n",
    "    \"\"\"\n",
    "        Возвращает лист с магазинами и ссылками.\n",
    "    \"\"\"\n",
    "    \n",
    "    host = '/'.join(url.split('/')[:-1])\n",
    "    out_list = list()\n",
    "    # Класс задержки, который будет ожидать когда догрузится элемент\n",
    "    wait = WebDriverWait(\n",
    "        driver,\n",
    "        timeout=timeout + 10,\n",
    "        poll_frequency=1\n",
    "        )\n",
    "\n",
    "    \n",
    "    # Вызов страницы\n",
    "    driver.get(url)\n",
    "    time_start = int(time())\n",
    "    \n",
    "    while (int(time()) - time_start) < timeout:\n",
    "        # Задержка действий до загрузки отслеживаемых елементов.\n",
    "        wait.until(lambda d: d.find_element(by=By.XPATH, value=\"//nav[@aria-label='Постраничная навигация']\"))\n",
    "        # Парсинг\n",
    "        page = BS(driver.page_source, 'lxml')\n",
    "        \n",
    "        try:\n",
    "            f1 = page.find('div', class_='p-dsk-srch-retailers__content').find('div', class_='b-dsk-grid__container').find_all('article')\n",
    "        except Exception as ex:\n",
    "            print(ex)\n",
    "            continue\n",
    "        \n",
    "        try:    \n",
    "            for item in f1:\n",
    "                href = host + item.find('a').get('href')\n",
    "                title = item.find('a').find('h4').get('title')\n",
    "                discounts = int((re.findall(r'(\\d+)', item.find('a').find('p').text)[0]))\n",
    "                out_list.append(market_link(sity, title, discounts, False, href, None, None, None))\n",
    "                \n",
    "        except Exception as ex:\n",
    "            print(ex)\n",
    "            continue\n",
    "        \n",
    "        break\n",
    "    \n",
    "    else:\n",
    "        raise MyTimeoutErrore('timeout')\n",
    "    \n",
    "    return out_list"
   ]
  },
  {
   "cell_type": "markdown",
   "id": "e7431b75-7639-4a48-bca5-138649c8605c",
   "metadata": {},
   "source": [
    "### 2.2.2. Выполнение"
   ]
  },
  {
   "cell_type": "code",
   "execution_count": 39,
   "id": "14419582-a37c-4b27-950b-ab969ee3466d",
   "metadata": {
    "scrolled": true
   },
   "outputs": [
    {
     "name": "stdout",
     "output_type": "stream",
     "text": [
      "59\n"
     ]
    }
   ],
   "source": [
    "temp_retailer_links = list()\n",
    "for link in temp_url_list:\n",
    "    temp_retailer_links.append(get_retailers_links(driver, link, 'lipetsk'))\n",
    "\n",
    "retailer_links = list(chain.from_iterable(temp_retailer_links))\n",
    "print(len(retailer_links))\n",
    "# print(retailer_links)"
   ]
  },
  {
   "cell_type": "markdown",
   "id": "2619de30",
   "metadata": {
    "jp-MarkdownHeadingCollapsed": true
   },
   "source": [
    "### 2.2.3. Save/Load"
   ]
  },
  {
   "cell_type": "code",
   "execution_count": 40,
   "id": "cf4209f0-2850-474b-8935-ad2c9ee0757b",
   "metadata": {},
   "outputs": [],
   "source": [
    "with open('data/retailer_links.pickle', 'wb') as file:\n",
    "    pickle.dump(retailer_links, file)"
   ]
  },
  {
   "cell_type": "code",
   "execution_count": 6,
   "id": "54fd77fb-7162-4fc8-b0f6-42340515c128",
   "metadata": {},
   "outputs": [],
   "source": [
    "with open('data/retailer_links.pickle', 'rb') as file:\n",
    "    retailer_links = pickle.load(file)"
   ]
  },
  {
   "cell_type": "markdown",
   "id": "993f54bf-fd25-44c4-8c04-87a0d7a6c536",
   "metadata": {},
   "source": [
    "# 3. Получение адресов Товаров"
   ]
  },
  {
   "cell_type": "markdown",
   "id": "4e812270-1236-449e-b451-4ad897740fc6",
   "metadata": {},
   "source": [
    "## 3.1. Получение ссылок на каталоги с товарами"
   ]
  },
  {
   "cell_type": "markdown",
   "id": "e7bfed0d-dc09-4052-b6fb-9c9154012bfe",
   "metadata": {},
   "source": [
    "### 3.1.1. Функции"
   ]
  },
  {
   "cell_type": "code",
   "execution_count": 7,
   "id": "163987df-7a60-4a67-9064-e89112980441",
   "metadata": {},
   "outputs": [],
   "source": [
    "def _get_page_count2(driver: webdriver.Chrome, url: str, pagin_sufix: str, timeout: int=30) -> tuple[list[str],bool]:\n",
    "    \"\"\"\n",
    "        Возвращает лист с доступными ссылками\n",
    "    \"\"\"\n",
    "    # Класс задержки, который будет ожидать когда догрузится элемент\n",
    "    wait = WebDriverWait(\n",
    "        driver,\n",
    "        timeout=timeout,\n",
    "        poll_frequency=1,\n",
    "        # ignored_exceptions=[ElementNotVisibleException, ElementNotSelectableException, NoSuchElementException]\n",
    "        )\n",
    "    # Вызов страницы\n",
    "    try:\n",
    "        driver.get(url)\n",
    "    except TimeoutException as ex:\n",
    "        raise MyTimeoutErrore(f'timeout bad DRIVER get url: {url}')\n",
    "    \n",
    "    \n",
    "    empty_page = False\n",
    "    # Клик по кнопке \"Есть 18 лет\"\n",
    "    alcohol = True\n",
    "    # Проверка появления \"Да, мне есть 18\"\n",
    "    try:\n",
    "        button = wait.until(lambda d: d.find_element(by=By.XPATH, value=\"//div[@class='b-dsk-adult-disclaimer__wrapper']//button[@type='button']\"))\n",
    "        button.click()\n",
    "    except TimeoutException:\n",
    "        alcohol = False\n",
    "    except ElementNotInteractableException:\n",
    "        alcohol = False\n",
    "    \n",
    "    time_start = int(time())\n",
    "    while (int(time()) - time_start) < timeout*2:\n",
    "        # Задержка действий до загрузки отслеживаемых елементов.\n",
    "        try:\n",
    "            wait.until(lambda d: d.find_element(by=By.XPATH, value=\"//nav[@data-test-ref='paginator']\"))\n",
    "        except TimeoutException:\n",
    "            try:\n",
    "                # Проверка на отсутствие скидок.\n",
    "                driver.find_element(by=By.XPATH, value=\"//div[@class='b-dsk-stub__description']\")\n",
    "            except TimeoutException:\n",
    "                raise MyTimeoutErrore(f'timeout not TABLE in url: {url}')\n",
    "            else:\n",
    "                empty_page = True\n",
    "                out_list = None\n",
    "                alcohol = True\n",
    "                break\n",
    "                \n",
    "        # Парсинг\n",
    "        page = BS(driver.page_source, 'lxml')\n",
    "        \n",
    "        try:\n",
    "            f1 = page.find('nav', {'data-test-ref':\"paginator\"})\n",
    "        except Exception as ex:\n",
    "            continue\n",
    "            \n",
    "        try:    \n",
    "            pagination = int(f1.find_all('a')[-2].text)\n",
    "        except Exception as ex:\n",
    "            continue\n",
    "        \n",
    "        out_list = [f'{url}{pagin_sufix}{x}' for x in range(1, pagination+1)]\n",
    "        \n",
    "        break\n",
    "    else:\n",
    "        raise MyTimeoutErrore(f'timeout not PAGINATOR in url: {url}')\n",
    "    \n",
    "    return (out_list, alcohol, empty_page)\n",
    "\n",
    "def _get_all_links_to_market(driver: webdriver.Chrome, list_url: list[market_link], timeout: int=30) -> list[market_link]:\n",
    "    \"\"\"\n",
    "        Получение адресов на все страницы с каталогами товаров\n",
    "        Что бы после можно было использовать много поточность.\n",
    "    \"\"\"\n",
    "    loger_fault = list()\n",
    "    dead_line = 100\n",
    "    # Очередь\n",
    "    q = deque(list_url)\n",
    "\n",
    "    out_list = list()\n",
    "    with tqdm(total=len(list_url)) as pbar:\n",
    "        while len(q) > 0:\n",
    "            if dead_line < 0:\n",
    "                break\n",
    "            \n",
    "            item = q.popleft()\n",
    "            \n",
    "            if item.discounts > 24:\n",
    "                try:\n",
    "                    temp_url_list, alcohol, empty_page = _get_page_count2(driver, item.href, '?page=', timeout)\n",
    "                except MyTimeoutErrore as mte:\n",
    "                    q.append(item)\n",
    "                    loger_fault.append(mte)\n",
    "                    dead_line -= 1\n",
    "                    continue\n",
    "                if not empty_page:\n",
    "                    for href in temp_url_list:\n",
    "                        out_list.append(market_link(item.sity,\n",
    "                                                    item.title,\n",
    "                                                    item.discounts,\n",
    "                                                    alcohol,\n",
    "                                                    item.href,\n",
    "                                                    href))\n",
    "                    \n",
    "            elif item.discounts:\n",
    "                out_list.append(market_link(item.sity,\n",
    "                                            item.title,\n",
    "                                            item.discounts,\n",
    "                                            True,\n",
    "                                            item.href,\n",
    "                                            item.href))\n",
    "            else:\n",
    "                out_list.append(market_link(*item[:-1], None))\n",
    "            \n",
    "            pbar.update(1)\n",
    "\n",
    "    return (out_list, loger_fault, q)"
   ]
  },
  {
   "cell_type": "markdown",
   "id": "9034ba3b",
   "metadata": {},
   "source": [
    "### 2.2.2/2 Корректировка"
   ]
  },
  {
   "cell_type": "code",
   "execution_count": 9,
   "id": "bcc69187",
   "metadata": {},
   "outputs": [],
   "source": [
    "url = retailer_links[2].href\n",
    "driver.get(url=url)\n",
    "market = retailer_links[2]"
   ]
  },
  {
   "cell_type": "code",
   "execution_count": 10,
   "id": "8dba4692",
   "metadata": {
    "tags": []
   },
   "outputs": [
    {
     "name": "stdout",
     "output_type": "stream",
     "text": [
      "[('Продукты', 'Молочные продукты', 'Сыр', 'https://edadeal.ru/lipeck/retailers/magnit-univer?segmentUuid=3b31b1a8-6311-11e6-849f-52540010b608&segmentUuid2=3b31b30e-6311-11e6-849f-52540010b608', 3), ('Продукты', 'Молочные продукты', 'Йогурт', 'https://edadeal.ru/lipeck/retailers/magnit-univer?segmentUuid=3b31b1a8-6311-11e6-849f-52540010b608&segmentUuid2=3b31b862-6311-11e6-849f-52540010b608', 2), ('Продукты', 'Молочные продукты', 'Молоко', 'https://edadeal.ru/lipeck/retailers/magnit-univer?segmentUuid=3b31b1a8-6311-11e6-849f-52540010b608&segmentUuid2=3b31b275-6311-11e6-849f-52540010b608', 2), ('Продукты', 'Молочные продукты', 'Сыр плавленый', 'https://edadeal.ru/lipeck/retailers/magnit-univer?segmentUuid=3b31b1a8-6311-11e6-849f-52540010b608&segmentUuid2=3b31b396-6311-11e6-849f-52540010b608', nan), ('Продукты', 'Молочные продукты', 'Масло, маргарин, спред', 'https://edadeal.ru/lipeck/retailers/magnit-univer?segmentUuid=3b31b1a8-6311-11e6-849f-52540010b608&segmentUuid2=3b31b415-6311-11e6-849f-52540010b608', 2), ('Продукты', 'Молочные продукты', 'Сырок', 'https://edadeal.ru/lipeck/retailers/magnit-univer?segmentUuid=3b31b1a8-6311-11e6-849f-52540010b608&segmentUuid2=3b31b8e0-6311-11e6-849f-52540010b608', nan), ('Продукты', 'Молочные продукты', 'Кисломолочные продукты', 'https://edadeal.ru/lipeck/retailers/magnit-univer?segmentUuid=3b31b1a8-6311-11e6-849f-52540010b608&segmentUuid2=3b31b5d2-6311-11e6-849f-52540010b608', nan), ('Продукты', 'Молочные продукты', 'Молоко сгущенное', 'https://edadeal.ru/lipeck/retailers/magnit-univer?segmentUuid=3b31b1a8-6311-11e6-849f-52540010b608&segmentUuid2=3b31bad1-6311-11e6-849f-52540010b608', nan), ('Продукты', 'Молочные продукты', 'Сметана', 'https://edadeal.ru/lipeck/retailers/magnit-univer?segmentUuid=3b31b1a8-6311-11e6-849f-52540010b608&segmentUuid2=3b31b6da-6311-11e6-849f-52540010b608', nan), ('Продукты', 'Молочные продукты', 'Сливки', 'https://edadeal.ru/lipeck/retailers/magnit-univer?segmentUuid=3b31b1a8-6311-11e6-849f-52540010b608&segmentUuid2=3b31b7b6-6311-11e6-849f-52540010b608', nan), ('Продукты', 'Молочные продукты', 'Творог', 'https://edadeal.ru/lipeck/retailers/magnit-univer?segmentUuid=3b31b1a8-6311-11e6-849f-52540010b608&segmentUuid2=3b31b65c-6311-11e6-849f-52540010b608', nan), ('Продукты', 'Молочные продукты', 'Сыр творожный', 'https://edadeal.ru/lipeck/retailers/magnit-univer?segmentUuid=3b31b1a8-6311-11e6-849f-52540010b608&segmentUuid2=3b31ba57-6311-11e6-849f-52540010b608', nan), ('Продукты', 'Молочные продукты', 'Творожок', 'https://edadeal.ru/lipeck/retailers/magnit-univer?segmentUuid=3b31b1a8-6311-11e6-849f-52540010b608&segmentUuid2=3b31b959-6311-11e6-849f-52540010b608', nan), ('Продукты', 'Молочные продукты', 'Десерт, пудинг', 'https://edadeal.ru/lipeck/retailers/magnit-univer?segmentUuid=3b31b1a8-6311-11e6-849f-52540010b608&segmentUuid2=3b31b9d5-6311-11e6-849f-52540010b608', nan), ('Продукты', 'Мясо', None, 'https://edadeal.ru/lipeck/retailers/magnit-univer?segmentUuid=3b31bbc8-6311-11e6-849f-52540010b608', nan), ('Продукты', 'Птица', 'Полуфабрикаты из птицы', 'https://edadeal.ru/lipeck/retailers/magnit-univer?segmentUuid=3b31bea5-6311-11e6-849f-52540010b608&segmentUuid2=3b31c04e-6311-11e6-849f-52540010b608', nan), ('Продукты', 'Птица', 'Цыпленок', 'https://edadeal.ru/lipeck/retailers/magnit-univer?segmentUuid=3b31bea5-6311-11e6-849f-52540010b608&segmentUuid2=3b31bf4c-6311-11e6-849f-52540010b608', nan), ('Продукты', 'Птица', 'Курица', 'https://edadeal.ru/lipeck/retailers/magnit-univer?segmentUuid=3b31bea5-6311-11e6-849f-52540010b608&segmentUuid2=3b31befb-6311-11e6-849f-52540010b608', nan), ('Продукты', 'Яйцо', None, 'https://edadeal.ru/lipeck/retailers/magnit-univer?segmentUuid=3b31c0fa-6311-11e6-849f-52540010b608', nan), ('Продукты', 'Мясные продукты', 'Сосиски', 'https://edadeal.ru/lipeck/retailers/magnit-univer?segmentUuid=3b31c1f4-6311-11e6-849f-52540010b608&segmentUuid2=3b31c29e-6311-11e6-849f-52540010b608', 2), ('Продукты', 'Мясные продукты', 'Колбаса вареная', 'https://edadeal.ru/lipeck/retailers/magnit-univer?segmentUuid=3b31c1f4-6311-11e6-849f-52540010b608&segmentUuid2=3b31c24a-6311-11e6-849f-52540010b608', nan), ('Продукты', 'Мясные продукты', 'Колбаса варено-копченая', 'https://edadeal.ru/lipeck/retailers/magnit-univer?segmentUuid=3b31c1f4-6311-11e6-849f-52540010b608&segmentUuid2=3b31c3e9-6311-11e6-849f-52540010b608', nan), ('Продукты', 'Мясные продукты', 'Паштет', 'https://edadeal.ru/lipeck/retailers/magnit-univer?segmentUuid=3b31c1f4-6311-11e6-849f-52540010b608&segmentUuid2=3b31c544-6311-11e6-849f-52540010b608', nan), ('Продукты', 'Мясные продукты', 'Колбаса сырокопченая', 'https://edadeal.ru/lipeck/retailers/magnit-univer?segmentUuid=3b31c1f4-6311-11e6-849f-52540010b608&segmentUuid2=3b31c491-6311-11e6-849f-52540010b608', nan), ('Продукты', 'Мясные продукты', 'Ветчина', 'https://edadeal.ru/lipeck/retailers/magnit-univer?segmentUuid=3b31c1f4-6311-11e6-849f-52540010b608&segmentUuid2=3b31c645-6311-11e6-849f-52540010b608', nan), ('Продукты', 'Мясные продукты', 'Колбаски', 'https://edadeal.ru/lipeck/retailers/magnit-univer?segmentUuid=3b31c1f4-6311-11e6-849f-52540010b608&segmentUuid2=3b31c6af-6311-11e6-849f-52540010b608', nan), ('Продукты', 'Мясные продукты', 'Копчености', 'https://edadeal.ru/lipeck/retailers/magnit-univer?segmentUuid=3b31c1f4-6311-11e6-849f-52540010b608&segmentUuid2=3b31c4f1-6311-11e6-849f-52540010b608', nan), ('Продукты', 'Мясные продукты', 'Сардельки', 'https://edadeal.ru/lipeck/retailers/magnit-univer?segmentUuid=3b31c1f4-6311-11e6-849f-52540010b608&segmentUuid2=3b31c2f3-6311-11e6-849f-52540010b608', nan), ('Продукты', 'Мясные продукты', 'Карбонад', 'https://edadeal.ru/lipeck/retailers/magnit-univer?segmentUuid=3b31c1f4-6311-11e6-849f-52540010b608&segmentUuid2=3b31c5ed-6311-11e6-849f-52540010b608', nan), ('Продукты', 'Рыба', 'Морепродукты', 'https://edadeal.ru/lipeck/retailers/magnit-univer?segmentUuid=3b31c719-6311-11e6-849f-52540010b608&segmentUuid2=3b31c887-6311-11e6-849f-52540010b608', nan), ('Продукты', 'Рыба', 'Икра', 'https://edadeal.ru/lipeck/retailers/magnit-univer?segmentUuid=3b31c719-6311-11e6-849f-52540010b608&segmentUuid2=3b31caae-6311-11e6-849f-52540010b608', nan), ('Продукты', 'Рыба', 'Сельдь', 'https://edadeal.ru/lipeck/retailers/magnit-univer?segmentUuid=3b31c719-6311-11e6-849f-52540010b608&segmentUuid2=3b31ca56-6311-11e6-849f-52540010b608', nan), ('Продукты', 'Рыба', 'Деликатесная рыба', 'https://edadeal.ru/lipeck/retailers/magnit-univer?segmentUuid=3b31c719-6311-11e6-849f-52540010b608&segmentUuid2=3b31c777-6311-11e6-849f-52540010b608', nan), ('Продукты', 'Рыба', 'Копченая рыба', 'https://edadeal.ru/lipeck/retailers/magnit-univer?segmentUuid=3b31c719-6311-11e6-849f-52540010b608&segmentUuid2=3b31cb00-6311-11e6-849f-52540010b608', nan), ('Продукты', 'Рыба', 'Охлажденная рыба', 'https://edadeal.ru/lipeck/retailers/magnit-univer?segmentUuid=3b31c719-6311-11e6-849f-52540010b608&segmentUuid2=3b31c7d3-6311-11e6-849f-52540010b608', nan), ('Продукты', 'Майонез и соусы', 'Соусы', 'https://edadeal.ru/lipeck/retailers/magnit-univer?segmentUuid=3b31cb57-6311-11e6-849f-52540010b608&segmentUuid2=3b31ce28-6311-11e6-849f-52540010b608', 2), ('Продукты', 'Майонез и соусы', 'Кетчуп', 'https://edadeal.ru/lipeck/retailers/magnit-univer?segmentUuid=3b31cb57-6311-11e6-849f-52540010b608&segmentUuid2=3b31cd2c-6311-11e6-849f-52540010b608', 2), ('Продукты', 'Майонез и соусы', 'Майонез', 'https://edadeal.ru/lipeck/retailers/magnit-univer?segmentUuid=3b31cb57-6311-11e6-849f-52540010b608&segmentUuid2=3b31cbad-6311-11e6-849f-52540010b608', nan), ('Продукты', 'Майонез и соусы', 'Горчица', 'https://edadeal.ru/lipeck/retailers/magnit-univer?segmentUuid=3b31cb57-6311-11e6-849f-52540010b608&segmentUuid2=3b31cd83-6311-11e6-849f-52540010b608', nan), ('Продукты', 'Майонез и соусы', 'Хрен', 'https://edadeal.ru/lipeck/retailers/magnit-univer?segmentUuid=3b31cb57-6311-11e6-849f-52540010b608&segmentUuid2=3b31cdd5-6311-11e6-849f-52540010b608', nan), ('Продукты', 'Бакалея', 'Приправы', 'https://edadeal.ru/lipeck/retailers/magnit-univer?segmentUuid=3b31cf9f-6311-11e6-849f-52540010b608&segmentUuid2=3b33400a-6311-11e6-849f-52540010b608', 6), ('Продукты', 'Бакалея', 'Чипсы и снэки', 'https://edadeal.ru/lipeck/retailers/magnit-univer?segmentUuid=3b31cf9f-6311-11e6-849f-52540010b608&segmentUuid2=3b33308d-6311-11e6-849f-52540010b608', 5), ('Продукты', 'Бакалея', 'Крупы', 'https://edadeal.ru/lipeck/retailers/magnit-univer?segmentUuid=3b31cf9f-6311-11e6-849f-52540010b608&segmentUuid2=3b31d219-6311-11e6-849f-52540010b608', 4), ('Продукты', 'Бакалея', 'Сухие завтраки', 'https://edadeal.ru/lipeck/retailers/magnit-univer?segmentUuid=3b31cf9f-6311-11e6-849f-52540010b608&segmentUuid2=3b31d1c2-6311-11e6-849f-52540010b608', 3), ('Продукты', 'Бакалея', 'Макароны', 'https://edadeal.ru/lipeck/retailers/magnit-univer?segmentUuid=3b31cf9f-6311-11e6-849f-52540010b608&segmentUuid2=3b31d049-6311-11e6-849f-52540010b608', 3), ('Продукты', 'Бакалея', 'Масло растительное', 'https://edadeal.ru/lipeck/retailers/magnit-univer?segmentUuid=3b31cf9f-6311-11e6-849f-52540010b608&segmentUuid2=3b31cff7-6311-11e6-849f-52540010b608', 2), ('Продукты', 'Бакалея', 'Орехи и семечки', 'https://edadeal.ru/lipeck/retailers/magnit-univer?segmentUuid=3b31cf9f-6311-11e6-849f-52540010b608&segmentUuid2=3b3336c0-6311-11e6-849f-52540010b608', 2), ('Продукты', 'Бакалея', 'Какао', 'https://edadeal.ru/lipeck/retailers/magnit-univer?segmentUuid=3b31cf9f-6311-11e6-849f-52540010b608&segmentUuid2=3b334bd0-6311-11e6-849f-52540010b608', nan), ('Продукты', 'Бакалея', 'Мука, смеси, компоненты для выпечки', 'https://edadeal.ru/lipeck/retailers/magnit-univer?segmentUuid=3b31cf9f-6311-11e6-849f-52540010b608&segmentUuid2=3b3343d2-6311-11e6-849f-52540010b608', 2), ('Продукты', 'Бакалея', 'Варенье и сиропы', 'https://edadeal.ru/lipeck/retailers/magnit-univer?segmentUuid=3b31cf9f-6311-11e6-849f-52540010b608&segmentUuid2=3b333ac8-6311-11e6-849f-52540010b608', 2), ('Продукты', 'Бакалея', 'Сухофрукты и цукаты', 'https://edadeal.ru/lipeck/retailers/magnit-univer?segmentUuid=3b31cf9f-6311-11e6-849f-52540010b608&segmentUuid2=3b3337a7-6311-11e6-849f-52540010b608', nan), ('Продукты', 'Бакалея', 'Соль, сахар', 'https://edadeal.ru/lipeck/retailers/magnit-univer?segmentUuid=3b31cf9f-6311-11e6-849f-52540010b608&segmentUuid2=3b333d53-6311-11e6-849f-52540010b608', nan), ('Продукты', 'Бакалея', 'Диетические продукты', 'https://edadeal.ru/lipeck/retailers/magnit-univer?segmentUuid=3b31cf9f-6311-11e6-849f-52540010b608&segmentUuid2=3b334a83-6311-11e6-849f-52540010b608', nan), ('Продукты', 'Бакалея', 'Кондитерские п/ф', 'https://edadeal.ru/lipeck/retailers/magnit-univer?segmentUuid=3b31cf9f-6311-11e6-849f-52540010b608&segmentUuid2=3b3341f0-6311-11e6-849f-52540010b608', nan), ('Продукты', 'Бакалея', 'Мед', 'https://edadeal.ru/lipeck/retailers/magnit-univer?segmentUuid=3b31cf9f-6311-11e6-849f-52540010b608&segmentUuid2=3b333a01-6311-11e6-849f-52540010b608', nan), ('Продукты', 'Бакалея', 'Бульонные кубики', 'https://edadeal.ru/lipeck/retailers/magnit-univer?segmentUuid=3b31cf9f-6311-11e6-849f-52540010b608&segmentUuid2=038e22a3-ac1b-4011-849d-dbbd5ed088a0', nan), ('Продукты', 'Бакалея', 'Протеиновые батончики', 'https://edadeal.ru/lipeck/retailers/magnit-univer?segmentUuid=3b31cf9f-6311-11e6-849f-52540010b608&segmentUuid2=fa88b064-a5cf-4a82-b993-e4e9b8c13cbd', nan), ('Продукты', 'Кофе и чай', 'Чай', 'https://edadeal.ru/lipeck/retailers/magnit-univer?segmentUuid=3b334c54-6311-11e6-849f-52540010b608&segmentUuid2=3b334b4d-6311-11e6-849f-52540010b608', 20), ('Продукты', 'Кофе и чай', 'Кофе растворимый', 'https://edadeal.ru/lipeck/retailers/magnit-univer?segmentUuid=3b334c54-6311-11e6-849f-52540010b608&segmentUuid2=3b334cd9-6311-11e6-849f-52540010b608', 5), ('Продукты', 'Кофе и чай', 'Кофе молотый', 'https://edadeal.ru/lipeck/retailers/magnit-univer?segmentUuid=3b334c54-6311-11e6-849f-52540010b608&segmentUuid2=3b334ddb-6311-11e6-849f-52540010b608', 3), ('Продукты', 'Кофе и чай', 'Кофе в зернах', 'https://edadeal.ru/lipeck/retailers/magnit-univer?segmentUuid=3b334c54-6311-11e6-849f-52540010b608&segmentUuid2=3b334d5b-6311-11e6-849f-52540010b608', 2), ('Продукты', 'Кофе и чай', 'Кофе в капсулах', 'https://edadeal.ru/lipeck/retailers/magnit-univer?segmentUuid=3b334c54-6311-11e6-849f-52540010b608&segmentUuid2=3b334e5a-6311-11e6-849f-52540010b608', nan), ('Продукты', 'Кондитерские изделия', 'Конфеты', 'https://edadeal.ru/lipeck/retailers/magnit-univer?segmentUuid=3b334edc-6311-11e6-849f-52540010b608&segmentUuid2=3b3350f7-6311-11e6-849f-52540010b608', 15), ('Продукты', 'Кондитерские изделия', 'Шоколад', 'https://edadeal.ru/lipeck/retailers/magnit-univer?segmentUuid=3b334edc-6311-11e6-849f-52540010b608&segmentUuid2=3b334f68-6311-11e6-849f-52540010b608', 9), ('Продукты', 'Кондитерские изделия', 'Печенье', 'https://edadeal.ru/lipeck/retailers/magnit-univer?segmentUuid=3b334edc-6311-11e6-849f-52540010b608&segmentUuid2=3b334fef-6311-11e6-849f-52540010b608', 5), ('Продукты', 'Кондитерские изделия', 'Мармелад', 'https://edadeal.ru/lipeck/retailers/magnit-univer?segmentUuid=3b334edc-6311-11e6-849f-52540010b608&segmentUuid2=3b33515e-6311-11e6-849f-52540010b608', 2), ('Продукты', 'Кондитерские изделия', 'Жевательная резинка', 'https://edadeal.ru/lipeck/retailers/magnit-univer?segmentUuid=3b334edc-6311-11e6-849f-52540010b608&segmentUuid2=3b3354ba-6311-11e6-849f-52540010b608', nan), ('Продукты', 'Кондитерские изделия', 'Вафли', 'https://edadeal.ru/lipeck/retailers/magnit-univer?segmentUuid=3b334edc-6311-11e6-849f-52540010b608&segmentUuid2=3b33504a-6311-11e6-849f-52540010b608', 2), ('Продукты', 'Кондитерские изделия', 'Пряники', 'https://edadeal.ru/lipeck/retailers/magnit-univer?segmentUuid=3b334edc-6311-11e6-849f-52540010b608&segmentUuid2=3b3353e4-6311-11e6-849f-52540010b608', nan), ('Продукты', 'Кондитерские изделия', 'Зефир, суфле и маршмеллоу', 'https://edadeal.ru/lipeck/retailers/magnit-univer?segmentUuid=3b334edc-6311-11e6-849f-52540010b608&segmentUuid2=3b3351c5-6311-11e6-849f-52540010b608', 2), ('Продукты', 'Кондитерские изделия', 'Кексы и рулеты', 'https://edadeal.ru/lipeck/retailers/magnit-univer?segmentUuid=3b334edc-6311-11e6-849f-52540010b608&segmentUuid2=3b33509f-6311-11e6-849f-52540010b608', nan), ('Продукты', 'Кондитерские изделия', 'Пирожные', 'https://edadeal.ru/lipeck/retailers/magnit-univer?segmentUuid=3b334edc-6311-11e6-849f-52540010b608&segmentUuid2=3b33538d-6311-11e6-849f-52540010b608', nan), ('Продукты', 'Кондитерские изделия', 'Сладкая выпечка', 'https://edadeal.ru/lipeck/retailers/magnit-univer?segmentUuid=3b334edc-6311-11e6-849f-52540010b608&segmentUuid2=3b33551d-6311-11e6-849f-52540010b608', nan), ('Продукты', 'Кондитерские изделия', 'Баранки и сушки', 'https://edadeal.ru/lipeck/retailers/magnit-univer?segmentUuid=3b334edc-6311-11e6-849f-52540010b608&segmentUuid2=3b33557a-6311-11e6-849f-52540010b608', nan), ('Продукты', 'Кондитерские изделия', 'Торты', 'https://edadeal.ru/lipeck/retailers/magnit-univer?segmentUuid=3b334edc-6311-11e6-849f-52540010b608&segmentUuid2=3b335320-6311-11e6-849f-52540010b608', nan), ('Продукты', 'Кондитерские изделия', 'Пастила', 'https://edadeal.ru/lipeck/retailers/magnit-univer?segmentUuid=3b334edc-6311-11e6-849f-52540010b608&segmentUuid2=3b335227-6311-11e6-849f-52540010b608', nan), ('Продукты', 'Кондитерские изделия', 'Восточные сладости', 'https://edadeal.ru/lipeck/retailers/magnit-univer?segmentUuid=3b334edc-6311-11e6-849f-52540010b608&segmentUuid2=3b335459-6311-11e6-849f-52540010b608', nan), ('Продукты', 'Фрукты, овощи', 'Фрукты свежие', 'https://edadeal.ru/lipeck/retailers/magnit-univer?segmentUuid=3b3355da-6311-11e6-849f-52540010b608&segmentUuid2=3b335642-6311-11e6-849f-52540010b608', 2), ('Продукты', 'Фрукты, овощи', 'Овощи', 'https://edadeal.ru/lipeck/retailers/magnit-univer?segmentUuid=3b3355da-6311-11e6-849f-52540010b608&segmentUuid2=3b3356b2-6311-11e6-849f-52540010b608', nan), ('Продукты', 'Фрукты, овощи', 'Соленья', 'https://edadeal.ru/lipeck/retailers/magnit-univer?segmentUuid=3b3355da-6311-11e6-849f-52540010b608&segmentUuid2=3b3357d3-6311-11e6-849f-52540010b608', nan), ('Продукты', 'Фрукты, овощи', 'Грибы свежие', 'https://edadeal.ru/lipeck/retailers/magnit-univer?segmentUuid=3b3355da-6311-11e6-849f-52540010b608&segmentUuid2=3b335b7f-6311-11e6-849f-52540010b608', nan), ('Продукты', 'Фрукты, овощи', 'Зелень', 'https://edadeal.ru/lipeck/retailers/magnit-univer?segmentUuid=3b3355da-6311-11e6-849f-52540010b608&segmentUuid2=3b335762-6311-11e6-849f-52540010b608', nan), ('Продукты', 'Фрукты, овощи', 'Зелёные салаты', 'https://edadeal.ru/lipeck/retailers/magnit-univer?segmentUuid=3b3355da-6311-11e6-849f-52540010b608&segmentUuid2=3b335833-6311-11e6-849f-52540010b608', nan), ('Продукты', 'Фрукты, овощи', 'Ягоды свежие', 'https://edadeal.ru/lipeck/retailers/magnit-univer?segmentUuid=3b3355da-6311-11e6-849f-52540010b608&segmentUuid2=3b335c1d-6311-11e6-849f-52540010b608', nan), ('Продукты', 'Хлеб', 'Хлебцы хрустящие', 'https://edadeal.ru/lipeck/retailers/magnit-univer?segmentUuid=3b335c7b-6311-11e6-849f-52540010b608&segmentUuid2=3b335e71-6311-11e6-849f-52540010b608', nan), ('Продукты', 'Хлеб', 'Батон', 'https://edadeal.ru/lipeck/retailers/magnit-univer?segmentUuid=3b335c7b-6311-11e6-849f-52540010b608&segmentUuid2=3b335cdd-6311-11e6-849f-52540010b608', nan), ('Продукты', 'Хлеб', 'Ржаной хлеб', 'https://edadeal.ru/lipeck/retailers/magnit-univer?segmentUuid=3b335c7b-6311-11e6-849f-52540010b608&segmentUuid2=3b335da9-6311-11e6-849f-52540010b608', nan), ('Продукты', 'Хлеб', 'Пшенично-ржаной', 'https://edadeal.ru/lipeck/retailers/magnit-univer?segmentUuid=3b335c7b-6311-11e6-849f-52540010b608&segmentUuid2=3b3701d0-6311-11e6-849f-52540010b608', nan), ('Продукты', 'Замороженные продукты', 'Мороженое', 'https://edadeal.ru/lipeck/retailers/magnit-univer?segmentUuid=3b335ed0-6311-11e6-849f-52540010b608&segmentUuid2=3b33638e-6311-11e6-849f-52540010b608', 4), ('Продукты', 'Замороженные продукты', 'Пельмени', 'https://edadeal.ru/lipeck/retailers/magnit-univer?segmentUuid=3b335ed0-6311-11e6-849f-52540010b608&segmentUuid2=3b336617-6311-11e6-849f-52540010b608', nan), ('Продукты', 'Замороженные продукты', 'Замороженные овощи', 'https://edadeal.ru/lipeck/retailers/magnit-univer?segmentUuid=3b335ed0-6311-11e6-849f-52540010b608&segmentUuid2=3b335f9d-6311-11e6-849f-52540010b608', nan), ('Продукты', 'Замороженные продукты', 'Замороженные морепродукты', 'https://edadeal.ru/lipeck/retailers/magnit-univer?segmentUuid=3b335ed0-6311-11e6-849f-52540010b608&segmentUuid2=3b33632c-6311-11e6-849f-52540010b608', nan), ('Продукты', 'Замороженные продукты', 'Готовые замороженные блюда', 'https://edadeal.ru/lipeck/retailers/magnit-univer?segmentUuid=3b335ed0-6311-11e6-849f-52540010b608&segmentUuid2=3b335f35-6311-11e6-849f-52540010b608', nan), ('Продукты', 'Замороженные продукты', 'Замороженные полуфабрикаты', 'https://edadeal.ru/lipeck/retailers/magnit-univer?segmentUuid=3b335ed0-6311-11e6-849f-52540010b608&segmentUuid2=3b336450-6311-11e6-849f-52540010b608', nan), ('Продукты', 'Замороженные продукты', 'Замороженная рыба', 'https://edadeal.ru/lipeck/retailers/magnit-univer?segmentUuid=3b335ed0-6311-11e6-849f-52540010b608&segmentUuid2=3b33605c-6311-11e6-849f-52540010b608', nan), ('Продукты', 'Замороженные продукты', 'Тесто замороженное', 'https://edadeal.ru/lipeck/retailers/magnit-univer?segmentUuid=3b335ed0-6311-11e6-849f-52540010b608&segmentUuid2=3b336746-6311-11e6-849f-52540010b608', nan), ('Продукты', 'Замороженные продукты', 'Сладкое', 'https://edadeal.ru/lipeck/retailers/magnit-univer?segmentUuid=3b335ed0-6311-11e6-849f-52540010b608&segmentUuid2=3b3363f2-6311-11e6-849f-52540010b608', nan), ('Продукты', 'Замороженные продукты', 'Замороженная птица', 'https://edadeal.ru/lipeck/retailers/magnit-univer?segmentUuid=3b335ed0-6311-11e6-849f-52540010b608&segmentUuid2=3b33629e-6311-11e6-849f-52540010b608', nan), ('Продукты', 'Замороженные продукты', 'Замороженные грибы', 'https://edadeal.ru/lipeck/retailers/magnit-univer?segmentUuid=3b335ed0-6311-11e6-849f-52540010b608&segmentUuid2=3b3366e6-6311-11e6-849f-52540010b608', nan), ('Продукты', 'Замороженные продукты', 'Замороженные фрукты и ягоды', 'https://edadeal.ru/lipeck/retailers/magnit-univer?segmentUuid=3b335ed0-6311-11e6-849f-52540010b608&segmentUuid2=3b335ffe-6311-11e6-849f-52540010b608', nan), ('Продукты', 'Замороженные продукты', 'Вареники', 'https://edadeal.ru/lipeck/retailers/magnit-univer?segmentUuid=3b335ed0-6311-11e6-849f-52540010b608&segmentUuid2=3b336689-6311-11e6-849f-52540010b608', nan), ('Продукты', 'Замороженные продукты', 'Замороженное мясо', 'https://edadeal.ru/lipeck/retailers/magnit-univer?segmentUuid=3b335ed0-6311-11e6-849f-52540010b608&segmentUuid2=3b3360e5-6311-11e6-849f-52540010b608', nan), ('Продукты', 'Консервы', 'Овощные консервы', 'https://edadeal.ru/lipeck/retailers/magnit-univer?segmentUuid=3b3367a8-6311-11e6-849f-52540010b608&segmentUuid2=3b3368d3-6311-11e6-849f-52540010b608', 7), ('Продукты', 'Консервы', 'Рыбные консервы', 'https://edadeal.ru/lipeck/retailers/magnit-univer?segmentUuid=3b3367a8-6311-11e6-849f-52540010b608&segmentUuid2=3b336871-6311-11e6-849f-52540010b608', 4), ('Продукты', 'Консервы', 'Мясные консервы', 'https://edadeal.ru/lipeck/retailers/magnit-univer?segmentUuid=3b3367a8-6311-11e6-849f-52540010b608&segmentUuid2=3b33680e-6311-11e6-849f-52540010b608', 3), ('Продукты', 'Консервы', 'Фруктовые консервы', 'https://edadeal.ru/lipeck/retailers/magnit-univer?segmentUuid=3b3367a8-6311-11e6-849f-52540010b608&segmentUuid2=3b336a42-6311-11e6-849f-52540010b608', nan), ('Продукты', 'Консервы', 'Готовые блюда (консервы)', 'https://edadeal.ru/lipeck/retailers/magnit-univer?segmentUuid=3b3367a8-6311-11e6-849f-52540010b608&segmentUuid2=3b336aa2-6311-11e6-849f-52540010b608', nan), ('Продукты', 'Консервы', 'Грибные консервы', 'https://edadeal.ru/lipeck/retailers/magnit-univer?segmentUuid=3b3367a8-6311-11e6-849f-52540010b608&segmentUuid2=3b3369c8-6311-11e6-849f-52540010b608', nan), ('Продукты', 'Кулинария', 'Готовые салаты', 'https://edadeal.ru/lipeck/retailers/magnit-univer?segmentUuid=3b336afa-6311-11e6-849f-52540010b608&segmentUuid2=3b336b5b-6311-11e6-849f-52540010b608', nan), ('Продукты', 'Кулинария', 'Закуски', 'https://edadeal.ru/lipeck/retailers/magnit-univer?segmentUuid=3b336afa-6311-11e6-849f-52540010b608&segmentUuid2=3b336e40-6311-11e6-849f-52540010b608', nan), ('Продукты', 'Кулинария', 'Горячие блюда', 'https://edadeal.ru/lipeck/retailers/magnit-univer?segmentUuid=3b336afa-6311-11e6-849f-52540010b608&segmentUuid2=3b336d0a-6311-11e6-849f-52540010b608', nan), ('Продукты', 'Напитки', 'Соки, нектары и сокосодержащие напитки', 'https://edadeal.ru/lipeck/retailers/magnit-univer?segmentUuid=3b336f02-6311-11e6-849f-52540010b608&segmentUuid2=3b336f65-6311-11e6-849f-52540010b608', 6), ('Продукты', 'Напитки', 'Вода', 'https://edadeal.ru/lipeck/retailers/magnit-univer?segmentUuid=3b336f02-6311-11e6-849f-52540010b608&segmentUuid2=3b3377c7-6311-11e6-849f-52540010b608', 3), ('Продукты', 'Напитки', 'Газированная вода', 'https://edadeal.ru/lipeck/retailers/magnit-univer?segmentUuid=3b336f02-6311-11e6-849f-52540010b608&segmentUuid2=3b337323-6311-11e6-849f-52540010b608', 4), ('Продукты', 'Напитки', 'Холодный чай', 'https://edadeal.ru/lipeck/retailers/magnit-univer?segmentUuid=3b336f02-6311-11e6-849f-52540010b608&segmentUuid2=3b3375a8-6311-11e6-849f-52540010b608', nan), ('Продукты', 'Напитки', 'Морс, компот, кисель', 'https://edadeal.ru/lipeck/retailers/magnit-univer?segmentUuid=3b336f02-6311-11e6-849f-52540010b608&segmentUuid2=3b337446-6311-11e6-849f-52540010b608', nan), ('Продукты', 'Напитки', 'Квас', 'https://edadeal.ru/lipeck/retailers/magnit-univer?segmentUuid=3b336f02-6311-11e6-849f-52540010b608&segmentUuid2=3b33753b-6311-11e6-849f-52540010b608', nan), ('Алкоголь', 'Пиво и сидр', None, 'https://edadeal.ru/lipeck/retailers/magnit-univer?segmentUuid=3b337881-6311-11e6-849f-52540010b608', 2), ('Алкоголь', 'Слабоалкогольные напитки', None, 'https://edadeal.ru/lipeck/retailers/magnit-univer?segmentUuid=3b337b51-6311-11e6-849f-52540010b608', nan), ('Алкоголь', 'Вино', 'Игристое и шампанское', 'https://edadeal.ru/lipeck/retailers/magnit-univer?segmentUuid=3b337d8a-6311-11e6-849f-52540010b608&segmentUuid2=3b3478c2-6311-11e6-849f-52540010b608', 4), ('Алкоголь', 'Вино', 'Красное', 'https://edadeal.ru/lipeck/retailers/magnit-univer?segmentUuid=3b337d8a-6311-11e6-849f-52540010b608&segmentUuid2=3b347396-6311-11e6-849f-52540010b608', 2), ('Алкоголь', 'Вино', 'Белое', 'https://edadeal.ru/lipeck/retailers/magnit-univer?segmentUuid=3b337d8a-6311-11e6-849f-52540010b608&segmentUuid2=3b347591-6311-11e6-849f-52540010b608', nan), ('Алкоголь', 'Коньяк и бренди', None, 'https://edadeal.ru/lipeck/retailers/magnit-univer?segmentUuid=3b3486a8-6311-11e6-849f-52540010b608', 2), ('Алкоголь', 'Другой алкоголь', 'Настойка', 'https://edadeal.ru/lipeck/retailers/magnit-univer?segmentUuid=3b348954-6311-11e6-849f-52540010b608&segmentUuid2=3b3488f1-6311-11e6-849f-52540010b608', nan), ('Алкоголь', 'Другой алкоголь', 'Ликёр', 'https://edadeal.ru/lipeck/retailers/magnit-univer?segmentUuid=3b348954-6311-11e6-849f-52540010b608&segmentUuid2=3b348acd-6311-11e6-849f-52540010b608', nan), ('Алкоголь', 'Другой алкоголь', 'Текила', 'https://edadeal.ru/lipeck/retailers/magnit-univer?segmentUuid=3b348954-6311-11e6-849f-52540010b608&segmentUuid2=3b348892-6311-11e6-849f-52540010b608', nan), ('Алкоголь', 'Другой алкоголь', 'Бальзам', 'https://edadeal.ru/lipeck/retailers/magnit-univer?segmentUuid=3b348954-6311-11e6-849f-52540010b608&segmentUuid2=3b348b25-6311-11e6-849f-52540010b608', nan), ('Для дома', 'Средства для стирки', 'Жидкое средство для стирки', 'https://edadeal.ru/lipeck/retailers/magnit-univer?segmentUuid=3b35b6bc-6311-11e6-849f-52540010b608&segmentUuid2=3b35bab9-6311-11e6-849f-52540010b608', 2), ('Для дома', 'Средства для стирки', 'Стиральный порошок', 'https://edadeal.ru/lipeck/retailers/magnit-univer?segmentUuid=3b35b6bc-6311-11e6-849f-52540010b608&segmentUuid2=3b35b8b3-6311-11e6-849f-52540010b608', 2), ('Для дома', 'Средства для стирки', 'Ополаскиватель для белья', 'https://edadeal.ru/lipeck/retailers/magnit-univer?segmentUuid=3b35b6bc-6311-11e6-849f-52540010b608&segmentUuid2=3b35be7a-6311-11e6-849f-52540010b608', nan), ('Для дома', 'Средства для стирки', 'Пятновыводитель', 'https://edadeal.ru/lipeck/retailers/magnit-univer?segmentUuid=3b35b6bc-6311-11e6-849f-52540010b608&segmentUuid2=3b35c33e-6311-11e6-849f-52540010b608', nan), ('Для дома', 'Средства для стирки', 'Отбеливатель', 'https://edadeal.ru/lipeck/retailers/magnit-univer?segmentUuid=3b35b6bc-6311-11e6-849f-52540010b608&segmentUuid2=3b35bc53-6311-11e6-849f-52540010b608', nan), ('Для дома', 'Средства для посудомойки', 'Таблетки и капсулы для посудомойки', 'https://edadeal.ru/lipeck/retailers/magnit-univer?segmentUuid=3b35c3c3-6311-11e6-849f-52540010b608&segmentUuid2=3b35c42b-6311-11e6-849f-52540010b608', nan), ('Для дома', 'Средства для посудомойки', 'Жидкое средство для посудомойки', 'https://edadeal.ru/lipeck/retailers/magnit-univer?segmentUuid=3b35c3c3-6311-11e6-849f-52540010b608&segmentUuid2=3b35c4a5-6311-11e6-849f-52540010b608', nan), ('Для дома', 'Средства для посудомойки', 'Порошок для посудомойки', 'https://edadeal.ru/lipeck/retailers/magnit-univer?segmentUuid=3b35c3c3-6311-11e6-849f-52540010b608&segmentUuid2=3b35c508-6311-11e6-849f-52540010b608', nan), ('Для дома', 'Средства для посудомойки', 'Ополаскиватель для посудомойки', 'https://edadeal.ru/lipeck/retailers/magnit-univer?segmentUuid=3b35c3c3-6311-11e6-849f-52540010b608&segmentUuid2=3b35c56b-6311-11e6-849f-52540010b608', nan), ('Для дома', 'Средства для посудомойки', 'Соль для посудомойки', 'https://edadeal.ru/lipeck/retailers/magnit-univer?segmentUuid=3b35c3c3-6311-11e6-849f-52540010b608&segmentUuid2=3b35c5d9-6311-11e6-849f-52540010b608', nan), ('Для дома', 'Уборка и чистота', 'Чистящие средства', 'https://edadeal.ru/lipeck/retailers/magnit-univer?segmentUuid=3b35c687-6311-11e6-849f-52540010b608&segmentUuid2=3b35c73c-6311-11e6-849f-52540010b608', 4), ('Для дома', 'Уборка и чистота', 'Инвентарь для уборки', 'https://edadeal.ru/lipeck/retailers/magnit-univer?segmentUuid=3b35c687-6311-11e6-849f-52540010b608&segmentUuid2=3b35c8e2-6311-11e6-849f-52540010b608', 5), ('Для дома', 'Уборка и чистота', 'Средства для мытья посуды', 'https://edadeal.ru/lipeck/retailers/magnit-univer?segmentUuid=3b35c687-6311-11e6-849f-52540010b608&segmentUuid2=3b35c7cf-6311-11e6-849f-52540010b608', nan), ('Для дома', 'Уборка и чистота', 'Освежители воздуха', 'https://edadeal.ru/lipeck/retailers/magnit-univer?segmentUuid=3b35c687-6311-11e6-849f-52540010b608&segmentUuid2=3b35c859-6311-11e6-849f-52540010b608', 2), ('Для дома', 'Товары для дома', 'Хозяйственные товары', 'https://edadeal.ru/lipeck/retailers/magnit-univer?segmentUuid=3b35c9d9-6311-11e6-849f-52540010b608&segmentUuid2=3b35ccb1-6311-11e6-849f-52540010b608', 5), ('Для дома', 'Товары для дома', 'Хранение вещей', 'https://edadeal.ru/lipeck/retailers/magnit-univer?segmentUuid=3b35c9d9-6311-11e6-849f-52540010b608&segmentUuid2=3b35cc28-6311-11e6-849f-52540010b608', nan), ('Для дома', 'Товары для дома', 'Домашний текстиль', 'https://edadeal.ru/lipeck/retailers/magnit-univer?segmentUuid=3b35c9d9-6311-11e6-849f-52540010b608&segmentUuid2=3b35cb17-6311-11e6-849f-52540010b608', nan), ('Для дома', 'Товары для дома', 'Декор интерьера', 'https://edadeal.ru/lipeck/retailers/magnit-univer?segmentUuid=3b35c9d9-6311-11e6-849f-52540010b608&segmentUuid2=3b35cba4-6311-11e6-849f-52540010b608', nan), ('Для дома', 'Посуда и принадлежности', 'Кухонные принадлежности', 'https://edadeal.ru/lipeck/retailers/magnit-univer?segmentUuid=3b35cd35-6311-11e6-849f-52540010b608&segmentUuid2=3b35cf61-6311-11e6-849f-52540010b608', 5), ('Для дома', 'Посуда и принадлежности', 'Хранение продуктов', 'https://edadeal.ru/lipeck/retailers/magnit-univer?segmentUuid=3b35cd35-6311-11e6-849f-52540010b608&segmentUuid2=3b35cff3-6311-11e6-849f-52540010b608', 3), ('Для дома', 'Посуда и принадлежности', 'Посуда для сервировки стола', 'https://edadeal.ru/lipeck/retailers/magnit-univer?segmentUuid=3b35cd35-6311-11e6-849f-52540010b608&segmentUuid2=3b35cdc1-6311-11e6-849f-52540010b608', 3), ('Для дома', 'Посуда и принадлежности', 'Посуда для приготовления пищи', 'https://edadeal.ru/lipeck/retailers/magnit-univer?segmentUuid=3b35cd35-6311-11e6-849f-52540010b608&segmentUuid2=3b35ce4c-6311-11e6-849f-52540010b608', 2), ('Для дома', 'Посуда и принадлежности', 'Одноразовая посуда', 'https://edadeal.ru/lipeck/retailers/magnit-univer?segmentUuid=3b35cd35-6311-11e6-849f-52540010b608&segmentUuid2=3b35cedb-6311-11e6-849f-52540010b608', nan), ('Для дома', 'Творчество, хобби, развлечения', 'Сувениры', 'https://edadeal.ru/lipeck/retailers/magnit-univer?segmentUuid=3b35d07f-6311-11e6-849f-52540010b608&segmentUuid2=3b35d442-6311-11e6-849f-52540010b608', nan), ('Для дома', 'Творчество, хобби, развлечения', 'Товары для творчества', 'https://edadeal.ru/lipeck/retailers/magnit-univer?segmentUuid=3b35d07f-6311-11e6-849f-52540010b608&segmentUuid2=3b35d3db-6311-11e6-849f-52540010b608', nan), ('Косметика и гигиена', 'Косметика для ухода', 'Для тела', 'https://edadeal.ru/lipeck/retailers/magnit-univer?segmentUuid=3b36da27-6311-11e6-849f-52540010b608&segmentUuid2=3b36dd8c-6311-11e6-849f-52540010b608', 4), ('Косметика и гигиена', 'Косметика для ухода', 'Для лица', 'https://edadeal.ru/lipeck/retailers/magnit-univer?segmentUuid=3b36da27-6311-11e6-849f-52540010b608&segmentUuid2=3b36dbb2-6311-11e6-849f-52540010b608', 3), ('Косметика и гигиена', 'Косметика для ухода', 'Для рук', 'https://edadeal.ru/lipeck/retailers/magnit-univer?segmentUuid=3b36da27-6311-11e6-849f-52540010b608&segmentUuid2=3b36e5b4-6311-11e6-849f-52540010b608', nan), ('Косметика и гигиена', 'Косметика для ухода', 'Для век', 'https://edadeal.ru/lipeck/retailers/magnit-univer?segmentUuid=3b36da27-6311-11e6-849f-52540010b608&segmentUuid2=3b36df50-6311-11e6-849f-52540010b608', nan), ('Косметика и гигиена', 'Косметика для ухода', 'Для ног', 'https://edadeal.ru/lipeck/retailers/magnit-univer?segmentUuid=3b36da27-6311-11e6-849f-52540010b608&segmentUuid2=3b36e0fb-6311-11e6-849f-52540010b608', nan), ('Косметика и гигиена', 'Косметика для ухода', 'Для депиляции', 'https://edadeal.ru/lipeck/retailers/magnit-univer?segmentUuid=3b36da27-6311-11e6-849f-52540010b608&segmentUuid2=3b37061b-6311-11e6-849f-52540010b608', nan), ('Косметика и гигиена', 'Уход за волосами', 'Шампунь', 'https://edadeal.ru/lipeck/retailers/magnit-univer?segmentUuid=3b35e364-6311-11e6-849f-52540010b608&segmentUuid2=3b35e3ed-6311-11e6-849f-52540010b608', 3), ('Косметика и гигиена', 'Уход за волосами', 'Бальзам', 'https://edadeal.ru/lipeck/retailers/magnit-univer?segmentUuid=3b35e364-6311-11e6-849f-52540010b608&segmentUuid2=3b35e44a-6311-11e6-849f-52540010b608', nan), ('Косметика и гигиена', 'Уход за волосами', 'Маска', 'https://edadeal.ru/lipeck/retailers/magnit-univer?segmentUuid=3b35e364-6311-11e6-849f-52540010b608&segmentUuid2=3b35e5d6-6311-11e6-849f-52540010b608', nan), ('Косметика и гигиена', 'Уход за волосами', 'Краска', 'https://edadeal.ru/lipeck/retailers/magnit-univer?segmentUuid=3b35e364-6311-11e6-849f-52540010b608&segmentUuid2=3b35e63f-6311-11e6-849f-52540010b608', nan), ('Косметика и гигиена', 'Декоративная Косметика', 'Для лица', 'https://edadeal.ru/lipeck/retailers/magnit-univer?segmentUuid=3b35ea79-6311-11e6-849f-52540010b608&segmentUuid2=3b36d64f-6311-11e6-849f-52540010b608', nan), ('Косметика и гигиена', 'Декоративная Косметика', 'Для ногтей', 'https://edadeal.ru/lipeck/retailers/magnit-univer?segmentUuid=3b35ea79-6311-11e6-849f-52540010b608&segmentUuid2=3b36d806-6311-11e6-849f-52540010b608', nan), ('Косметика и гигиена', 'Уход за полостью рта', 'Зубная паста', 'https://edadeal.ru/lipeck/retailers/magnit-univer?segmentUuid=3b35deb2-6311-11e6-849f-52540010b608&segmentUuid2=3b35e09e-6311-11e6-849f-52540010b608', 4), ('Косметика и гигиена', 'Уход за полостью рта', 'Зубная щётка', 'https://edadeal.ru/lipeck/retailers/magnit-univer?segmentUuid=3b35deb2-6311-11e6-849f-52540010b608&segmentUuid2=3b35e171-6311-11e6-849f-52540010b608', 2), ('Косметика и гигиена', 'Уход за полостью рта', 'Ополаскиватель', 'https://edadeal.ru/lipeck/retailers/magnit-univer?segmentUuid=3b35deb2-6311-11e6-849f-52540010b608&segmentUuid2=3b35e108-6311-11e6-849f-52540010b608', nan), ('Косметика и гигиена', 'Уход за полостью рта', 'Зубная нить', 'https://edadeal.ru/lipeck/retailers/magnit-univer?segmentUuid=3b35deb2-6311-11e6-849f-52540010b608&segmentUuid2=3b35e1d0-6311-11e6-849f-52540010b608', nan), ('Косметика и гигиена', 'Мыло', 'Жидкое', 'https://edadeal.ru/lipeck/retailers/magnit-univer?segmentUuid=3b35dd0e-6311-11e6-849f-52540010b608&segmentUuid2=3b35ddeb-6311-11e6-849f-52540010b608', nan), ('Косметика и гигиена', 'Мыло', 'Твердое', 'https://edadeal.ru/lipeck/retailers/magnit-univer?segmentUuid=3b35dd0e-6311-11e6-849f-52540010b608&segmentUuid2=3b35dd81-6311-11e6-849f-52540010b608', nan), ('Косметика и гигиена', 'Мыло', 'Хозяйственное', 'https://edadeal.ru/lipeck/retailers/magnit-univer?segmentUuid=3b35dd0e-6311-11e6-849f-52540010b608&segmentUuid2=3b35de4d-6311-11e6-849f-52540010b608', nan), ('Косметика и гигиена', 'Гигиенические принадлежности', 'Прокладки ежедневные', 'https://edadeal.ru/lipeck/retailers/magnit-univer?segmentUuid=3b36ea44-6311-11e6-849f-52540010b608&segmentUuid2=3b36eb8a-6311-11e6-849f-52540010b608', nan), ('Косметика и гигиена', 'Гигиенические принадлежности', 'Прокладки', 'https://edadeal.ru/lipeck/retailers/magnit-univer?segmentUuid=3b36ea44-6311-11e6-849f-52540010b608&segmentUuid2=3b36eb2a-6311-11e6-849f-52540010b608', nan), ('Косметика и гигиена', 'Гигиенические принадлежности', 'Тампоны', 'https://edadeal.ru/lipeck/retailers/magnit-univer?segmentUuid=3b36ea44-6311-11e6-849f-52540010b608&segmentUuid2=3b36eac5-6311-11e6-849f-52540010b608', nan), ('Косметика и гигиена', 'Бумажные и ватные изделия', 'Туалетная бумага', 'https://edadeal.ru/lipeck/retailers/magnit-univer?segmentUuid=3b35d9fe-6311-11e6-849f-52540010b608&segmentUuid2=3b35da5e-6311-11e6-849f-52540010b608', 2), ('Косметика и гигиена', 'Бумажные и ватные изделия', 'Бумажные полотенца и салфетки', 'https://edadeal.ru/lipeck/retailers/magnit-univer?segmentUuid=3b35d9fe-6311-11e6-849f-52540010b608&segmentUuid2=3b35dac4-6311-11e6-849f-52540010b608', nan), ('Косметика и гигиена', 'Бумажные и ватные изделия', 'Ватные диски и палочки', 'https://edadeal.ru/lipeck/retailers/magnit-univer?segmentUuid=3b35d9fe-6311-11e6-849f-52540010b608&segmentUuid2=3b35db25-6311-11e6-849f-52540010b608', nan), ('Косметика и гигиена', 'Косметика для мужчин', 'Шампуни и гели', 'https://edadeal.ru/lipeck/retailers/magnit-univer?segmentUuid=3b35e699-6311-11e6-849f-52540010b608&segmentUuid2=3b35e824-6311-11e6-849f-52540010b608', 2), ('Косметика и гигиена', 'Косметика для мужчин', 'Для бритья', 'https://edadeal.ru/lipeck/retailers/magnit-univer?segmentUuid=3b35e699-6311-11e6-849f-52540010b608&segmentUuid2=3b35e892-6311-11e6-849f-52540010b608', 3), ('Косметика и гигиена', 'Косметика для мужчин', 'Дезодоранты', 'https://edadeal.ru/lipeck/retailers/magnit-univer?segmentUuid=3b35e699-6311-11e6-849f-52540010b608&segmentUuid2=3b35ea19-6311-11e6-849f-52540010b608', nan), ('Косметика и гигиена', 'Бижутерия и аксессуары', None, 'https://edadeal.ru/lipeck/retailers/magnit-univer?segmentUuid=3b36e831-6311-11e6-849f-52540010b608', nan), ('Для детей', 'Детское питание', 'Детские соки, морсы, компоты', 'https://edadeal.ru/lipeck/retailers/magnit-univer?segmentUuid=3b348bf6-6311-11e6-849f-52540010b608&segmentUuid2=3b348ea4-6311-11e6-849f-52540010b608', 2), ('Для детей', 'Детское питание', 'Кисломолочное', 'https://edadeal.ru/lipeck/retailers/magnit-univer?segmentUuid=3b348bf6-6311-11e6-849f-52540010b608&segmentUuid2=3b348cd4-6311-11e6-849f-52540010b608', nan), ('Для детей', 'Детское питание', 'Каши', 'https://edadeal.ru/lipeck/retailers/magnit-univer?segmentUuid=3b348bf6-6311-11e6-849f-52540010b608&segmentUuid2=3b348f65-6311-11e6-849f-52540010b608', nan), ('Для детей', 'Детское питание', 'Молочное', 'https://edadeal.ru/lipeck/retailers/magnit-univer?segmentUuid=3b348bf6-6311-11e6-849f-52540010b608&segmentUuid2=3b348c57-6311-11e6-849f-52540010b608', nan), ('Для детей', 'Детское питание', 'Детская бакалея', 'https://edadeal.ru/lipeck/retailers/magnit-univer?segmentUuid=3b348bf6-6311-11e6-849f-52540010b608&segmentUuid2=3b348fc3-6311-11e6-849f-52540010b608', nan), ('Для детей', 'Детское питание', 'Пюре фруктовые', 'https://edadeal.ru/lipeck/retailers/magnit-univer?segmentUuid=3b348bf6-6311-11e6-849f-52540010b608&segmentUuid2=3b348de5-6311-11e6-849f-52540010b608', nan), ('Для детей', 'Детское питание', 'Детское печенье', 'https://edadeal.ru/lipeck/retailers/magnit-univer?segmentUuid=3b348bf6-6311-11e6-849f-52540010b608&segmentUuid2=3b348e47-6311-11e6-849f-52540010b608', nan), ('Для детей', 'Подгузники, пеленки, салфетки', 'Трусики-подгузники', 'https://edadeal.ru/lipeck/retailers/magnit-univer?segmentUuid=3b349023-6311-11e6-849f-52540010b608&segmentUuid2=3b3490de-6311-11e6-849f-52540010b608', 2), ('Для детей', 'Подгузники, пеленки, салфетки', 'Подгузники', 'https://edadeal.ru/lipeck/retailers/magnit-univer?segmentUuid=3b349023-6311-11e6-849f-52540010b608&segmentUuid2=3b349085-6311-11e6-849f-52540010b608', 2), ('Для детей', 'Подгузники, пеленки, салфетки', 'Влажные салфетки', 'https://edadeal.ru/lipeck/retailers/magnit-univer?segmentUuid=3b349023-6311-11e6-849f-52540010b608&segmentUuid2=3b349339-6311-11e6-849f-52540010b608', nan), ('Для детей', 'Товары для младенцев', 'Детская посуда', 'https://edadeal.ru/lipeck/retailers/magnit-univer?segmentUuid=3b349409-6311-11e6-849f-52540010b608&segmentUuid2=3b349532-6311-11e6-849f-52540010b608', nan), ('Для детей', 'Товары для младенцев', 'Бутылочки', 'https://edadeal.ru/lipeck/retailers/magnit-univer?segmentUuid=3b349409-6311-11e6-849f-52540010b608&segmentUuid2=3b3494c0-6311-11e6-849f-52540010b608', nan), ('Для детей', 'Товары для младенцев', 'Средства для купания младенцев', 'https://edadeal.ru/lipeck/retailers/magnit-univer?segmentUuid=3b349409-6311-11e6-849f-52540010b608&segmentUuid2=3b3497d0-6311-11e6-849f-52540010b608', nan), ('Для детей', 'Товары для младенцев', 'Пустышки', 'https://edadeal.ru/lipeck/retailers/magnit-univer?segmentUuid=3b349409-6311-11e6-849f-52540010b608&segmentUuid2=3b349465-6311-11e6-849f-52540010b608', nan), ('Для детей', 'Игрушки', 'Наборы для творчества', 'https://edadeal.ru/lipeck/retailers/magnit-univer?segmentUuid=3b349e0f-6311-11e6-849f-52540010b608&segmentUuid2=3b370547-6311-11e6-849f-52540010b608', nan), ('Для детей', 'Игрушки', 'Игровые наборы', 'https://edadeal.ru/lipeck/retailers/magnit-univer?segmentUuid=3b349e0f-6311-11e6-849f-52540010b608&segmentUuid2=3b349f97-6311-11e6-849f-52540010b608', nan), ('Для детей', 'Игрушки', 'Игры настольные', 'https://edadeal.ru/lipeck/retailers/magnit-univer?segmentUuid=3b349e0f-6311-11e6-849f-52540010b608&segmentUuid2=3b349ff4-6311-11e6-849f-52540010b608', nan), ('Для детей', 'Игрушки', 'Игрушки для младенцев', 'https://edadeal.ru/lipeck/retailers/magnit-univer?segmentUuid=3b349e0f-6311-11e6-849f-52540010b608&segmentUuid2=3b349e75-6311-11e6-849f-52540010b608', nan), ('Для детей', 'Для праздника', None, 'https://edadeal.ru/lipeck/retailers/magnit-univer?segmentUuid=3b34a127-6311-11e6-849f-52540010b608', 2), ('Для детей', 'Детская косметика', 'Средства для купания', 'https://edadeal.ru/lipeck/retailers/magnit-univer?segmentUuid=3b34adf1-6311-11e6-849f-52540010b608&segmentUuid2=3b34b016-6311-11e6-849f-52540010b608', nan), ('Для детей', 'Детская косметика', 'Шампунь для детей', 'https://edadeal.ru/lipeck/retailers/magnit-univer?segmentUuid=3b34adf1-6311-11e6-849f-52540010b608&segmentUuid2=3b34ae78-6311-11e6-849f-52540010b608', nan), ('Для детей', 'Детская косметика', 'Крем и масло', 'https://edadeal.ru/lipeck/retailers/magnit-univer?segmentUuid=3b34adf1-6311-11e6-849f-52540010b608&segmentUuid2=3b34b073-6311-11e6-849f-52540010b608', nan), ('Зоотовары', 'Ветаптека', None, 'https://edadeal.ru/lipeck/retailers/magnit-univer?segmentUuid=0448dd53-90b3-5ae1-a8f7-e8ea0f64925b', nan), ('Канцтовары', 'Для школы и офиса', None, 'https://edadeal.ru/lipeck/retailers/magnit-univer?segmentUuid=3b36fdcc-6311-11e6-849f-52540010b608', 3), ('Авто', 'Автохимия и автокосметика', 'Ароматизаторы салона', 'https://edadeal.ru/lipeck/retailers/magnit-univer?segmentUuid=8b9a1429-122b-5a3d-892d-f34adaeb088a&segmentUuid2=e7b7c098-aaaa-5182-a58e-4ba3002c1800', nan), ('Авто', 'Автохимия и автокосметика', 'Уход за салоном', 'https://edadeal.ru/lipeck/retailers/magnit-univer?segmentUuid=8b9a1429-122b-5a3d-892d-f34adaeb088a&segmentUuid2=69b8f210-7ac3-5161-b8e9-6f98680607b9', nan), ('Авто', 'Автохимия и автокосметика', 'Уход за стеклами и фарами', 'https://edadeal.ru/lipeck/retailers/magnit-univer?segmentUuid=8b9a1429-122b-5a3d-892d-f34adaeb088a&segmentUuid2=a06394a6-c44a-5f29-adcc-ac84cd77003f', nan), ('Авто', 'Автохимия и автокосметика', 'Уход за шинами и дисками', 'https://edadeal.ru/lipeck/retailers/magnit-univer?segmentUuid=8b9a1429-122b-5a3d-892d-f34adaeb088a&segmentUuid2=c8492458-0a56-5521-ae4d-d831fd0011bf', nan), ('Авто', 'Аксессуары и оборудование', None, 'https://edadeal.ru/lipeck/retailers/magnit-univer?segmentUuid=26288c88-9744-51e3-9eff-91ea2fff2fd6', nan), ('Авто', 'Масла и технические жидкости', None, 'https://edadeal.ru/lipeck/retailers/magnit-univer?segmentUuid=7a0116a2-9c1f-58f2-9dc2-17b7a6375ed7', nan), ('Авто', 'Электроника', 'Ароматизаторы салона', 'https://edadeal.ru/lipeck/retailers/magnit-univer?segmentUuid=a834d8a2-25a0-538d-9b73-fcf9d89368ac&segmentUuid2=e7b7c098-aaaa-5182-a58e-4ba3002c1800', nan), ('Авто', 'Электроника', 'Уход за салоном', 'https://edadeal.ru/lipeck/retailers/magnit-univer?segmentUuid=a834d8a2-25a0-538d-9b73-fcf9d89368ac&segmentUuid2=69b8f210-7ac3-5161-b8e9-6f98680607b9', nan), ('Авто', 'Электроника', 'Уход за стеклами и фарами', 'https://edadeal.ru/lipeck/retailers/magnit-univer?segmentUuid=a834d8a2-25a0-538d-9b73-fcf9d89368ac&segmentUuid2=a06394a6-c44a-5f29-adcc-ac84cd77003f', nan), ('Авто', 'Электроника', 'Инвентарь для ухода', 'https://edadeal.ru/lipeck/retailers/magnit-univer?segmentUuid=a834d8a2-25a0-538d-9b73-fcf9d89368ac&segmentUuid2=9b5a67d3-7359-56f4-985e-d4f6a6504e25', nan), ('Авто', 'Электроника', 'Разветвители прикуривателя', 'https://edadeal.ru/lipeck/retailers/magnit-univer?segmentUuid=a834d8a2-25a0-538d-9b73-fcf9d89368ac&segmentUuid2=06213cf1-b8b9-5871-bbbd-54a45e46696f', nan), ('Авто', 'Электроника', 'Смазки', 'https://edadeal.ru/lipeck/retailers/magnit-univer?segmentUuid=a834d8a2-25a0-538d-9b73-fcf9d89368ac&segmentUuid2=96cb207e-8982-5c92-94b8-e0fe18e3521b', nan), ('Авто', 'Электроника', 'Уход за шинами и дисками', 'https://edadeal.ru/lipeck/retailers/magnit-univer?segmentUuid=a834d8a2-25a0-538d-9b73-fcf9d89368ac&segmentUuid2=c8492458-0a56-5521-ae4d-d831fd0011bf', nan), ('Книги', 'Детская литература', None, 'https://edadeal.ru/lipeck/retailers/magnit-univer?segmentUuid=0336dcc2-b2c1-5428-8bb1-9c1905631132', nan), ('Компьютерная техника', 'Аксессуары', None, 'https://edadeal.ru/lipeck/retailers/magnit-univer?segmentUuid=28c3411b-5aae-5e7c-9e39-dfeec4b98849', nan), ('Компьютерная техника', 'Расходные материалы', None, 'https://edadeal.ru/lipeck/retailers/magnit-univer?segmentUuid=d396d7f5-30e7-515b-a113-442f10b00b51', nan), ('Спорт и отдых', 'Туризм и отдых на природе', 'Рюкзаки', 'https://edadeal.ru/lipeck/retailers/magnit-univer?segmentUuid=dceaa601-5ae7-59cf-9c30-c51b49096ae2&segmentUuid2=77f40a0a-6dbd-57e8-88c1-067f23503fb3', nan), ('Спорт и отдых', 'Туризм и отдых на природе', 'Коврики', 'https://edadeal.ru/lipeck/retailers/magnit-univer?segmentUuid=dceaa601-5ae7-59cf-9c30-c51b49096ae2&segmentUuid2=822427bc-c030-5c8c-8bdf-f7d7be1c2ad3', nan), ('Спорт и отдых', 'Водный спорт', None, 'https://edadeal.ru/lipeck/retailers/magnit-univer?segmentUuid=090e7c7d-64e8-5c28-863a-9006deccde1f', nan), ('Спорт и отдых', 'Тренажеры и фитнес', None, 'https://edadeal.ru/lipeck/retailers/magnit-univer?segmentUuid=966f90dd-a134-52e1-865d-0369c3d34be7', nan), ('Строительство и ремонт', 'Электрика', None, 'https://edadeal.ru/lipeck/retailers/magnit-univer?segmentUuid=080ddd82-8625-520f-86d2-202090783ff2', nan), ('Строительство и ремонт', 'Инструменты', None, 'https://edadeal.ru/lipeck/retailers/magnit-univer?segmentUuid=47c3d30e-3d28-557c-932d-8beedf71c61c', nan), ('Строительство и ремонт', 'Материалы', None, 'https://edadeal.ru/lipeck/retailers/magnit-univer?segmentUuid=2139e9da-1068-577f-b924-6434e4ad8eec', nan), ('Строительство и ремонт', 'Водоснабжение', 'Фильтры для воды и комплектующие', 'https://edadeal.ru/lipeck/retailers/magnit-univer?segmentUuid=8661671b-e58c-5ad9-b47a-caa7b18b1e06&segmentUuid2=e9e1012b-89d0-59b0-a56f-12644f67cb2f', nan), ('Строительство и ремонт', 'Водоснабжение', 'Инструменты для прочистки труб', 'https://edadeal.ru/lipeck/retailers/magnit-univer?segmentUuid=8661671b-e58c-5ad9-b47a-caa7b18b1e06&segmentUuid2=1a8d90cb-6923-5dfd-81a6-ba98e11d0bf0', nan), ('Дача, сад и огород', 'Пикник, барбекю, гриль', 'Решетки', 'https://edadeal.ru/lipeck/retailers/magnit-univer?segmentUuid=33ed7280-5e83-5343-ae95-5f2098376640&segmentUuid2=98295d75-c0b3-5b17-b3f2-38a1297e95bb', nan), ('Дача, сад и огород', 'Пикник, барбекю, гриль', 'Дрова', 'https://edadeal.ru/lipeck/retailers/magnit-univer?segmentUuid=33ed7280-5e83-5343-ae95-5f2098376640&segmentUuid2=4bc8ac69-d138-5a51-9e87-193a689d0894', nan), ('Дача, сад и огород', 'Садовый инвентарь и инструменты', 'Инструменты для обработки почвы', 'https://edadeal.ru/lipeck/retailers/magnit-univer?segmentUuid=12fa8dc4-b388-53ce-a353-69fed233db1c&segmentUuid2=03f0606a-5f4e-5121-8986-60e00c5147e2', nan), ('Дача, сад и огород', 'Садовый инвентарь и инструменты', 'Грабли', 'https://edadeal.ru/lipeck/retailers/magnit-univer?segmentUuid=12fa8dc4-b388-53ce-a353-69fed233db1c&segmentUuid2=5c2cfe54-3bcb-56b7-b879-728f477ae85b', nan), ('Дача, сад и огород', 'Садовый инвентарь и инструменты', 'Ручные секаторы, высоторезы, сучкорезы', 'https://edadeal.ru/lipeck/retailers/magnit-univer?segmentUuid=12fa8dc4-b388-53ce-a353-69fed233db1c&segmentUuid2=21202b1e-b385-5b25-b6d9-d434e1edaace', nan), ('Дача, сад и огород', 'Удобрения и уход за растениями', 'Субстраты, грунты, мульча', 'https://edadeal.ru/lipeck/retailers/magnit-univer?segmentUuid=5d23d9e7-30c1-5013-a9c3-7fffe8a963d0&segmentUuid2=d50b19a5-0651-5087-a7b1-890fa0627f1b', nan), ('Дача, сад и огород', 'Удобрения и уход за растениями', 'Шпалеры и опоры для растений', 'https://edadeal.ru/lipeck/retailers/magnit-univer?segmentUuid=5d23d9e7-30c1-5013-a9c3-7fffe8a963d0&segmentUuid2=1b9308c0-95a9-5195-9733-c5d081cd7acc', nan), ('Дача, сад и огород', 'Удобрения и уход за растениями', 'Аксессуары для полива', 'https://edadeal.ru/lipeck/retailers/magnit-univer?segmentUuid=5d23d9e7-30c1-5013-a9c3-7fffe8a963d0&segmentUuid2=a56a1402-0a81-551a-b2c9-17d98d0840a4', nan), ('Дача, сад и огород', 'Семена и саженцы', None, 'https://edadeal.ru/lipeck/retailers/magnit-univer?segmentUuid=414f1d55-6fc9-5721-af95-0c8e353908f7', 2), ('Бытовая техника', 'Техника для дома', 'Техника для ухода за одеждой', 'https://edadeal.ru/lipeck/retailers/magnit-univer?segmentUuid=1b8cfb50-a969-5916-aa1d-6bb95e64a19d&segmentUuid2=b90d3bb6-192d-5089-bb39-3d47283a15cf', nan), ('Бытовая техника', 'Техника для дома', 'Техника для уборки', 'https://edadeal.ru/lipeck/retailers/magnit-univer?segmentUuid=1b8cfb50-a969-5916-aa1d-6bb95e64a19d&segmentUuid2=349af350-65af-51d9-8469-0df1abbefa49', nan), ('Бытовая техника', 'Климатическая техника', None, 'https://edadeal.ru/lipeck/retailers/magnit-univer?segmentUuid=dbfa63df-49e3-5d63-ba2e-3507c52cb1f0', nan), ('Бытовая техника', 'Мелкая техника для кухни', None, 'https://edadeal.ru/lipeck/retailers/magnit-univer?segmentUuid=8903c83b-8001-5157-bb31-2e7e7e56d64e', nan), ('Бытовая техника', 'Техника для красоты', 'Фены и фен-щётки', 'https://edadeal.ru/lipeck/retailers/magnit-univer?segmentUuid=7fc6a35d-b495-5450-89cf-9d8ca8423231&segmentUuid2=0e4313b7-0699-5435-b596-6304dca7c6c5', nan), ('Бытовая техника', 'Техника для красоты', 'Напольные весы', 'https://edadeal.ru/lipeck/retailers/magnit-univer?segmentUuid=7fc6a35d-b495-5450-89cf-9d8ca8423231&segmentUuid2=ec525e87-04e9-571e-8bf0-f1841b3bcc21', nan), ('Электроника', 'Телефоны', None, 'https://edadeal.ru/lipeck/retailers/magnit-univer?segmentUuid=cb3e532c-c528-584c-b6f0-aae1f2acb0e8', nan), ('Электроника', 'Портативная техника', 'Наушники и Bluetooth-гарнитуры', 'https://edadeal.ru/lipeck/retailers/magnit-univer?segmentUuid=6cbe4132-f65f-5473-8ef1-a9370447da3f&segmentUuid2=8290673a-f987-58bd-b48c-64806f6ca163', nan), ('Электроника', 'Портативная техника', 'Аксессуары для наушников и гарнитур', 'https://edadeal.ru/lipeck/retailers/magnit-univer?segmentUuid=6cbe4132-f65f-5473-8ef1-a9370447da3f&segmentUuid2=db81eb26-fe0a-58d3-86de-25a751d5fe52', nan), ('Электроника', 'Аудио- и видеотехника', None, 'https://edadeal.ru/lipeck/retailers/magnit-univer?segmentUuid=2faf15ce-df3e-5dc8-b85c-956ab83d1e40', nan), ('Одежда, обувь и аксессуары', 'Женская одежда', None, 'https://edadeal.ru/lipeck/retailers/magnit-univer?segmentUuid=81af0e92-649a-5373-8f60-7ac534810eb6', 5), ('Одежда, обувь и аксессуары', 'Мужская одежда', None, 'https://edadeal.ru/lipeck/retailers/magnit-univer?segmentUuid=c0ba9be3-b98e-5f49-bfbc-ddb03d70dbed', 2), ('Одежда, обувь и аксессуары', 'Детская одежда', 'Носки и колготки', 'https://edadeal.ru/lipeck/retailers/magnit-univer?segmentUuid=92b426a1-2691-5c48-8b62-983b014421b9&segmentUuid2=6a80fe92-26de-55c7-84d4-07bf2ffa07e7', 2), ('Одежда, обувь и аксессуары', 'Детская одежда', 'Для девочек', 'https://edadeal.ru/lipeck/retailers/magnit-univer?segmentUuid=92b426a1-2691-5c48-8b62-983b014421b9&segmentUuid2=d3be546b-a063-5b62-8a16-34338391a4f4', nan), ('Одежда, обувь и аксессуары', 'Аксессуары', 'Сумки и чемоданы', 'https://edadeal.ru/lipeck/retailers/magnit-univer?segmentUuid=cfbd1372-caf7-5e2e-b1a3-479ffbdc09f9&segmentUuid2=03c4e119-4fab-5e98-821f-a349fd549eee', nan), ('Одежда, обувь и аксессуары', 'Аксессуары', 'Брелоки и ключницы', 'https://edadeal.ru/lipeck/retailers/magnit-univer?segmentUuid=cfbd1372-caf7-5e2e-b1a3-479ffbdc09f9&segmentUuid2=4b7c1c7e-f134-5def-b76a-ffd0de01ea7e', nan), ('Одежда, обувь и аксессуары', 'Обувь', None, 'https://edadeal.ru/lipeck/retailers/magnit-univer?segmentUuid=ddeb4c82-94fd-5a42-8886-8c342623fcdf', nan), ('Товары для здоровья', 'Медицинские материалы', None, 'https://edadeal.ru/lipeck/retailers/magnit-univer?segmentUuid=805e6283-0619-5447-8f3c-28594d468b5e', nan), ('Товары для здоровья', 'Лекарственные препараты и БАД', None, 'https://edadeal.ru/lipeck/retailers/magnit-univer?segmentUuid=a211ab9e-9275-5677-b276-4eb38fff72ca', nan)]\n"
     ]
    }
   ],
   "source": [
    "def _check_load_page(driver: webdriver.Chrome, item: market_link, timeout: int=20) -> bool:\n",
    "    \"\"\"\n",
    "       Проверка наличия названия продукта в ячейке\n",
    "    \"\"\"\n",
    "    time_start = int(time())\n",
    "    while (int(time()) - time_start) < timeout:\n",
    "        page = BS(driver.page_source, 'lxml')\n",
    "\n",
    "        try:\n",
    "        # Дожидаемся когда загрузится информация о первом товаре на странице\n",
    "            f1 = page.find('div', {'data-test-ref':'grid'})\n",
    "            f2 = f1.find('div').find_all('div', {'data-test-ref':'b-srch-card'})\n",
    "            f2[0].find('div', class_='b-srch-card__title').get_text(strip=True)\n",
    "        except IndexError as ex:\n",
    "            continue\n",
    "        except Exception as ex:\n",
    "            short_logger.critical(f\"checking the product name, other exception, {ex}: {item.title} :: {item.page_href}\")\n",
    "            long_logger.critical(f\"checking the product name, other exception, {ex}: {item.title} :: {item.page_href}\", exc_info=True)\n",
    "        else:\n",
    "            return True\n",
    "    return False\n",
    "\n",
    "\n",
    "\n",
    "def _check_alcohol(driver: webdriver.Chrome, item: market_link, timeout: int=20) -> bool:\n",
    "    wait = WebDriverWait(\n",
    "        driver,\n",
    "        timeout=timeout,\n",
    "        poll_frequency=1\n",
    "        )\n",
    "\n",
    "    try:\n",
    "        # Ожидаем появляение кнопки, если она не повится, то ничего не делаем.\n",
    "        print('alcohol')\n",
    "        button = driver.find_element(By.XPATH, \"//div[contains(text(), 'Да. Мне есть 18')]\")\n",
    "        button.click()\n",
    "        return True\n",
    "    except TimeoutException:\n",
    "        short_logger.info(f'alcochol timeout: {item.title} :: {item.page_href}')\n",
    "    except ElementNotInteractableException:\n",
    "        short_logger.warning(f'alcochol not button: {item.title} :: {item.page_href}')\n",
    "    except Exception as ex:\n",
    "        short_logger.error(f'alcochol other: {ex} :: {item.title} :: {item.page_href}')\n",
    "        long_logger.error(f'alcochol other: {ex} :: {item.title} :: {item.page_href}', exc_info=True)\n",
    "    finally:\n",
    "        return False\n",
    "\n",
    "\n",
    "        \n",
    "\n",
    "out_list = list()\n",
    "\n",
    "el1 = (driver\n",
    "      .find_element(By.CSS_SELECTOR, '.p-dsk-srch-retailer__body')\n",
    "      .find_element(By.CSS_SELECTOR, '.p-dsk-srch-retailer__sidebar-container')\n",
    "      .find_element(By.CSS_SELECTOR, '.i-block-helper')\n",
    "      .find_element(By.CSS_SELECTOR, '.b-dsk-srch-cats-tree__node')\n",
    "      .find_elements(By.XPATH, \"following-sibling::*\")\n",
    "      )\n",
    "\n",
    "for el in el1:\n",
    "        time_sleep(0.2)\n",
    "        el2 = (el\n",
    "               .find_element(By.XPATH, './/div[contains(@class, \"b-dsk-srch-cats-tree__item-wrapper\")]/button')\n",
    "              )\n",
    "        el2.click()\n",
    "        time_sleep(0.2)\n",
    "        su1 = el2.text\n",
    "        if su1 == 'Алкоголь':\n",
    "            # Проверка на Алкоголь\n",
    "            for _ in range(10):\n",
    "                try:\n",
    "                    driver.find_element(By.XPATH, '//div[contains(text(), \"Да. Мне есть 18\")]/ancestor::button').click()\n",
    "                except NoSuchElementException:\n",
    "                    break\n",
    "                except ElementNotInteractableException:\n",
    "                    time_sleep(0.2)\n",
    "                    continue\n",
    "                else:\n",
    "                    break\n",
    "                \n",
    "        if (_check_load_page(driver, market)):\n",
    "            # print(su1)\n",
    "            el3 = (el\n",
    "                .find_element(By.XPATH, './/div[contains(@class, \"b-dsk-srch-cats-tree__children\")]/div[contains(@class, \"i-block-helper\")]')\n",
    "                .find_elements(By.XPATH, './/div[contains(@class, \"b-dsk-srch-cats-tree__node\")]//button')\n",
    "                )\n",
    "\n",
    "        for item in el3:\n",
    "            item.click()\n",
    "            time_sleep(0.2)\n",
    "            item.send_keys(Keys.ARROW_DOWN)\n",
    "            # item.send_keys(Keys.ARROW_DOWN)\n",
    "            if (_check_load_page(driver, market)):\n",
    "                su2 = item.text\n",
    "                \n",
    "                # Пробуем перелистнуть следующие категории\n",
    "                su3_list = driver.find_elements(By.XPATH, '//li[contains(@class, \"b-dsk-srch-cats-list__item\")]')\n",
    "                for cat in su3_list[1:]:\n",
    "                    break_out = False\n",
    "                    if (_check_load_page(driver, market)):\n",
    "                        for _ in range(10):\n",
    "                            try:\n",
    "                                cat.click()\n",
    "                            except ElementNotInteractableException:\n",
    "                                su3 = None\n",
    "                                break_out = True\n",
    "                                break\n",
    "                            except ElementClickInterceptedException:\n",
    "                                time_sleep(0.2)\n",
    "                                continue\n",
    "                        \n",
    "                        if break_out:\n",
    "                            break\n",
    "                        time_sleep(0.2)\n",
    "                        su3 = cat.text\n",
    "                        # получить ссылку на страницу\n",
    "                        href = driver.current_url\n",
    "                        # Получить количество страниц\n",
    "                        for _ in range(10):\n",
    "                            try:\n",
    "                                pagin = int(driver.find_elements(by=By.XPATH, value='//nav[starts-with(@aria-label, \"Постраничная навигация\")]//a[contains(@class, \"b-dsk-paginator__item\")]/following-sibling::*')[-2].text)\n",
    "                            except IndexError:\n",
    "                                pagin = np.nan\n",
    "                                break\n",
    "                            except StaleElementReferenceException:\n",
    "                                time_sleep(0.2)\n",
    "                                continue\n",
    "                            else:\n",
    "                                break\n",
    "                        \n",
    "                        out_list.append((su1, su2, su3,  href, pagin))\n",
    "                        \n",
    "                        \n",
    "                        \n",
    "                if not su3:  \n",
    "                    # получить ссылку на страницу\n",
    "                    href = driver.current_url\n",
    "                    # Получить количество страниц\n",
    "                    try:\n",
    "                        pagin = int(driver.find_elements(by=By.XPATH, value='//nav[starts-with(@aria-label, \"Постраничная навигация\")]//a[contains(@class, \"b-dsk-paginator__item\")]/following-sibling::*')[-2].text)\n",
    "                    except IndexError:\n",
    "                        pagin = np.nan\n",
    "                    out_list.append((su1, su2, su3, href, pagin))\n",
    "\n",
    "print(out_list)\n",
    "# out_html = el3[0]\n",
    "# print(BS(out_html.get_attribute('innerHTML')).prettify())"
   ]
  },
  {
   "cell_type": "code",
   "execution_count": 25,
   "id": "8d408035",
   "metadata": {},
   "outputs": [],
   "source": [
    "driver.find_element(By.XPATH, \"//div[contains(text(), 'Да. Мне есть 18')]/ancestor::button\").click()\n",
    "# print(BS(f1[0].get_attribute('innerHTML')).prettify())\n",
    "# f1.text"
   ]
  },
  {
   "cell_type": "code",
   "execution_count": 21,
   "id": "d848def1",
   "metadata": {},
   "outputs": [
    {
     "data": {
      "text/plain": [
       "('Продукты',\n",
       " 'Мясные продукты',\n",
       " 'Сосиски',\n",
       " 'https://edadeal.ru/lipeck/retailers/magnit-univer?segmentUuid=3b31c1f4-6311-11e6-849f-52540010b608&segmentUuid2=3b31c29e-6311-11e6-849f-52540010b608',\n",
       " 2)"
      ]
     },
     "execution_count": 21,
     "metadata": {},
     "output_type": "execute_result"
    }
   ],
   "source": [
    "out_list[19]"
   ]
  },
  {
   "cell_type": "markdown",
   "id": "7a01965b-d42a-4a18-8200-c025902f28aa",
   "metadata": {},
   "source": [
    "### 3.1.2. Выполнение"
   ]
  },
  {
   "cell_type": "code",
   "execution_count": 23,
   "id": "4361234b-0455-415e-914c-49e495d7105a",
   "metadata": {},
   "outputs": [
    {
     "name": "stderr",
     "output_type": "stream",
     "text": [
      "100%|██████████| 58/58 [05:57<00:00,  6.17s/it]\n"
     ]
    },
    {
     "data": {
      "text/plain": [
       "952"
      ]
     },
     "execution_count": 23,
     "metadata": {},
     "output_type": "execute_result"
    }
   ],
   "source": [
    "# Получение всех адресов на страницы с товарами.\n",
    "retailer_links_pages, loger_fault, q = _get_all_links_to_market(driver, retailer_links, timeout=10)\n",
    "len(retailer_links_pages)"
   ]
  },
  {
   "cell_type": "markdown",
   "id": "ed726768-1780-4d22-b85a-09a04aeae618",
   "metadata": {},
   "source": [
    "### 3.1.3. Save/Load"
   ]
  },
  {
   "cell_type": "markdown",
   "id": "ac1cbe41",
   "metadata": {},
   "source": [
    "Ссылки на страницы с информацией"
   ]
  },
  {
   "cell_type": "code",
   "execution_count": 24,
   "id": "008e4461-227a-4ebf-8073-a4e85dde6dda",
   "metadata": {},
   "outputs": [],
   "source": [
    "with open('data/retailer_links_pages.pickle', 'wb') as file:\n",
    "    pickle.dump(retailer_links_pages, file)"
   ]
  },
  {
   "cell_type": "code",
   "execution_count": 25,
   "id": "d22d4a6b-0eff-43f8-9318-ad172e8c88ae",
   "metadata": {},
   "outputs": [],
   "source": [
    "with open('data/retailer_links_pages.pickle', 'rb') as file:\n",
    "    retailer_links_pages = pickle.load(file)"
   ]
  },
  {
   "cell_type": "markdown",
   "id": "ef51e45b-9270-4801-9e33-4cb26890678e",
   "metadata": {},
   "source": [
    "## 3.2. Получение информации о товарах и ссылки на них"
   ]
  },
  {
   "cell_type": "markdown",
   "id": "23858d67-3c8e-4d1a-bdf7-f636609fddf9",
   "metadata": {},
   "source": [
    "### 3.2.1 Функции"
   ]
  },
  {
   "cell_type": "markdown",
   "id": "6763865e",
   "metadata": {},
   "source": [
    "#### 3.2.1.1 Парсинг информации"
   ]
  },
  {
   "cell_type": "code",
   "execution_count": 26,
   "id": "ef3af507",
   "metadata": {},
   "outputs": [],
   "source": [
    "def parser_sku_01(page_source: str, market: market_link, date: datetime) -> pd.DataFrame:\n",
    "    \"\"\"\n",
    "        Извлечение данных из страницы,\n",
    "        Данные возвращаются в виде pd.DataFrame\n",
    "    \"\"\"\n",
    "    \n",
    "    # Получаем хост из ссылки\n",
    "    host = '/'.join(market.page_href.split('/', maxsplit=3)[:3])\n",
    "    # \n",
    "    page = BS(page_source, 'lxml')\n",
    "    \n",
    "    # Находим карточки с продуктами\n",
    "    f1 = page.find('div', {'data-test-ref':'grid'})\n",
    "    f2 = f1.find('div').find_all('div', {'data-test-ref':'b-srch-card'})\n",
    "    \n",
    "    out_list = list()\n",
    "    \n",
    "    for f3 in f2:\n",
    "        # название\n",
    "        title = f3.find('div', class_='b-srch-card__title').get_text(strip=True)\n",
    "        \n",
    "        # дата до истечения\n",
    "        try:\n",
    "            date_to = datetime.strptime(f3.find('time').get('datetime'), '%Y-%m-%d')\n",
    "        except AttributeError:\n",
    "            date_to = np.nan\n",
    "        \n",
    "        # Цена (разбита на части)\n",
    "        try:\n",
    "            b = (f3\n",
    "                .find('div', class_=\"b-srch-card__price\")\n",
    "                .find('div', class_=\"b-srch-card__price-new\")\n",
    "                .find('div', class_='b-money__root-wrapper')\n",
    "                .find('span', {'data-test-ref':\"money-base\"})\n",
    "                .get_text(strip=True)\n",
    "                .replace('\\xa0', '')\n",
    "                )\n",
    "        except AttributeError as ex:\n",
    "            price = np.nan\n",
    "            short_logger.critical(f\"no price, {ex}: {market.title} :: {market.page_href}\")\n",
    "            long_logger.critical(f\"no price, {ex}: {market.title} :: {market.page_href}\", exc_info=True)\n",
    "        \n",
    "        else:\n",
    "            try:\n",
    "                s = (f3\n",
    "                    .find('div', class_=\"b-srch-card__price\")\n",
    "                    .find('div', class_=\"b-srch-card__price-new\")\n",
    "                    .find('div', class_='b-money__root-wrapper')\n",
    "                    .find('span', {'data-test-ref':\"money-subunit\"})\n",
    "                    .get_text(strip=True)\n",
    "                    .replace('\\xa0', ''))\n",
    "            except AttributeError:\n",
    "                s = '0'\n",
    "                \n",
    "            price = float(f'{b}.{s}')\n",
    "        \n",
    "        # -------------------------------------------------------------------------------------------------\n",
    "        # Предыдущая цена (разбита на части)\n",
    "        try:\n",
    "            b_last = (f3\n",
    "                      .find('div', class_=\"b-srch-card__price\")\n",
    "                      .find('div', class_=\"b-srch-card__price-old\")\n",
    "                      .find('div', class_='b-money__root-wrapper')\n",
    "                      .find('span', {'data-test-ref':\"money-base\"})\n",
    "                      .get_text(strip=True)\n",
    "                      .replace('\\xa0', '')\n",
    "                      )\n",
    "        except AttributeError as ex:\n",
    "            price_last = np.nan\n",
    "        \n",
    "        else:\n",
    "            try:\n",
    "                s_last = (f3\n",
    "                          .find('div', class_=\"b-srch-card__price\")\n",
    "                          .find('div', class_=\"b-srch-card__price-old\")\n",
    "                          .find('div', class_='b-money__root-wrapper')\n",
    "                          .find('span', {'data-test-ref':\"money-subunit\"})\n",
    "                          .get_text(strip=True)\n",
    "                          .replace('\\xa0', '')\n",
    "                          )\n",
    "            except AttributeError:\n",
    "                s_last = '0'\n",
    "                \n",
    "            price_last = float(f'{b_last}.{s_last}')\n",
    "\n",
    "        # -------------------------------------------------------------------------------------------------\n",
    "        # тип валюты\n",
    "        try:\n",
    "            unit = f3.find('div', class_='b-money__root-wrapper').find('span', {'data-test-ref':\"currency\"}).get_text(strip=True)\n",
    "        except AttributeError:\n",
    "            unit = np.nan\n",
    "\n",
    "        # -------------------------------------------------------------------------------------------------\n",
    "        # скидка\n",
    "        try:\n",
    "            sale = f3.find('div', class_='b-srch-card__discount-label').get_text(strip=True)\n",
    "        except AttributeError:\n",
    "            sale = np.nan\n",
    "        \n",
    "        # -------------------------------------------------------------------------------------------------\n",
    "        # Условие\n",
    "        try:\n",
    "            condition = (f3\n",
    "                         .find('div', class_=\"b-srch-card__content-container\")\n",
    "                         .find('div', class_=\"b-tpl-offer-label__text\")\n",
    "                         .get_text(strip=True)\n",
    "                         .replace('\\xa0', '')\n",
    "                         )\n",
    "        except AttributeError as ex:\n",
    "                condition = np.nan\n",
    "\n",
    "        # -------------------------------------------------------------------------------------------------\n",
    "        # вес\n",
    "        try:\n",
    "            f4 = (f3\n",
    "                .find('div', class_='b-srch-card__info')\n",
    "                .find('span')\n",
    "                .get_text(strip=True)\n",
    "                .replace('\\xa0', ' ')\n",
    "                .split('•')\n",
    "                )\n",
    "            vol = f4[0].strip()\n",
    "        \n",
    "        # руб/кг. руб/шт.\n",
    "            vol_vs = f4[1].strip()\n",
    "        except AttributeError:\n",
    "            vol = np.nan\n",
    "            vol_vs = np.nan\n",
    "                \n",
    "        # -------------------------------------------------------------------------------------------------\n",
    "        # ссылка\n",
    "        try:\n",
    "            href = host + f3.find('a', class_=\"b-srch-card__card-wrapper\").get('href')\n",
    "        except AttributeError:\n",
    "            href = np.nan\n",
    "        \n",
    "                \n",
    "        out_list.append((date, market.sity, market.title, title, date_to, condition ,price, price_last, unit, sale, vol, vol_vs, href))\n",
    "\n",
    "\n",
    "    return pd.DataFrame(out_list, columns=['date', 'sity', 'market', 'title', 'date_to', 'condition', 'price', 'price_last', 'unit', 'sale', 'vol', 'vol_vs', 'href'])"
   ]
  },
  {
   "cell_type": "markdown",
   "id": "59d525de",
   "metadata": {},
   "source": [
    "#### 3.2.1.2 Получение страницы"
   ]
  },
  {
   "cell_type": "code",
   "execution_count": 27,
   "id": "77aa9e48",
   "metadata": {},
   "outputs": [],
   "source": [
    "def _get_page(driver: webdriver.Chrome, item: market_link, timeout: int=30) -> webdriver.Chrome.page_source:\n",
    "    \"\"\"\n",
    "        сохраняем страницы\n",
    "    \"\"\"\n",
    "    # Класс задержки, который будет ожидать когда догрузится элемент\n",
    "    wait = WebDriverWait(\n",
    "        driver,\n",
    "        timeout=timeout,\n",
    "        poll_frequency=1\n",
    "        )\n",
    "    \n",
    "    # Вызов страницы\n",
    "    try:\n",
    "        driver.get(item.page_href)\n",
    "    \n",
    "    except TimeoutException as ex:\n",
    "        short_logger.warning(f\"don't get response: {item.title} :: {item.page_href}\")\n",
    "        raise MyTimeoutErrore(f'timeout bad DRIVER get url: {url}')\n",
    "    except Exception as ex:\n",
    "        short_logger.critical(f\"other exception, {ex}: {item.title} :: {item.page_href}\")\n",
    "        long_logger.critical(f\"other exception, {ex}: {item.title} :: {item.page_href}\", exc_info=True)\n",
    "    \n",
    "    # Проверка сайта на 18 лет\n",
    "    # Мы ранее собирали информацию, и приблизительно занем есть ли в данном магазине такая проверка или нет.\n",
    "    if item.alcohol:\n",
    "        try:\n",
    "            # Ожидаем появляение кнопки, если она не повится, то ничего не делаем.\n",
    "            button = wait.until(lambda d: d.find_element(by=By.XPATH, value=\"//div[@class='b-dsk-adult-disclaimer__wrapper']//button[@type='button']\"))\n",
    "            button.click()\n",
    "        \n",
    "        except TimeoutException:\n",
    "            short_logger.info(f'alcochol timeout: {item.title} :: {item.page_href}')\n",
    "        except ElementNotInteractableException:\n",
    "            short_logger.warning(f'alcochol not button: {item.title} :: {item.page_href}')\n",
    "        except Exception as ex:\n",
    "            short_logger.error(f'alcochol other: {ex} :: {item.title} :: {item.page_href}')\n",
    "            long_logger.error(f'alcochol other: {ex} :: {item.title} :: {item.page_href}', exc_info=True)\n",
    "    \n",
    "    # Ручной тайм аут на выполнение всего процесса\n",
    "    time_start = int(time())\n",
    "    \n",
    "    while (int(time()) - time_start) < timeout*2:\n",
    "        \n",
    "        # Задержка действий до загрузки отслеживаемых елементов.\n",
    "        # Варант провекрки загрузки страницы, проверка что текст не пустой\n",
    "        try:\n",
    "            wait.until(lambda d: d.find_element(by=By.XPATH, value=\"//div[@data-test-ref='grid']\"))\n",
    "        except TimeoutException:\n",
    "            try:\n",
    "                driver.find_element(by=By.XPATH, value=\"//div[@class='b-dsk-stub__description']\")\n",
    "            except TimeoutException:\n",
    "                short_logger.warning(f\"not table, timeout: {item.title} :: {item.page_href}\")\n",
    "                raise MyTimeoutErrore()\n",
    "            else:\n",
    "                short_logger.info(f\"not page, timeout: {item.title} :: {item.page_href}\")\n",
    "                page = None\n",
    "                break\n",
    "            \n",
    "        # Проверка наличия названия продукта в ячейке\n",
    "        page = BS(driver.page_source, 'lxml')\n",
    "        \n",
    "        try:\n",
    "            # Дожидаемся когда загрузится информация о первом товаре на странице\n",
    "            f1 = page.find('div', {'data-test-ref':'grid'})\n",
    "            f2 = f1.find('div').find_all('div', {'data-test-ref':'b-srch-card'})\n",
    "            f2[0].find('div', class_='b-srch-card__title').get_text(strip=True)\n",
    "        except IndexError as ex:\n",
    "            continue\n",
    "        except Exception as ex:\n",
    "            short_logger.critical(f\"checking the product name, other exception, {ex}: {item.title} :: {item.page_href}\")\n",
    "            long_logger.critical(f\"checking the product name, other exception, {ex}: {item.title} :: {item.page_href}\", exc_info=True)\n",
    "\n",
    "        break\n",
    "    \n",
    "    else:\n",
    "        short_logger.warning(f\"not table, timeout ALL: {item.title} :: {item.page_href}\")\n",
    "        raise MyTimeoutErrore()\n",
    "    \n",
    "    return driver.page_source"
   ]
  },
  {
   "cell_type": "markdown",
   "id": "b2285ecb",
   "metadata": {},
   "source": [
    "#### 3.2.1.3. Получение информации с сайта."
   ]
  },
  {
   "cell_type": "code",
   "execution_count": 28,
   "id": "51915c42",
   "metadata": {},
   "outputs": [],
   "source": [
    "def get_pages(driver: webdriver.Chrome, list_url: list[market_link], timeout: int=20, dead_line: int=20) -> tuple[pd.DataFrame, list[market_link]]:\n",
    "    \"\"\"\n",
    "        Функция получает страницы с информацией об товарах,\n",
    "        извлекает информацию,\n",
    "        отдает датафрейм с информацией и необработанными ссылками.\n",
    "    \"\"\"\n",
    "    table = list()\n",
    "    \n",
    "    with tqdm(total=len(list_url)) as pbar:     # Прогресс бар\n",
    "        \n",
    "        q = deque(list_url)                     # Очередь\n",
    "        out_list = list()\n",
    "        \n",
    "        while len(q) > 0:\n",
    "            if dead_line < 0:                   # Ограничение количества попыток получить данные.\n",
    "                return (out_list, q)\n",
    "            \n",
    "            item = q.popleft()\n",
    "            if item.discounts:\n",
    "                try:\n",
    "                    page = _get_page(driver, item, timeout)\n",
    "                except MyTimeoutErrore:\n",
    "                    q.append(item)\n",
    "                    dead_line -= 1\n",
    "                    continue\n",
    "                else:\n",
    "                    table.append(parser_sku_01(page, item, datetime.now()))\n",
    "                \n",
    "            pbar.update(1)\n",
    "        df = pd.concat(table, ignore_index=True)\n",
    "    return (df, list(q))                        # Возвращаем отработаный лист и очередь(пустую или нет)"
   ]
  },
  {
   "cell_type": "markdown",
   "id": "881ea68d-acca-40c6-b7ae-9dee27709075",
   "metadata": {},
   "source": [
    "### 3.2.2. Выполнение"
   ]
  },
  {
   "cell_type": "code",
   "execution_count": 30,
   "id": "28b16ebd",
   "metadata": {},
   "outputs": [
    {
     "name": "stderr",
     "output_type": "stream",
     "text": [
      "100%|██████████| 952/952 [37:30<00:00,  2.36s/it]  \n"
     ]
    }
   ],
   "source": [
    "pages_df, other = get_pages(driver, retailer_links_pages)"
   ]
  },
  {
   "cell_type": "code",
   "execution_count": 37,
   "id": "88dc3319",
   "metadata": {},
   "outputs": [],
   "source": [
    "_save_df_to_zip(pages_df)"
   ]
  },
  {
   "cell_type": "code",
   "execution_count": null,
   "id": "5ae1e22d",
   "metadata": {},
   "outputs": [],
   "source": []
  },
  {
   "cell_type": "markdown",
   "id": "7aea087b",
   "metadata": {},
   "source": [
    "#### 3.2.2.1. Сохранение всех страниц, для того что бы отточить работу парсера."
   ]
  },
  {
   "cell_type": "markdown",
   "id": "1d832f20",
   "metadata": {},
   "source": []
  },
  {
   "cell_type": "code",
   "execution_count": null,
   "id": "d4431de5",
   "metadata": {},
   "outputs": [],
   "source": []
  },
  {
   "cell_type": "code",
   "execution_count": 5,
   "id": "8ffbd1ea",
   "metadata": {},
   "outputs": [],
   "source": [
    "\n",
    "\n",
    "\n",
    "\n"
   ]
  },
  {
   "cell_type": "code",
   "execution_count": 19,
   "id": "f7523791",
   "metadata": {},
   "outputs": [
    {
     "name": "stderr",
     "output_type": "stream",
     "text": [
      "100%|██████████| 914/914 [35:32<00:00,  2.33s/it]  \n"
     ]
    }
   ],
   "source": [
    "# pages, other = _get_pages(driver, retailer_links_pages)"
   ]
  },
  {
   "cell_type": "code",
   "execution_count": 20,
   "id": "2606287e-29b8-4a4e-98c8-98938061638f",
   "metadata": {},
   "outputs": [],
   "source": [
    "# Сохранение страниц  в Zip файл.\n",
    "with ZipFile('data/pages.zip', 'w', compression=ZIP_DEFLATED, compresslevel=1) as zip_file:\n",
    "    for index, page in enumerate(pages):\n",
    "        if page:\n",
    "            zip_file.writestr(f'{index:05d}.html', page.encode())"
   ]
  },
  {
   "cell_type": "code",
   "execution_count": 6,
   "id": "2b1f7878-7a82-4717-81b7-2ffb20d22524",
   "metadata": {},
   "outputs": [],
   "source": [
    "# Поллучение страниц из Zip файла.\n",
    "pages = list()\n",
    "with ZipFile('data/pages.zip', 'r') as zf:\n",
    "    for item in zf.filelist:\n",
    "        with zf.open(item.filename) as file:\n",
    "            pages.append(file.read())"
   ]
  },
  {
   "cell_type": "code",
   "execution_count": 7,
   "id": "d3388d21-3c17-4920-9ed6-ff102d30c4d1",
   "metadata": {},
   "outputs": [],
   "source": [
    "url = retailer_links_pages[0].page_href\n"
   ]
  },
  {
   "cell_type": "code",
   "execution_count": 23,
   "id": "75703e83-e42a-4b6d-8c40-47f43dec971a",
   "metadata": {},
   "outputs": [],
   "source": [
    "\n",
    "\n",
    "dataframe_list = list()\n",
    "\n",
    "for page in pages[:200]:\n",
    "    dataframe_list.append(parser_sku_01(page, retailer_links_pages[0], datetime.strptime(\"2023-08-28\", '%Y-%m-%d')))\n",
    "out_df = pd.concat(dataframe_list, ignore_index=True)"
   ]
  },
  {
   "cell_type": "code",
   "execution_count": 25,
   "id": "f67cfa3e",
   "metadata": {},
   "outputs": [
    {
     "data": {
      "text/plain": [
       "(24, 13)"
      ]
     },
     "execution_count": 25,
     "metadata": {},
     "output_type": "execute_result"
    }
   ],
   "source": []
  }
 ],
 "metadata": {
  "kernelspec": {
   "display_name": "Python 3 (ipykernel)",
   "language": "python",
   "name": "python3"
  },
  "language_info": {
   "codemirror_mode": {
    "name": "ipython",
    "version": 3
   },
   "file_extension": ".py",
   "mimetype": "text/x-python",
   "name": "python",
   "nbconvert_exporter": "python",
   "pygments_lexer": "ipython3",
   "version": "3.11.4"
  }
 },
 "nbformat": 4,
 "nbformat_minor": 5
}
