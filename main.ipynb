{
 "cells": [
  {
   "cell_type": "code",
   "execution_count": 1,
   "id": "d603f43e-035a-4919-a03f-b9480178d7f5",
   "metadata": {},
   "outputs": [],
   "source": [
    "from bs4 import BeautifulSoup as BS\n",
    "import undetected_chromedriver as uc\n",
    "import json\n",
    "from selenium.webdriver.common.by import By \n",
    "from selenium.webdriver.support.wait import WebDriverWait\n",
    "from selenium.common.exceptions import TimeoutException, ElementNotVisibleException, ElementNotSelectableException, NoSuchElementException\n",
    "import re\n",
    "from time import sleep as time_sleep, time\n",
    "from queue import Queue\n",
    "import math\n",
    "from typing import NamedTuple\n",
    "from datetime import datetime\n",
    "from zipfile import ZipFile, ZIP_DEFLATED\n",
    "from selenium import webdriver\n",
    "import requests\n",
    "from webdriver_manager.chrome import ChromeDriverManager\n",
    "import lxml\n",
    "from itertools import chain\n",
    "from typing import NamedTuple\n",
    "import pickle"
   ]
  },
  {
   "cell_type": "code",
   "execution_count": 2,
   "id": "db584197-4cd9-4e0e-8243-df0327a6bbe1",
   "metadata": {},
   "outputs": [],
   "source": [
    "class market_link(NamedTuple):\n",
    "    sity: str\n",
    "    title: str\n",
    "    discounts: int\n",
    "    href: str"
   ]
  },
  {
   "cell_type": "code",
   "execution_count": 3,
   "id": "149a3400-553b-408c-beb9-5ddf4f930e57",
   "metadata": {},
   "outputs": [],
   "source": [
    "driver = webdriver.Chrome()"
   ]
  },
  {
   "cell_type": "markdown",
   "id": "d1475db7-5be7-4c82-b4c2-b5bfb65d735b",
   "metadata": {},
   "source": [
    "# Получение адресов городов"
   ]
  },
  {
   "cell_type": "code",
   "execution_count": null,
   "id": "d285b512-d584-428f-8c65-62f96c27263d",
   "metadata": {},
   "outputs": [],
   "source": []
  },
  {
   "cell_type": "markdown",
   "id": "2c056051-eba4-412d-8286-fd73f99b1962",
   "metadata": {},
   "source": [
    "# Получение ссылок на Магазины"
   ]
  },
  {
   "cell_type": "markdown",
   "id": "69ec1502-f847-419c-aa9e-3f4c8e1673e0",
   "metadata": {},
   "source": [
    "## Получение ссылки на старицы каталогов с магазинами"
   ]
  },
  {
   "cell_type": "markdown",
   "id": "8bafcb32-ee29-4096-a248-b4cce98760f7",
   "metadata": {},
   "source": [
    "### Функции"
   ]
  },
  {
   "cell_type": "code",
   "execution_count": 7,
   "id": "c93dba6a-d597-41d9-989e-d58a7a94d450",
   "metadata": {},
   "outputs": [],
   "source": [
    "def _get_page_count(drive: webdriver.Chrome, url: str, pagin_sufix: str, timeout: int=20) -> list[str]:\n",
    "    \"\"\"\n",
    "        Возвращает лист с доступными ссылками\n",
    "    \"\"\"\n",
    "    # Класс задержки, который будет ожидать когда догрузится элемент\n",
    "    wait = WebDriverWait(\n",
    "        driver,\n",
    "        timeout=10,\n",
    "        poll_frequency=1,\n",
    "        # ignored_exceptions=[ElementNotVisibleException, ElementNotSelectableException, NoSuchElementException]\n",
    "        )\n",
    "    # Вызов страницы\n",
    "    driver.get(url)\n",
    "    time_start = int(time())\n",
    "    while (int(time()) - time_start) < timeout:\n",
    "        # Задержка действий до загрузки отслеживаемых елементов.\n",
    "        # wait.until(lambda d: d.find_element(by=By.XPATH, value=\"//nav[@aria-label='Постраничная навигация']\"))\n",
    "        wait.until(lambda d: d.find_element(by=By.XPATH, value=\"//nav[@class='i-block-helper uid-e710417b6f b-dsk-paginator p-dsk-srch-retailers__paginator uid-6d736fe587 b-dsk-paginator_disabled_false b-dsk-paginator_progress_false']\"))\n",
    "        # Парсинг\n",
    "        page = BS(driver.page_source, 'lxml')\n",
    "        \n",
    "        try:\n",
    "            f1 = page.find('nav', class_='i-block-helper uid-e710417b6f b-dsk-paginator p-dsk-srch-retailers__paginator uid-6d736fe587 b-dsk-paginator_disabled_false b-dsk-paginator_progress_false')\n",
    "        except Exception as ex:\n",
    "            print(ex)\n",
    "            continue\n",
    "            \n",
    "        try:    \n",
    "            pagination = int(f1.find_all('a')[-2].text)\n",
    "        except Exception as ex:\n",
    "            print(ex)\n",
    "            continue\n",
    "        \n",
    "        out_list = [f'{url}{pagin_sufix}{x}' for x in range(1, pagination+1)]\n",
    "        \n",
    "        break\n",
    "    else:\n",
    "        raise Exception(\"timeout\")\n",
    "    \n",
    "    return out_list"
   ]
  },
  {
   "cell_type": "markdown",
   "id": "8099490d-37c6-4e63-85dc-c186f10e2de3",
   "metadata": {},
   "source": [
    "### Выполнение"
   ]
  },
  {
   "cell_type": "code",
   "execution_count": 5,
   "id": "c885442c-b78c-41a4-b487-7bb62d0324fd",
   "metadata": {},
   "outputs": [],
   "source": [
    "# driver.get('https://edadeal.ru/lipeck/retailers')\n",
    "url = 'https://edadeal.ru/lipeck/retailers'"
   ]
  },
  {
   "cell_type": "code",
   "execution_count": 8,
   "id": "52ca4ce0-b664-4692-acdb-4733c07e697e",
   "metadata": {},
   "outputs": [
    {
     "data": {
      "text/plain": [
       "['https://edadeal.ru/lipeck/retailers?page=1',\n",
       " 'https://edadeal.ru/lipeck/retailers?page=2',\n",
       " 'https://edadeal.ru/lipeck/retailers?page=3',\n",
       " 'https://edadeal.ru/lipeck/retailers?page=4',\n",
       " 'https://edadeal.ru/lipeck/retailers?page=5']"
      ]
     },
     "execution_count": 8,
     "metadata": {},
     "output_type": "execute_result"
    }
   ],
   "source": [
    "temp_url_list = _get_page_count(driver, url, '?page=')\n",
    "temp_url_list"
   ]
  },
  {
   "cell_type": "markdown",
   "id": "caf85ea2-0608-40dd-8762-9db3b45e032a",
   "metadata": {},
   "source": [
    "## Получение непосредственно все ссылки на Магазины"
   ]
  },
  {
   "cell_type": "markdown",
   "id": "b0c5e560-31a9-420b-8ee8-b72fd29bdb6f",
   "metadata": {},
   "source": [
    "### Функции"
   ]
  },
  {
   "cell_type": "code",
   "execution_count": 9,
   "id": "0cc3fac3-86b1-4fe9-93be-9f821b281464",
   "metadata": {},
   "outputs": [],
   "source": [
    "def _get_retailers_links(drive: webdriver.Chrome, url: str, sity: str, timeout: int=30) -> list[str]:\n",
    "    \"\"\"\n",
    "        Возвращает лист с магазинами и ссылками.\n",
    "    \"\"\"\n",
    "    \n",
    "    host = '/'.join(url.split('/')[:-1])\n",
    "    out_list = list()\n",
    "    # Класс задержки, который будет ожидать когда догрузится элемент\n",
    "    wait = WebDriverWait(\n",
    "        driver,\n",
    "        timeout=10,\n",
    "        poll_frequency=1,\n",
    "        # ignored_exceptions=[ElementNotVisibleException, ElementNotSelectableException, NoSuchElementException]\n",
    "        )\n",
    "\n",
    "    \n",
    "    # Вызов страницы\n",
    "    driver.get(url)\n",
    "    time_start = int(time())\n",
    "    \n",
    "    while (int(time()) - time_start) < timeout:\n",
    "        # Задержка действий до загрузки отслеживаемых елементов.\n",
    "        wait.until(lambda d: d.find_element(by=By.XPATH, value=\"//nav[@aria-label='Постраничная навигация']\"))\n",
    "        # Парсинг\n",
    "        page = BS(driver.page_source, 'lxml')\n",
    "        \n",
    "        try:\n",
    "            f1 = page.find('div', class_='p-dsk-srch-retailers__content').find('div', class_='b-dsk-grid__container').find_all('article')\n",
    "        except Exception as ex:\n",
    "            print(ex)\n",
    "            continue\n",
    "        \n",
    "        try:    \n",
    "            for item in f1:\n",
    "                href = host + item.find('a').get('href')\n",
    "                title = item.find('a').find('h4').get('title')\n",
    "                discounts = int((re.findall(r'(\\d+)', item.find('a').find('p').text)[0]))\n",
    "                out_list.append(market_link(sity, title, discounts, href))        \n",
    "                \n",
    "        except Exception as ex:\n",
    "            print(ex)\n",
    "            continue\n",
    "        \n",
    "        break\n",
    "    \n",
    "    else:\n",
    "        raise Exception('timeout')\n",
    "    \n",
    "    return out_list"
   ]
  },
  {
   "cell_type": "markdown",
   "id": "e7431b75-7639-4a48-bca5-138649c8605c",
   "metadata": {},
   "source": [
    "### Выполнение"
   ]
  },
  {
   "cell_type": "code",
   "execution_count": 10,
   "id": "14419582-a37c-4b27-950b-ab969ee3466d",
   "metadata": {},
   "outputs": [
    {
     "name": "stdout",
     "output_type": "stream",
     "text": [
      "55\n",
      "[market_link(sity='lipetsk', title='Магнит', discounts=10400, href='https://edadeal.ru/lipeck/retailers/magnit-univer'), market_link(sity='lipetsk', title='Пятёрочка', discounts=30, href='https://edadeal.ru/lipeck/retailers/5ka'), market_link(sity='lipetsk', title='Магнит Косметик', discounts=10303, href='https://edadeal.ru/lipeck/retailers/magnit-cosmo'), market_link(sity='lipetsk', title='Перекрёсток', discounts=1877, href='https://edadeal.ru/lipeck/retailers/perekrestok'), market_link(sity='lipetsk', title='Чижик', discounts=15, href='https://edadeal.ru/lipeck/retailers/chizhik'), market_link(sity='lipetsk', title='Европа', discounts=737, href='https://edadeal.ru/lipeck/retailers/europa-ts'), market_link(sity='lipetsk', title=\"О'кей гипермаркет\", discounts=851, href='https://edadeal.ru/lipeck/retailers/okmarket-giper'), market_link(sity='lipetsk', title='Сытый Бацька', discounts=12, href='https://edadeal.ru/lipeck/retailers/sytyi_batka'), market_link(sity='lipetsk', title='Липка', discounts=13, href='https://edadeal.ru/lipeck/retailers/lipka'), market_link(sity='lipetsk', title='Лента Гипермаркет', discounts=5798, href='https://edadeal.ru/lipeck/retailers/lenta-giper'), market_link(sity='lipetsk', title='Победа', discounts=82, href='https://edadeal.ru/lipeck/retailers/pobeda'), market_link(sity='lipetsk', title='Семь дней', discounts=342, href='https://edadeal.ru/lipeck/retailers/ts-7dney'), market_link(sity='lipetsk', title='Правильная корзинка', discounts=13, href='https://edadeal.ru/lipeck/retailers/korzinka_6'), market_link(sity='lipetsk', title='Перекресток-Экспресс', discounts=1321, href='https://edadeal.ru/lipeck/retailers/perekrestok-ekspress-ecom'), market_link(sity='lipetsk', title='Закрома Беларуси', discounts=48, href='https://edadeal.ru/lipeck/retailers/zakroma-belarusi'), market_link(sity='lipetsk', title='Рубль Бум', discounts=386, href='https://edadeal.ru/lipeck/retailers/1b'), market_link(sity='lipetsk', title='Metro', discounts=6040, href='https://edadeal.ru/lipeck/retailers/metro-cc'), market_link(sity='lipetsk', title='Порядок', discounts=142, href='https://edadeal.ru/lipeck/retailers/poryadok'), market_link(sity='lipetsk', title='Твоё', discounts=2637, href='https://edadeal.ru/lipeck/retailers/tvoyo'), market_link(sity='lipetsk', title='Рыбоедов', discounts=12, href='https://edadeal.ru/lipeck/retailers/ryboedov'), market_link(sity='lipetsk', title='Metro. Онлайн-доставка', discounts=2946, href='https://edadeal.ru/lipeck/retailers/metro-ru'), market_link(sity='lipetsk', title='Офисмаг', discounts=300, href='https://edadeal.ru/lipeck/retailers/officemag'), market_link(sity='lipetsk', title='Детский мир', discounts=185, href='https://edadeal.ru/lipeck/retailers/detmir'), market_link(sity='lipetsk', title='Подружка', discounts=81, href='https://edadeal.ru/lipeck/retailers/podrygka'), market_link(sity='lipetsk', title='Zenden', discounts=1258, href='https://edadeal.ru/lipeck/retailers/zenden'), market_link(sity='lipetsk', title='Hoff', discounts=2146, href='https://edadeal.ru/lipeck/retailers/hoff'), market_link(sity='lipetsk', title='ВкусВилл', discounts=414, href='https://edadeal.ru/lipeck/retailers/vkusvill_offline'), market_link(sity='lipetsk', title='Л’Этуаль', discounts=1092, href='https://edadeal.ru/lipeck/retailers/letu'), market_link(sity='lipetsk', title='Finn Flare', discounts=980, href='https://edadeal.ru/lipeck/retailers/finn_flare'), market_link(sity='lipetsk', title='Mi-shop.com', discounts=207, href='https://edadeal.ru/lipeck/retailers/mi-shopcom'), market_link(sity='lipetsk', title='Твой дом', discounts=4229, href='https://edadeal.ru/lipeck/retailers/tvoi-dom'), market_link(sity='lipetsk', title='Золотое яблоко', discounts=2702, href='https://edadeal.ru/lipeck/retailers/zolote_iabloko'), market_link(sity='lipetsk', title='Две линии', discounts=308, href='https://edadeal.ru/lipeck/retailers/dve-linii'), market_link(sity='lipetsk', title='Ароматный мир', discounts=128, href='https://edadeal.ru/lipeck/retailers/amwine'), market_link(sity='lipetsk', title='Ситилинк', discounts=863, href='https://edadeal.ru/lipeck/retailers/sitilink'), market_link(sity='lipetsk', title='Polaris', discounts=414, href='https://edadeal.ru/lipeck/retailers/polaris'), market_link(sity='lipetsk', title='Зоозавр', discounts=2201, href='https://edadeal.ru/lipeck/retailers/zoozavr'), market_link(sity='lipetsk', title='Иль Де Ботэ', discounts=7311, href='https://edadeal.ru/lipeck/retailers/il-de-bote'), market_link(sity='lipetsk', title='Мильстрим', discounts=344, href='https://edadeal.ru/lipeck/retailers/milstrim'), market_link(sity='lipetsk', title='Ok Beauty', discounts=134, href='https://edadeal.ru/lipeck/retailers/ok-beauty'), market_link(sity='lipetsk', title='Pleer.ru', discounts=1414, href='https://edadeal.ru/lipeck/retailers/pleerru'), market_link(sity='lipetsk', title='Randewoo', discounts=2042, href='https://edadeal.ru/lipeck/retailers/randewo'), market_link(sity='lipetsk', title='Первый мебельный', discounts=2794, href='https://edadeal.ru/lipeck/retailers/pervyj-mebelnyj'), market_link(sity='lipetsk', title='Ormatek', discounts=1775, href='https://edadeal.ru/lipeck/retailers/ormatek'), market_link(sity='lipetsk', title='Акушерство', discounts=1226, href='https://edadeal.ru/lipeck/retailers/akusherstvo'), market_link(sity='lipetsk', title='Gulliver Market', discounts=1201, href='https://edadeal.ru/lipeck/retailers/gulliver-market'), market_link(sity='lipetsk', title='buyson', discounts=390, href='https://edadeal.ru/lipeck/retailers/buyson'), market_link(sity='lipetsk', title='Созвездие Красоты', discounts=1033, href='https://edadeal.ru/lipeck/retailers/sozvezdie-krasoty'), market_link(sity='lipetsk', title='Fix Price', discounts=0, href='https://edadeal.ru/lipeck/retailers/fix-price'), market_link(sity='lipetsk', title='Светофор', discounts=0, href='https://edadeal.ru/lipeck/retailers/svetofor'), market_link(sity='lipetsk', title='Доброцен', discounts=0, href='https://edadeal.ru/lipeck/retailers/dobrotsen'), market_link(sity='lipetsk', title='Линия', discounts=0, href='https://edadeal.ru/lipeck/retailers/chain-stores-line'), market_link(sity='lipetsk', title='Ашан', discounts=0, href='https://edadeal.ru/lipeck/retailers/auchan'), market_link(sity='lipetsk', title='Абсолют', discounts=0, href='https://edadeal.ru/lipeck/retailers/absolyut'), market_link(sity='lipetsk', title='Фасоль', discounts=0, href='https://edadeal.ru/lipeck/retailers/myfasol')]\n"
     ]
    }
   ],
   "source": [
    "temp_retailer_links = list()\n",
    "for link in temp_url_list:\n",
    "    temp_retailer_links.append(_get_retailers_links(driver, link, 'lipetsk'))\n",
    "\n",
    "retailer_links = list(chain.from_iterable(temp_retailer_links))\n",
    "print(len(retailer_links))\n",
    "print(retailer_links)"
   ]
  },
  {
   "cell_type": "markdown",
   "id": "2619de30",
   "metadata": {},
   "source": [
    "#### Save/Load"
   ]
  },
  {
   "cell_type": "code",
   "execution_count": 192,
   "id": "cf4209f0-2850-474b-8935-ad2c9ee0757b",
   "metadata": {},
   "outputs": [],
   "source": [
    "with open('data/retailer_links.pickle', 'wb') as file:\n",
    "    pickle.dump(retailer_links, file)\n"
   ]
  },
  {
   "cell_type": "code",
   "execution_count": 11,
   "id": "54fd77fb-7162-4fc8-b0f6-42340515c128",
   "metadata": {},
   "outputs": [],
   "source": [
    "with open('data/retailer_links.pickle', 'rb') as file:\n",
    "    retailer_links = pickle.load(file)"
   ]
  },
  {
   "cell_type": "markdown",
   "id": "993f54bf-fd25-44c4-8c04-87a0d7a6c536",
   "metadata": {},
   "source": [
    "# Получение адресов Товаров"
   ]
  },
  {
   "cell_type": "code",
   "execution_count": 12,
   "id": "1f01e9c2-098b-45a3-a39d-077161b43c05",
   "metadata": {},
   "outputs": [
    {
     "data": {
      "text/plain": [
       "[market_link(sity='lipetsk', title='Магнит', discounts=10427, href='https://edadeal.ru/lipeck/retailers/magnit-univer'),\n",
       " market_link(sity='lipetsk', title='Пятёрочка', discounts=30, href='https://edadeal.ru/lipeck/retailers/5ka'),\n",
       " market_link(sity='lipetsk', title='Перекрёсток', discounts=1877, href='https://edadeal.ru/lipeck/retailers/perekrestok'),\n",
       " market_link(sity='lipetsk', title='Магнит Косметик', discounts=1037, href='https://edadeal.ru/lipeck/retailers/magnit-cosmo'),\n",
       " market_link(sity='lipetsk', title=\"О'кей гипермаркет\", discounts=853, href='https://edadeal.ru/lipeck/retailers/okmarket-giper'),\n",
       " market_link(sity='lipetsk', title='Лента Гипермаркет', discounts=5799, href='https://edadeal.ru/lipeck/retailers/lenta-giper'),\n",
       " market_link(sity='lipetsk', title='Победа', discounts=82, href='https://edadeal.ru/lipeck/retailers/pobeda'),\n",
       " market_link(sity='lipetsk', title='Чижик', discounts=15, href='https://edadeal.ru/lipeck/retailers/chizhik'),\n",
       " market_link(sity='lipetsk', title='Сытый Бацька', discounts=12, href='https://edadeal.ru/lipeck/retailers/sytyi_batka'),\n",
       " market_link(sity='lipetsk', title='Metro', discounts=6040, href='https://edadeal.ru/lipeck/retailers/metro-cc'),\n",
       " market_link(sity='lipetsk', title='Семь дней', discounts=342, href='https://edadeal.ru/lipeck/retailers/ts-7dney'),\n",
       " market_link(sity='lipetsk', title='Европа', discounts=737, href='https://edadeal.ru/lipeck/retailers/europa-ts'),\n",
       " market_link(sity='lipetsk', title='Рубль Бум', discounts=386, href='https://edadeal.ru/lipeck/retailers/1b'),\n",
       " market_link(sity='lipetsk', title='Закрома Беларуси', discounts=48, href='https://edadeal.ru/lipeck/retailers/zakroma-belarusi'),\n",
       " market_link(sity='lipetsk', title='Рыбоедов', discounts=12, href='https://edadeal.ru/lipeck/retailers/ryboedov'),\n",
       " market_link(sity='lipetsk', title='Правильная корзинка', discounts=13, href='https://edadeal.ru/lipeck/retailers/korzinka_6'),\n",
       " market_link(sity='lipetsk', title='Порядок', discounts=142, href='https://edadeal.ru/lipeck/retailers/poryadok'),\n",
       " market_link(sity='lipetsk', title='Перекресток-Экспресс', discounts=1321, href='https://edadeal.ru/lipeck/retailers/perekrestok-ekspress-ecom'),\n",
       " market_link(sity='lipetsk', title='Офисмаг', discounts=300, href='https://edadeal.ru/lipeck/retailers/officemag'),\n",
       " market_link(sity='lipetsk', title='Metro. Онлайн-доставка', discounts=2946, href='https://edadeal.ru/lipeck/retailers/metro-ru'),\n",
       " market_link(sity='lipetsk', title='Твоё', discounts=2637, href='https://edadeal.ru/lipeck/retailers/tvoyo'),\n",
       " market_link(sity='lipetsk', title='ВкусВилл', discounts=411, href='https://edadeal.ru/lipeck/retailers/vkusvill_offline'),\n",
       " market_link(sity='lipetsk', title='Детский мир', discounts=185, href='https://edadeal.ru/lipeck/retailers/detmir'),\n",
       " market_link(sity='lipetsk', title='Hoff', discounts=2146, href='https://edadeal.ru/lipeck/retailers/hoff'),\n",
       " market_link(sity='lipetsk', title='Подружка', discounts=81, href='https://edadeal.ru/lipeck/retailers/podrygka'),\n",
       " market_link(sity='lipetsk', title='Zenden', discounts=1258, href='https://edadeal.ru/lipeck/retailers/zenden'),\n",
       " market_link(sity='lipetsk', title='Золотое яблоко', discounts=2702, href='https://edadeal.ru/lipeck/retailers/zolote_iabloko'),\n",
       " market_link(sity='lipetsk', title='Finn Flare', discounts=980, href='https://edadeal.ru/lipeck/retailers/finn_flare'),\n",
       " market_link(sity='lipetsk', title='Твой дом', discounts=4229, href='https://edadeal.ru/lipeck/retailers/tvoi-dom'),\n",
       " market_link(sity='lipetsk', title='Mi-shop.com', discounts=207, href='https://edadeal.ru/lipeck/retailers/mi-shopcom'),\n",
       " market_link(sity='lipetsk', title='Л’Этуаль', discounts=1072, href='https://edadeal.ru/lipeck/retailers/letu'),\n",
       " market_link(sity='lipetsk', title='Ароматный мир', discounts=128, href='https://edadeal.ru/lipeck/retailers/amwine'),\n",
       " market_link(sity='lipetsk', title='Иль Де Ботэ', discounts=7311, href='https://edadeal.ru/lipeck/retailers/il-de-bote'),\n",
       " market_link(sity='lipetsk', title='Ситилинк', discounts=799, href='https://edadeal.ru/lipeck/retailers/sitilink'),\n",
       " market_link(sity='lipetsk', title='Две линии', discounts=308, href='https://edadeal.ru/lipeck/retailers/dve-linii'),\n",
       " market_link(sity='lipetsk', title='Ok Beauty', discounts=134, href='https://edadeal.ru/lipeck/retailers/ok-beauty'),\n",
       " market_link(sity='lipetsk', title='Polaris', discounts=414, href='https://edadeal.ru/lipeck/retailers/polaris'),\n",
       " market_link(sity='lipetsk', title='Зоозавр', discounts=2201, href='https://edadeal.ru/lipeck/retailers/zoozavr'),\n",
       " market_link(sity='lipetsk', title='Первый мебельный', discounts=2794, href='https://edadeal.ru/lipeck/retailers/pervyj-mebelnyj'),\n",
       " market_link(sity='lipetsk', title='Мильстрим', discounts=344, href='https://edadeal.ru/lipeck/retailers/milstrim'),\n",
       " market_link(sity='lipetsk', title='Ormatek', discounts=1775, href='https://edadeal.ru/lipeck/retailers/ormatek'),\n",
       " market_link(sity='lipetsk', title='Pleer.ru', discounts=1414, href='https://edadeal.ru/lipeck/retailers/pleerru'),\n",
       " market_link(sity='lipetsk', title='Randewoo', discounts=2042, href='https://edadeal.ru/lipeck/retailers/randewo'),\n",
       " market_link(sity='lipetsk', title='buyson', discounts=390, href='https://edadeal.ru/lipeck/retailers/buyson'),\n",
       " market_link(sity='lipetsk', title='Gulliver Market', discounts=1201, href='https://edadeal.ru/lipeck/retailers/gulliver-market'),\n",
       " market_link(sity='lipetsk', title='Липка', discounts=13, href='https://edadeal.ru/lipeck/retailers/lipka'),\n",
       " market_link(sity='lipetsk', title='Акушерство', discounts=1226, href='https://edadeal.ru/lipeck/retailers/akusherstvo'),\n",
       " market_link(sity='lipetsk', title='Созвездие Красоты', discounts=1033, href='https://edadeal.ru/lipeck/retailers/sozvezdie-krasoty'),\n",
       " market_link(sity='lipetsk', title='Доброцен', discounts=0, href='https://edadeal.ru/lipeck/retailers/dobrotsen'),\n",
       " market_link(sity='lipetsk', title='Светофор', discounts=0, href='https://edadeal.ru/lipeck/retailers/svetofor'),\n",
       " market_link(sity='lipetsk', title='Ашан', discounts=0, href='https://edadeal.ru/lipeck/retailers/auchan'),\n",
       " market_link(sity='lipetsk', title='Линия', discounts=0, href='https://edadeal.ru/lipeck/retailers/chain-stores-line'),\n",
       " market_link(sity='lipetsk', title='Абсолют', discounts=0, href='https://edadeal.ru/lipeck/retailers/absolyut'),\n",
       " market_link(sity='lipetsk', title='Фасоль', discounts=0, href='https://edadeal.ru/lipeck/retailers/myfasol'),\n",
       " market_link(sity='lipetsk', title='Fix Price', discounts=0, href='https://edadeal.ru/lipeck/retailers/fix-price')]"
      ]
     },
     "execution_count": 12,
     "metadata": {},
     "output_type": "execute_result"
    }
   ],
   "source": [
    "retailer_links"
   ]
  },
  {
   "cell_type": "code",
   "execution_count": null,
   "id": "4361234b-0455-415e-914c-49e495d7105a",
   "metadata": {},
   "outputs": [],
   "source": []
  }
 ],
 "metadata": {
  "kernelspec": {
   "display_name": "Python 3 (ipykernel)",
   "language": "python",
   "name": "python3"
  },
  "language_info": {
   "codemirror_mode": {
    "name": "ipython",
    "version": 3
   },
   "file_extension": ".py",
   "mimetype": "text/x-python",
   "name": "python",
   "nbconvert_exporter": "python",
   "pygments_lexer": "ipython3",
   "version": "3.11.4"
  }
 },
 "nbformat": 4,
 "nbformat_minor": 5
}
