{
 "cells": [
  {
   "cell_type": "code",
   "execution_count": 18,
   "metadata": {},
   "outputs": [],
   "source": [
    "from multiprocessing.dummy import Pool as ThreadPool\n",
    "from queue import Queue"
   ]
  },
  {
   "cell_type": "code",
   "execution_count": 28,
   "metadata": {},
   "outputs": [],
   "source": [
    "q = Queue()\n",
    "for i in range(10):\n",
    "    q.put(i,)\n",
    "\n",
    "test=['123', '456', '789', '123', '456', '789', '123', '456', '789']"
   ]
  },
  {
   "cell_type": "code",
   "execution_count": 15,
   "metadata": {},
   "outputs": [],
   "source": [
    "# q.get_nowait()"
   ]
  },
  {
   "cell_type": "code",
   "execution_count": 30,
   "metadata": {},
   "outputs": [],
   "source": [
    "def _master_worker(pool_in1:str):\n",
    "    def _slave_worker(pool_in2:str):\n",
    "        tmp = q.get_nowait()\n",
    "        q.put(tmp)\n",
    "        print(f'slave {tmp}')\n",
    "        \n",
    "        return int(pool_in2)\n",
    "    \n",
    "    k = list(pool_in1)\n",
    "    \n",
    "    tmp = q.get_nowait()\n",
    "    q.put(tmp)\n",
    "    print(f'master {tmp}')\n",
    "    with ThreadPool(3) as pool2:\n",
    "        return_worker = pool2.map(_slave_worker, k)\n",
    "    return return_worker\n",
    "\n",
    "def main(input_list):\n",
    "    with ThreadPool(3) as pool1:\n",
    "        return_worker = pool1.map(_master_worker, input_list)\n",
    "    print(return_worker)"
   ]
  },
  {
   "cell_type": "code",
   "execution_count": 31,
   "metadata": {},
   "outputs": [
    {
     "name": "stdout",
     "output_type": "stream",
     "text": [
      "master 6master 7\n",
      "master 8\n",
      "\n",
      "slave 9\n",
      "slave 0\n",
      "slave 1\n",
      "slave 2\n",
      "slave 3\n",
      "slave 4\n",
      "slave 5\n",
      "slave 6\n",
      "slave 7\n",
      "master 8\n",
      "master 9\n",
      "master 0\n",
      "slave 1\n",
      "slave 2\n",
      "slave 3\n",
      "slave 4\n",
      "slave 5\n",
      "slave 6\n",
      "slave 7\n",
      "slave 8\n",
      "slave 9\n",
      "master 0\n",
      "master 1\n",
      "master 2\n",
      "slave 3\n",
      "slave 4\n",
      "slave 5\n",
      "slave 6\n",
      "slave 7\n",
      "slave 8\n",
      "slave 9\n",
      "slave 0\n",
      "slave 1\n",
      "[[1, 2, 3], [4, 5, 6], [7, 8, 9], [1, 2, 3], [4, 5, 6], [7, 8, 9], [1, 2, 3], [4, 5, 6], [7, 8, 9]]\n"
     ]
    }
   ],
   "source": [
    "main(test)"
   ]
  }
 ],
 "metadata": {
  "kernelspec": {
   "display_name": "Python 3",
   "language": "python",
   "name": "python3"
  },
  "language_info": {
   "codemirror_mode": {
    "name": "ipython",
    "version": 3
   },
   "file_extension": ".py",
   "mimetype": "text/x-python",
   "name": "python",
   "nbconvert_exporter": "python",
   "pygments_lexer": "ipython3",
   "version": "3.11.6"
  }
 },
 "nbformat": 4,
 "nbformat_minor": 2
}
