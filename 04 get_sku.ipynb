{
 "cells": [
  {
   "cell_type": "markdown",
   "id": "76670f8e",
   "metadata": {},
   "source": [
    "- Здесь непосредственно загружаем внешнюю информацию об SKU.\n",
    "- Тут так же можно запускать весь ноутбук, правда есть несколько нюансов. (о них ниже)"
   ]
  },
  {
   "cell_type": "code",
   "execution_count": 2,
   "id": "744ddbd6-1408-430f-944d-4e36fa1d0681",
   "metadata": {},
   "outputs": [
    {
     "name": "stdout",
     "output_type": "stream",
     "text": [
      "INFO: Pandarallel will run on 16 workers.\n",
      "INFO: Pandarallel will use standard multiprocessing data transfer (pipe) to transfer data between the main process and workers.\n",
      "\n",
      "WARNING: You are on Windows. If you detect any issue with pandarallel, be sure you checked out the Troubleshooting page:\n",
      "https://nalepae.github.io/pandarallel/troubleshooting/\n"
     ]
    }
   ],
   "source": [
    "import pickle\n",
    "import pandas as pd\n",
    "import numpy as np\n",
    "import requests\n",
    "from requests.exceptions import ConnectTimeout, ChunkedEncodingError, ConnectionError, ReadTimeout, JSONDecodeError\n",
    "# from tqdm import tqdm\n",
    "from tqdm.notebook import tqdm\n",
    "import sys\n",
    "from multiprocessing.dummy import Pool as ThreadPool\n",
    "from time import sleep as time_sleep\n",
    "from pathlib import Path\n",
    "from datetime import datetime\n",
    "from pytz import timezone\n",
    "from pandarallel import pandarallel\n",
    "\n",
    "tqdm.pandas()\n",
    "requests.packages.urllib3.disable_warnings()\n",
    "pandarallel.initialize()"
   ]
  },
  {
   "cell_type": "code",
   "execution_count": 3,
   "id": "6de23daa",
   "metadata": {},
   "outputs": [],
   "source": [
    "start = datetime.strftime(datetime.now(timezone('Europe/Moscow')), '%Y-%b-%d %H:%M:%S')"
   ]
  },
  {
   "cell_type": "code",
   "execution_count": 4,
   "id": "511005a5-5847-45f3-97c8-5dfc013212df",
   "metadata": {},
   "outputs": [],
   "source": [
    "def _save_df_to_zip(df_: pd.DataFrame, archive_name: str = 'archive', folder: str='data', replace: bool=False) -> None:\n",
    "    # Путь к файлу\n",
    "    file_path = Path(folder).joinpath(archive_name + '.zip')\n",
    "    Path(folder).mkdir(exist_ok=True)\n",
    "    # Проверяем, существует ли файл\n",
    "    if file_path.exists() and not replace:\n",
    "        # Получаем время создания файла\n",
    "        time = datetime.fromtimestamp(file_path.lstat().st_atime).strftime('%Y-%m-%d %H-%M')\n",
    "\n",
    "        # Создаем новое имя файла с добавлением времени Unix\n",
    "        new_file_name = file_path.stem + \" \" + str(time) + file_path.suffix\n",
    "\n",
    "        # Создаем новый путь для переименованного файла\n",
    "        new_file_path = file_path.with_name(new_file_name)\n",
    "        # Переименовываем файл\n",
    "        file_path.rename(new_file_path)\n",
    "\n",
    "# to csv\n",
    "    compression_opts = dict(method='zip', archive_name=f'{archive_name}.csv')\n",
    "    df_.to_csv(f'{folder}/{archive_name}.zip', index=False, compression=compression_opts, encoding='utf-8')"
   ]
  },
  {
   "cell_type": "code",
   "execution_count": 5,
   "id": "acd9cc34-af31-406f-9a91-15f646194d1a",
   "metadata": {},
   "outputs": [],
   "source": [
    "seg_df = pd.read_csv('data/segments.zip')\n",
    "ret_df = pd.read_csv('data/retailers.zip')\n",
    "loc_df = pd.read_csv('data/located_list.zip')\n",
    "seg_id_df = pd.read_csv('data/segments_id.zip')[['uuid', 'name']].drop_duplicates(ignore_index=True)"
   ]
  },
  {
   "cell_type": "markdown",
   "id": "e502474d",
   "metadata": {},
   "source": [
    "# Function"
   ]
  },
  {
   "cell_type": "markdown",
   "id": "49b52bb3-1096-4c50-abb9-1fd769677879",
   "metadata": {},
   "source": [
    "## Запрос"
   ]
  },
  {
   "cell_type": "code",
   "execution_count": 6,
   "id": "d51811bc-b5f0-4444-aba1-30705a06b95b",
   "metadata": {
    "scrolled": true
   },
   "outputs": [],
   "source": [
    "def separation_frame(input_df: pd.DataFrame, sep: int=5) -> list[pd.DataFrame]:\n",
    "    \"\"\"\n",
    "        Функция для дробления DataFrame, что бы потом паралельно обрабатывать их паралельно.\n",
    "        sep: Сколько процентов будет занимать сегмент.\n",
    "    \"\"\"\n",
    "    out_list = list()\n",
    "    chunk_size = input_df.shape[0] // int(100/sep)\n",
    "    for index in range(0, input_df.shape[0], chunk_size):\n",
    "        out_list.append(input_df.iloc[index:index+chunk_size].reset_index())\n",
    "    return out_list\n",
    "\n",
    "def get_data(pool_input: tuple[tqdm, tuple[int, str]]):\n",
    "    \n",
    "    \n",
    "    def get_response(url, params, headers):\n",
    "        for _ in range(5):\n",
    "            try:\n",
    "                respons = requests.get(url, params=params, headers=headers, timeout=(10, 30), verify=False)\n",
    "            except ConnectTimeout:\n",
    "                time_sleep(1)\n",
    "                continue\n",
    "            except ChunkedEncodingError:\n",
    "                time_sleep(1)\n",
    "                continue\n",
    "            except ConnectionError:\n",
    "                time_sleep(1)\n",
    "                continue\n",
    "            except ReadTimeout:\n",
    "                time_sleep(1)\n",
    "                continue\n",
    "            except Exception:\n",
    "                exc_type, exc_obj, exc_tb = sys.exc_info()\n",
    "                print(exc_type.__name__)\n",
    "                return None\n",
    "            else:    \n",
    "                try:\n",
    "                    return respons.json().get('items', None)\n",
    "                except JSONDecodeError:\n",
    "                    return None\n",
    "        else:\n",
    "            return None    \n",
    "    \n",
    "    \n",
    "        \n",
    "    pbar, (index, item) = pool_input\n",
    "    \n",
    "    out_list = list()\n",
    "    \n",
    "    res = loc_df[loc_df['slug'] == item.sity].min()\n",
    "    headers = {\n",
    "                'x-locality-geoid': str(res.geoId),\n",
    "                'x-position-latitude': f'{res.lat:.5f}',\n",
    "                'x-position-longitude': f'{res.lng:.5f}'\n",
    "                }\n",
    "        \n",
    "    url = f'https://search.edadeal.io/api/v4/retailer/{item.data_uuid}/items'\n",
    "\n",
    "    params = {  'addContent': ['true'],\n",
    "                'checkAdult': ['true'],\n",
    "                'excludeSegmentSlug': ['alcohol', 'pt_alcool', 'en_alcohol', 'es_alcohol', 'tr_alkol'],\n",
    "                'groupBy': ['sku_or_meta'],\n",
    "                'numdoc': ['599'],\n",
    "                'page': ['0'],\n",
    "                'segmentUuid': []\n",
    "             }\n",
    "\n",
    "    # for su1 in tqdm(seg_df['uuid'].unique()[:], desc=f'{item.sity} / {item.market}', leave=False):\n",
    "    for su1 in seg_df['uuid'].unique()[:]:\n",
    "        params['segmentUuid'] = [su1]\n",
    "        \n",
    "        respons_1 = get_response(url, params, headers)\n",
    "        \n",
    "        if respons_1:\n",
    "            tmp_list_01 = list()\n",
    "            \n",
    "            try:\n",
    "                su2_list = list(set([(x.get('segmentUuids', []))[-1] for x in respons_1]))\n",
    "                len_sku_list = len(su2_list)\n",
    "            except Exception:\n",
    "                su2_list = None\n",
    "            \n",
    "            if not su2_list or (len_sku_list>550):\n",
    "                su2_list = seg_df[seg_df['uuid'] == su1]['uuid level 02'].unique()\n",
    "            \n",
    "            for su2 in su2_list:\n",
    "                params['segmentUuid'] = [su2]\n",
    "\n",
    "                respons_2 = get_response(url, params, headers)\n",
    "                                \n",
    "                if respons_2:\n",
    "                    tmp_list_02 = list()\n",
    "                    try:\n",
    "                        su3_list = list(set([(x.get('segmentUuids', []))[-1] for x in respons_2]))\n",
    "                        len_sku_list = len(su3_list)\n",
    "                    except Exception:\n",
    "                        su3_list = None\n",
    "                    \n",
    "                    if not su3_list or (len_sku_list>550):\n",
    "                        su3_list = seg_df[(seg_df['uuid'] == su1) & (seg_df['uuid level 02'] == su2)]['uuid level 03'].unique()\n",
    "                    \n",
    "                    for su3 in su3_list:\n",
    "                        params['segmentUuid'] = [su3]\n",
    "                        respons_3 = get_response(url, params, headers)\n",
    "\n",
    "                        if respons_3:\n",
    "                            tmp_list_02.append((su3, respons_3))\n",
    "                    \n",
    "                    if tmp_list_02:\n",
    "                        tmp_list_01.extend(tmp_list_02)\n",
    "                    else:\n",
    "                        tmp_list_01.append((su2, respons_2))\n",
    "\n",
    "            if tmp_list_01:\n",
    "                out_list.extend(tmp_list_01)\n",
    "            else:\n",
    "                out_list.append((su1, respons_1))\n",
    "        else:\n",
    "            continue\n",
    "            \n",
    "    pbar.update(1)\n",
    "    return (item, out_list)\n",
    "\n",
    "def run_get_price(list_input, cores: int=2):\n",
    "    # Первый нюанс!!!!!!!!!!!!!!!!!!!!!!!!!!!!!!!!!!!!!!!!!!!!!!!!!!!!!!!!!!!!!!!!!!!!!!!!!!!!!!!!!!!!!!!!!!!!!!!!!!!!!!!!!!!!!!!!!!!!!!!!!\n",
    "    # Функция деления на потоки.\n",
    "    # где cores - это количество потоков\n",
    "    with tqdm(total=len(list_input), desc='Download', leave=False) as pbar:\n",
    "        list_to_pool = list(zip(([pbar]*len(list_input)), list_input))\n",
    "        with ThreadPool(cores) as pool:\n",
    "            work_return = pool.map(get_data, list_to_pool)\n",
    "    return work_return"
   ]
  },
  {
   "cell_type": "code",
   "execution_count": 7,
   "id": "6e57e42e-f1be-4cc6-9967-b0f3069f37c4",
   "metadata": {},
   "outputs": [],
   "source": [
    "def convert_data_to_df(input_list: list, seg_id_df) -> pd.DataFrame:\n",
    "    import pandas as pd\n",
    "    import numpy as np\n",
    "    def convert_to_df(x: dict[str,dict[str,dict]]):\n",
    "        if not pd.isnull(x):\n",
    "            tmp_df = pd.Series({\n",
    "                                            'title': x.get('title', np.nan),\n",
    "                                            'sku_id': x.get('uuid', np.nan),\n",
    "                                            'dateStart': pd.to_datetime(x.get('dateStart', np.nan), unit='ms'),\n",
    "                                            'dateEnd': pd.to_datetime(x.get('dateEnd', np.nan), unit='ms'),\n",
    "                                            'price': x.get('priceData', {}).get('new', {}).get('from', np.nan),\n",
    "                                            'price_from': x.get('priceData', {}).get('new', {}).get('to', np.nan),\n",
    "                                            'price_to': x.get('priceData', {}).get('new', {}).get('value', np.nan),\n",
    "                                            'discountPercent': x.get('discountPercent', np.nan),\n",
    "                                            'quantity': x.get('quantity', np.nan),\n",
    "                                            'quantityUnit': x.get('quantityUnit', np.nan),\n",
    "                                            'segmentUuids': x.get('segmentUuids', np.nan),\n",
    "            })\n",
    "            \n",
    "        else:\n",
    "            tmp_df = pd.Series({\n",
    "                                            'title': np.nan,\n",
    "                                            'sku_id': np.nan,\n",
    "                                            'dateStart': pd.to_datetime(np.nan, unit='ms'),\n",
    "                                            'dateEnd': pd.to_datetime(np.nan, unit='ms'),\n",
    "                                            'price': np.nan,\n",
    "                                            'price_from': np.nan,\n",
    "                                            'price_to': np.nan,\n",
    "                                            'discountPercent': np.nan,\n",
    "                                            'quantity': np.nan,\n",
    "                                            'quantityUnit': np.nan,\n",
    "                                            'segmentUuids': np.nan,\n",
    "            })\n",
    "        return tmp_df\n",
    "        \n",
    "    \n",
    "    tmp_df = pd.Series(input_list, name='tmp').to_frame()\n",
    "    tmp_df[['market', 'tmp']] = tmp_df['tmp'].apply(lambda x: pd.Series(x))\n",
    "    tmp_df = pd.concat((tmp_df['market'].apply(lambda x: x), tmp_df['tmp']), axis=1)\n",
    "    tmp_df['date'] = pd.to_datetime(tmp_df['date'])\n",
    "    tmp_df = tmp_df.explode('tmp', ignore_index=True)\n",
    "    tmp_df[['uuid', 'tmp']] = tmp_df['tmp'].apply(lambda x: pd.Series(x))\n",
    "    tmp_df = tmp_df.explode('tmp', ignore_index=True)\n",
    "    # Второй нюанс!!!!!!!!!!!!!!!!!!!!!!!!!!!!!!!!!!!!!!!!!!!!!!!!!!!!!!!!!!!!!!!!!!!!!!!!!!!!!!!!!!!!!!!!!!!!!!!!!!!!!!!!!!\n",
    "    # Для ускорения работы обработки данных использую паралельное вычисление,\n",
    "    # Закоментирован вариант без паралельной обработки.\n",
    "    # tmp_df = pd.concat((tmp_df, tmp_df['tmp'].apply(convert_to_df)), axis=1)\n",
    "    tmp_df = pd.concat((tmp_df, tmp_df['tmp'].parallel_apply(convert_to_df)), axis=1)\n",
    "    tmp_df[['su1', 'su2', 'su3']] = tmp_df['segmentUuids'].apply(lambda x: pd.Series(x))\n",
    "    tmp_df['title'] = tmp_df['title'].str.replace('\\n', ' ')\n",
    "    \n",
    "    tmp_df = tmp_df[[\n",
    "                    # 'index',\n",
    "                    'date',\n",
    "                    'sity',\n",
    "                    'market',\n",
    "                    'discounts',\n",
    "                    'data_uuid',\n",
    "                    'href',\n",
    "                    # 'tmp',\n",
    "                    # 'uuid',\n",
    "                    'su1',\n",
    "                    'su2',\n",
    "                    'su3',\n",
    "                    'title',\n",
    "                    'sku_id',\n",
    "                    'dateStart',\n",
    "                    'dateEnd',\n",
    "                    'price',\n",
    "                    'price_from',\n",
    "                    'price_to',\n",
    "                    'discountPercent',\n",
    "                    'quantity',\n",
    "                    'quantityUnit',\n",
    "                    # 'segmentUuids',\n",
    "                    ]]\n",
    "    \n",
    "    tmp_df = tmp_df.drop_duplicates(ignore_index=True)\n",
    "    \n",
    "    tmp_df['su1'] = tmp_df['su1'].to_frame().merge(\n",
    "                                                    right=seg_id_df,\n",
    "                                                    how='left',\n",
    "                                                    left_on='su1',\n",
    "                                                    right_on='uuid'\n",
    "                                                    )['name']\n",
    "\n",
    "    tmp_df['su2'] = tmp_df['su2'].to_frame().merge(\n",
    "                                                    right=seg_id_df,\n",
    "                                                    how='left',\n",
    "                                                    left_on='su2',\n",
    "                                                    right_on='uuid'\n",
    "                                                    )['name']\n",
    "\n",
    "    tmp_df['su3'] = tmp_df['su3'].to_frame().merge(\n",
    "                                                    right=seg_id_df,\n",
    "                                                    how='left',\n",
    "                                                    left_on='su3',\n",
    "                                                    right_on='uuid'\n",
    "                                                    )['name']\n",
    "    \n",
    "    tmp_df['sity'] = tmp_df['sity'].to_frame().merge(\n",
    "                                                right=loc_df,\n",
    "                                                how='left',\n",
    "                                                left_on='sity',\n",
    "                                                right_on='slug'\n",
    "                                                )['localityName']\n",
    "    \n",
    "    \n",
    "    return tmp_df"
   ]
  },
  {
   "cell_type": "code",
   "execution_count": 8,
   "id": "a058d08b-9bf2-4907-bc62-fa96ffa82ae6",
   "metadata": {},
   "outputs": [
    {
     "data": {
      "application/vnd.jupyter.widget-view+json": {
       "model_id": "b9e07d04676b46c4a18e98019a0c217c",
       "version_major": 2,
       "version_minor": 0
      },
      "text/plain": [
       "Total:   0%|          | 0/34 [00:00<?, ?it/s]"
      ]
     },
     "metadata": {},
     "output_type": "display_data"
    },
    {
     "data": {
      "application/vnd.jupyter.widget-view+json": {
       "model_id": "",
       "version_major": 2,
       "version_minor": 0
      },
      "text/plain": [
       "Download:   0%|          | 0/162 [00:00<?, ?it/s]"
      ]
     },
     "metadata": {},
     "output_type": "display_data"
    },
    {
     "data": {
      "application/vnd.jupyter.widget-view+json": {
       "model_id": "",
       "version_major": 2,
       "version_minor": 0
      },
      "text/plain": [
       "Download:   0%|          | 0/162 [00:00<?, ?it/s]"
      ]
     },
     "metadata": {},
     "output_type": "display_data"
    },
    {
     "data": {
      "application/vnd.jupyter.widget-view+json": {
       "model_id": "",
       "version_major": 2,
       "version_minor": 0
      },
      "text/plain": [
       "Download:   0%|          | 0/162 [00:00<?, ?it/s]"
      ]
     },
     "metadata": {},
     "output_type": "display_data"
    },
    {
     "data": {
      "application/vnd.jupyter.widget-view+json": {
       "model_id": "",
       "version_major": 2,
       "version_minor": 0
      },
      "text/plain": [
       "Download:   0%|          | 0/162 [00:00<?, ?it/s]"
      ]
     },
     "metadata": {},
     "output_type": "display_data"
    },
    {
     "data": {
      "application/vnd.jupyter.widget-view+json": {
       "model_id": "",
       "version_major": 2,
       "version_minor": 0
      },
      "text/plain": [
       "Download:   0%|          | 0/162 [00:00<?, ?it/s]"
      ]
     },
     "metadata": {},
     "output_type": "display_data"
    },
    {
     "data": {
      "application/vnd.jupyter.widget-view+json": {
       "model_id": "",
       "version_major": 2,
       "version_minor": 0
      },
      "text/plain": [
       "Download:   0%|          | 0/162 [00:00<?, ?it/s]"
      ]
     },
     "metadata": {},
     "output_type": "display_data"
    },
    {
     "data": {
      "application/vnd.jupyter.widget-view+json": {
       "model_id": "",
       "version_major": 2,
       "version_minor": 0
      },
      "text/plain": [
       "Download:   0%|          | 0/162 [00:00<?, ?it/s]"
      ]
     },
     "metadata": {},
     "output_type": "display_data"
    },
    {
     "data": {
      "application/vnd.jupyter.widget-view+json": {
       "model_id": "",
       "version_major": 2,
       "version_minor": 0
      },
      "text/plain": [
       "Download:   0%|          | 0/162 [00:00<?, ?it/s]"
      ]
     },
     "metadata": {},
     "output_type": "display_data"
    },
    {
     "data": {
      "application/vnd.jupyter.widget-view+json": {
       "model_id": "",
       "version_major": 2,
       "version_minor": 0
      },
      "text/plain": [
       "Download:   0%|          | 0/162 [00:00<?, ?it/s]"
      ]
     },
     "metadata": {},
     "output_type": "display_data"
    },
    {
     "data": {
      "application/vnd.jupyter.widget-view+json": {
       "model_id": "",
       "version_major": 2,
       "version_minor": 0
      },
      "text/plain": [
       "Download:   0%|          | 0/162 [00:00<?, ?it/s]"
      ]
     },
     "metadata": {},
     "output_type": "display_data"
    },
    {
     "data": {
      "application/vnd.jupyter.widget-view+json": {
       "model_id": "",
       "version_major": 2,
       "version_minor": 0
      },
      "text/plain": [
       "Download:   0%|          | 0/162 [00:00<?, ?it/s]"
      ]
     },
     "metadata": {},
     "output_type": "display_data"
    },
    {
     "data": {
      "application/vnd.jupyter.widget-view+json": {
       "model_id": "",
       "version_major": 2,
       "version_minor": 0
      },
      "text/plain": [
       "Download:   0%|          | 0/162 [00:00<?, ?it/s]"
      ]
     },
     "metadata": {},
     "output_type": "display_data"
    },
    {
     "data": {
      "application/vnd.jupyter.widget-view+json": {
       "model_id": "",
       "version_major": 2,
       "version_minor": 0
      },
      "text/plain": [
       "Download:   0%|          | 0/162 [00:00<?, ?it/s]"
      ]
     },
     "metadata": {},
     "output_type": "display_data"
    },
    {
     "data": {
      "application/vnd.jupyter.widget-view+json": {
       "model_id": "",
       "version_major": 2,
       "version_minor": 0
      },
      "text/plain": [
       "Download:   0%|          | 0/162 [00:00<?, ?it/s]"
      ]
     },
     "metadata": {},
     "output_type": "display_data"
    },
    {
     "data": {
      "application/vnd.jupyter.widget-view+json": {
       "model_id": "",
       "version_major": 2,
       "version_minor": 0
      },
      "text/plain": [
       "Download:   0%|          | 0/162 [00:00<?, ?it/s]"
      ]
     },
     "metadata": {},
     "output_type": "display_data"
    },
    {
     "data": {
      "application/vnd.jupyter.widget-view+json": {
       "model_id": "",
       "version_major": 2,
       "version_minor": 0
      },
      "text/plain": [
       "Download:   0%|          | 0/162 [00:00<?, ?it/s]"
      ]
     },
     "metadata": {},
     "output_type": "display_data"
    },
    {
     "data": {
      "application/vnd.jupyter.widget-view+json": {
       "model_id": "",
       "version_major": 2,
       "version_minor": 0
      },
      "text/plain": [
       "Download:   0%|          | 0/162 [00:00<?, ?it/s]"
      ]
     },
     "metadata": {},
     "output_type": "display_data"
    },
    {
     "data": {
      "application/vnd.jupyter.widget-view+json": {
       "model_id": "",
       "version_major": 2,
       "version_minor": 0
      },
      "text/plain": [
       "Download:   0%|          | 0/162 [00:00<?, ?it/s]"
      ]
     },
     "metadata": {},
     "output_type": "display_data"
    },
    {
     "data": {
      "application/vnd.jupyter.widget-view+json": {
       "model_id": "",
       "version_major": 2,
       "version_minor": 0
      },
      "text/plain": [
       "Download:   0%|          | 0/162 [00:00<?, ?it/s]"
      ]
     },
     "metadata": {},
     "output_type": "display_data"
    },
    {
     "data": {
      "application/vnd.jupyter.widget-view+json": {
       "model_id": "",
       "version_major": 2,
       "version_minor": 0
      },
      "text/plain": [
       "Download:   0%|          | 0/162 [00:00<?, ?it/s]"
      ]
     },
     "metadata": {},
     "output_type": "display_data"
    },
    {
     "data": {
      "application/vnd.jupyter.widget-view+json": {
       "model_id": "",
       "version_major": 2,
       "version_minor": 0
      },
      "text/plain": [
       "Download:   0%|          | 0/162 [00:00<?, ?it/s]"
      ]
     },
     "metadata": {},
     "output_type": "display_data"
    },
    {
     "data": {
      "application/vnd.jupyter.widget-view+json": {
       "model_id": "",
       "version_major": 2,
       "version_minor": 0
      },
      "text/plain": [
       "Download:   0%|          | 0/162 [00:00<?, ?it/s]"
      ]
     },
     "metadata": {},
     "output_type": "display_data"
    },
    {
     "data": {
      "application/vnd.jupyter.widget-view+json": {
       "model_id": "",
       "version_major": 2,
       "version_minor": 0
      },
      "text/plain": [
       "Download:   0%|          | 0/162 [00:00<?, ?it/s]"
      ]
     },
     "metadata": {},
     "output_type": "display_data"
    },
    {
     "data": {
      "application/vnd.jupyter.widget-view+json": {
       "model_id": "",
       "version_major": 2,
       "version_minor": 0
      },
      "text/plain": [
       "Download:   0%|          | 0/162 [00:00<?, ?it/s]"
      ]
     },
     "metadata": {},
     "output_type": "display_data"
    },
    {
     "data": {
      "application/vnd.jupyter.widget-view+json": {
       "model_id": "",
       "version_major": 2,
       "version_minor": 0
      },
      "text/plain": [
       "Download:   0%|          | 0/162 [00:00<?, ?it/s]"
      ]
     },
     "metadata": {},
     "output_type": "display_data"
    },
    {
     "data": {
      "application/vnd.jupyter.widget-view+json": {
       "model_id": "",
       "version_major": 2,
       "version_minor": 0
      },
      "text/plain": [
       "Download:   0%|          | 0/162 [00:00<?, ?it/s]"
      ]
     },
     "metadata": {},
     "output_type": "display_data"
    },
    {
     "data": {
      "application/vnd.jupyter.widget-view+json": {
       "model_id": "",
       "version_major": 2,
       "version_minor": 0
      },
      "text/plain": [
       "Download:   0%|          | 0/162 [00:00<?, ?it/s]"
      ]
     },
     "metadata": {},
     "output_type": "display_data"
    },
    {
     "data": {
      "application/vnd.jupyter.widget-view+json": {
       "model_id": "",
       "version_major": 2,
       "version_minor": 0
      },
      "text/plain": [
       "Download:   0%|          | 0/162 [00:00<?, ?it/s]"
      ]
     },
     "metadata": {},
     "output_type": "display_data"
    },
    {
     "data": {
      "application/vnd.jupyter.widget-view+json": {
       "model_id": "",
       "version_major": 2,
       "version_minor": 0
      },
      "text/plain": [
       "Download:   0%|          | 0/162 [00:00<?, ?it/s]"
      ]
     },
     "metadata": {},
     "output_type": "display_data"
    },
    {
     "data": {
      "application/vnd.jupyter.widget-view+json": {
       "model_id": "",
       "version_major": 2,
       "version_minor": 0
      },
      "text/plain": [
       "Download:   0%|          | 0/162 [00:00<?, ?it/s]"
      ]
     },
     "metadata": {},
     "output_type": "display_data"
    },
    {
     "data": {
      "application/vnd.jupyter.widget-view+json": {
       "model_id": "",
       "version_major": 2,
       "version_minor": 0
      },
      "text/plain": [
       "Download:   0%|          | 0/162 [00:00<?, ?it/s]"
      ]
     },
     "metadata": {},
     "output_type": "display_data"
    },
    {
     "data": {
      "application/vnd.jupyter.widget-view+json": {
       "model_id": "",
       "version_major": 2,
       "version_minor": 0
      },
      "text/plain": [
       "Download:   0%|          | 0/162 [00:00<?, ?it/s]"
      ]
     },
     "metadata": {},
     "output_type": "display_data"
    },
    {
     "data": {
      "application/vnd.jupyter.widget-view+json": {
       "model_id": "",
       "version_major": 2,
       "version_minor": 0
      },
      "text/plain": [
       "Download:   0%|          | 0/162 [00:00<?, ?it/s]"
      ]
     },
     "metadata": {},
     "output_type": "display_data"
    },
    {
     "data": {
      "application/vnd.jupyter.widget-view+json": {
       "model_id": "",
       "version_major": 2,
       "version_minor": 0
      },
      "text/plain": [
       "Download:   0%|          | 0/8 [00:00<?, ?it/s]"
      ]
     },
     "metadata": {},
     "output_type": "display_data"
    },
    {
     "name": "stdout",
     "output_type": "stream",
     "text": [
      "CPU times: total: 1h 18min\n",
      "Wall time: 4h 21min 56s\n"
     ]
    }
   ],
   "source": [
    "%%time\n",
    "frame_list = separation_frame(ret_df, 3)\n",
    "with tqdm(total=len(frame_list), desc='Total') as pbar:\n",
    "    for index, df in enumerate(frame_list):\n",
    "        out = run_get_price(list(df.iterrows()), cores=200)\n",
    "        out = convert_data_to_df(out, seg_id_df)\n",
    "        _save_df_to_zip(out, f'result {index:04d}')\n",
    "        pbar.update(1)"
   ]
  },
  {
   "cell_type": "markdown",
   "id": "9dbd4135",
   "metadata": {},
   "source": [
    "## Time Info"
   ]
  },
  {
   "cell_type": "code",
   "execution_count": 9,
   "id": "df8ff7db",
   "metadata": {},
   "outputs": [
    {
     "name": "stdout",
     "output_type": "stream",
     "text": [
      "Начало: 2023-Oct-03 10:26:17\n",
      "Конец: 2023-Oct-03 14:48:14\n"
     ]
    }
   ],
   "source": [
    "end = datetime.strftime(datetime.now(timezone('Europe/Moscow')), '%Y-%b-%d %H:%M:%S')\n",
    "print(f'Начало: {start}')\n",
    "print(f'Конец: {end}')"
   ]
  }
 ],
 "metadata": {
  "kernelspec": {
   "display_name": "Python 3 (ipykernel)",
   "language": "python",
   "name": "python3"
  },
  "language_info": {
   "codemirror_mode": {
    "name": "ipython",
    "version": 3
   },
   "file_extension": ".py",
   "mimetype": "text/x-python",
   "name": "python",
   "nbconvert_exporter": "python",
   "pygments_lexer": "ipython3",
   "version": "3.11.4"
  }
 },
 "nbformat": 4,
 "nbformat_minor": 5
}
